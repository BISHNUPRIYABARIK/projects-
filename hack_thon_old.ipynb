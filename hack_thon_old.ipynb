{
 "cells": [
  {
   "cell_type": "code",
   "execution_count": 1,
   "id": "96c59a86",
   "metadata": {},
   "outputs": [
    {
     "data": {
      "text/plain": [
       "<Figure size 720x540 with 0 Axes>"
      ]
     },
     "metadata": {},
     "output_type": "display_data"
    }
   ],
   "source": [
    "#import libraries\n",
    "import pandas as pd\n",
    "import numpy as np\n",
    "import scipy.stats as stats\n",
    "import matplotlib.pyplot as plt\n",
    "import seaborn as sns\n",
    "import statsmodels.formula.api as sm\n",
    "import pandas_profiling\n",
    "\n",
    "%matplotlib inline\n",
    "plt.rcParams['figure.figsize']=10,7.5\n",
    "plt.rcParams['axes.grid']=True\n",
    "plt.gray()\n",
    "\n",
    "from matplotlib.backends.backend_pdf import PdfPages\n",
    "from sklearn.model_selection import train_test_split\n",
    "from sklearn import metrics\n",
    "from sklearn.linear_model import LogisticRegression\n",
    "from statsmodels.stats.outliers_influence import variance_inflation_factor\n",
    "from patsy import dmatrices\n",
    "from sklearn.metrics import accuracy_score,confusion_matrix,classification_report,accuracy_score,roc_auc_score"
   ]
  },
  {
   "cell_type": "code",
   "execution_count": 2,
   "id": "7767b367",
   "metadata": {},
   "outputs": [
    {
     "data": {
      "text/html": [
       "<div>\n",
       "<style scoped>\n",
       "    .dataframe tbody tr th:only-of-type {\n",
       "        vertical-align: middle;\n",
       "    }\n",
       "\n",
       "    .dataframe tbody tr th {\n",
       "        vertical-align: top;\n",
       "    }\n",
       "\n",
       "    .dataframe thead th {\n",
       "        text-align: right;\n",
       "    }\n",
       "</style>\n",
       "<table border=\"1\" class=\"dataframe\">\n",
       "  <thead>\n",
       "    <tr style=\"text-align: right;\">\n",
       "      <th></th>\n",
       "      <th>ID</th>\n",
       "      <th>Age</th>\n",
       "      <th>Gender</th>\n",
       "      <th>Income</th>\n",
       "      <th>Balance</th>\n",
       "      <th>Vintage</th>\n",
       "      <th>Transaction_Status</th>\n",
       "      <th>Product_Holdings</th>\n",
       "      <th>Credit_Card</th>\n",
       "      <th>Credit_Category</th>\n",
       "      <th>Is_Churn</th>\n",
       "    </tr>\n",
       "  </thead>\n",
       "  <tbody>\n",
       "    <tr>\n",
       "      <th>0</th>\n",
       "      <td>84e2fcc9</td>\n",
       "      <td>36</td>\n",
       "      <td>Female</td>\n",
       "      <td>5L - 10L</td>\n",
       "      <td>563266.44</td>\n",
       "      <td>4</td>\n",
       "      <td>0</td>\n",
       "      <td>1</td>\n",
       "      <td>0</td>\n",
       "      <td>Average</td>\n",
       "      <td>1</td>\n",
       "    </tr>\n",
       "    <tr>\n",
       "      <th>1</th>\n",
       "      <td>57fea15e</td>\n",
       "      <td>53</td>\n",
       "      <td>Female</td>\n",
       "      <td>Less than 5L</td>\n",
       "      <td>875572.11</td>\n",
       "      <td>2</td>\n",
       "      <td>1</td>\n",
       "      <td>1</td>\n",
       "      <td>1</td>\n",
       "      <td>Poor</td>\n",
       "      <td>0</td>\n",
       "    </tr>\n",
       "    <tr>\n",
       "      <th>2</th>\n",
       "      <td>8df34ef3</td>\n",
       "      <td>35</td>\n",
       "      <td>Female</td>\n",
       "      <td>More than 15L</td>\n",
       "      <td>701607.06</td>\n",
       "      <td>2</td>\n",
       "      <td>1</td>\n",
       "      <td>2</td>\n",
       "      <td>0</td>\n",
       "      <td>Poor</td>\n",
       "      <td>0</td>\n",
       "    </tr>\n",
       "    <tr>\n",
       "      <th>3</th>\n",
       "      <td>c5c0788b</td>\n",
       "      <td>43</td>\n",
       "      <td>Female</td>\n",
       "      <td>More than 15L</td>\n",
       "      <td>1393922.16</td>\n",
       "      <td>0</td>\n",
       "      <td>1</td>\n",
       "      <td>2</td>\n",
       "      <td>1</td>\n",
       "      <td>Poor</td>\n",
       "      <td>1</td>\n",
       "    </tr>\n",
       "    <tr>\n",
       "      <th>4</th>\n",
       "      <td>951d69c4</td>\n",
       "      <td>39</td>\n",
       "      <td>Female</td>\n",
       "      <td>More than 15L</td>\n",
       "      <td>893146.23</td>\n",
       "      <td>1</td>\n",
       "      <td>1</td>\n",
       "      <td>1</td>\n",
       "      <td>1</td>\n",
       "      <td>Good</td>\n",
       "      <td>1</td>\n",
       "    </tr>\n",
       "  </tbody>\n",
       "</table>\n",
       "</div>"
      ],
      "text/plain": [
       "         ID  Age  Gender         Income     Balance  Vintage  \\\n",
       "0  84e2fcc9   36  Female       5L - 10L   563266.44        4   \n",
       "1  57fea15e   53  Female   Less than 5L   875572.11        2   \n",
       "2  8df34ef3   35  Female  More than 15L   701607.06        2   \n",
       "3  c5c0788b   43  Female  More than 15L  1393922.16        0   \n",
       "4  951d69c4   39  Female  More than 15L   893146.23        1   \n",
       "\n",
       "   Transaction_Status Product_Holdings  Credit_Card Credit_Category  Is_Churn  \n",
       "0                   0                1            0         Average         1  \n",
       "1                   1                1            1            Poor         0  \n",
       "2                   1                2            0            Poor         0  \n",
       "3                   1                2            1            Poor         1  \n",
       "4                   1                1            1            Good         1  "
      ]
     },
     "execution_count": 2,
     "metadata": {},
     "output_type": "execute_result"
    }
   ],
   "source": [
    "#reading csv file in dataframe\n",
    "existing_customer=pd.read_csv(r'C:\\Users\\ASUS-PC\\Downloads\\train_PDjVQMB.csv')\n",
    "existing_customer.head()"
   ]
  },
  {
   "cell_type": "markdown",
   "id": "c1c02242",
   "metadata": {},
   "source": [
    "# data preprocessing"
   ]
  },
  {
   "cell_type": "code",
   "execution_count": 3,
   "id": "daf3dfda",
   "metadata": {},
   "outputs": [
    {
     "data": {
      "text/plain": [
       "0    5113\n",
       "1    1537\n",
       "Name: Is_Churn, dtype: int64"
      ]
     },
     "execution_count": 3,
     "metadata": {},
     "output_type": "execute_result"
    }
   ],
   "source": [
    "# Counting Target Variable Values\n",
    "\n",
    "existing_customer.Is_Churn.value_counts()"
   ]
  },
  {
   "cell_type": "code",
   "execution_count": 4,
   "id": "9db08d87",
   "metadata": {},
   "outputs": [
    {
     "data": {
      "text/plain": [
       "ID                    0\n",
       "Age                   0\n",
       "Gender                0\n",
       "Income                0\n",
       "Balance               0\n",
       "Vintage               0\n",
       "Transaction_Status    0\n",
       "Product_Holdings      0\n",
       "Credit_Card           0\n",
       "Credit_Category       0\n",
       "Is_Churn              0\n",
       "dtype: int64"
      ]
     },
     "execution_count": 4,
     "metadata": {},
     "output_type": "execute_result"
    }
   ],
   "source": [
    "# Checking for null Values or missing values\n",
    "\n",
    "existing_customer.isnull().sum()"
   ]
  },
  {
   "cell_type": "code",
   "execution_count": 5,
   "id": "a264d296",
   "metadata": {},
   "outputs": [
    {
     "data": {
      "text/html": [
       "<div>\n",
       "<style scoped>\n",
       "    .dataframe tbody tr th:only-of-type {\n",
       "        vertical-align: middle;\n",
       "    }\n",
       "\n",
       "    .dataframe tbody tr th {\n",
       "        vertical-align: top;\n",
       "    }\n",
       "\n",
       "    .dataframe thead th {\n",
       "        text-align: right;\n",
       "    }\n",
       "</style>\n",
       "<table border=\"1\" class=\"dataframe\">\n",
       "  <thead>\n",
       "    <tr style=\"text-align: right;\">\n",
       "      <th></th>\n",
       "      <th>ID</th>\n",
       "      <th>Age</th>\n",
       "      <th>Gender</th>\n",
       "      <th>Income</th>\n",
       "      <th>Balance</th>\n",
       "      <th>Vintage</th>\n",
       "      <th>Transaction_Status</th>\n",
       "      <th>Product_Holdings</th>\n",
       "      <th>Credit_Card</th>\n",
       "      <th>Credit_Category</th>\n",
       "      <th>Is_Churn</th>\n",
       "    </tr>\n",
       "  </thead>\n",
       "  <tbody>\n",
       "  </tbody>\n",
       "</table>\n",
       "</div>"
      ],
      "text/plain": [
       "Empty DataFrame\n",
       "Columns: [ID, Age, Gender, Income, Balance, Vintage, Transaction_Status, Product_Holdings, Credit_Card, Credit_Category, Is_Churn]\n",
       "Index: []"
      ]
     },
     "execution_count": 5,
     "metadata": {},
     "output_type": "execute_result"
    }
   ],
   "source": [
    "# Display Columns with Null Values\n",
    "existing_customer[existing_customer.isnull().any(axis=1)]"
   ]
  },
  {
   "cell_type": "code",
   "execution_count": 6,
   "id": "731f318f",
   "metadata": {},
   "outputs": [
    {
     "data": {
      "text/html": [
       "<div>\n",
       "<style scoped>\n",
       "    .dataframe tbody tr th:only-of-type {\n",
       "        vertical-align: middle;\n",
       "    }\n",
       "\n",
       "    .dataframe tbody tr th {\n",
       "        vertical-align: top;\n",
       "    }\n",
       "\n",
       "    .dataframe thead th {\n",
       "        text-align: right;\n",
       "    }\n",
       "</style>\n",
       "<table border=\"1\" class=\"dataframe\">\n",
       "  <thead>\n",
       "    <tr style=\"text-align: right;\">\n",
       "      <th></th>\n",
       "      <th>Age</th>\n",
       "      <th>Balance</th>\n",
       "      <th>Vintage</th>\n",
       "      <th>Transaction_Status</th>\n",
       "      <th>Credit_Card</th>\n",
       "      <th>Is_Churn</th>\n",
       "    </tr>\n",
       "  </thead>\n",
       "  <tbody>\n",
       "    <tr>\n",
       "      <th>count</th>\n",
       "      <td>6650.000000</td>\n",
       "      <td>6.650000e+03</td>\n",
       "      <td>6650.000000</td>\n",
       "      <td>6650.000000</td>\n",
       "      <td>6650.000000</td>\n",
       "      <td>6650.000000</td>\n",
       "    </tr>\n",
       "    <tr>\n",
       "      <th>mean</th>\n",
       "      <td>41.130226</td>\n",
       "      <td>8.045954e+05</td>\n",
       "      <td>2.250226</td>\n",
       "      <td>0.515789</td>\n",
       "      <td>0.664361</td>\n",
       "      <td>0.231128</td>\n",
       "    </tr>\n",
       "    <tr>\n",
       "      <th>std</th>\n",
       "      <td>9.685747</td>\n",
       "      <td>5.157549e+05</td>\n",
       "      <td>1.458795</td>\n",
       "      <td>0.499788</td>\n",
       "      <td>0.472249</td>\n",
       "      <td>0.421586</td>\n",
       "    </tr>\n",
       "    <tr>\n",
       "      <th>min</th>\n",
       "      <td>21.000000</td>\n",
       "      <td>6.300000e+01</td>\n",
       "      <td>0.000000</td>\n",
       "      <td>0.000000</td>\n",
       "      <td>0.000000</td>\n",
       "      <td>0.000000</td>\n",
       "    </tr>\n",
       "    <tr>\n",
       "      <th>25%</th>\n",
       "      <td>34.000000</td>\n",
       "      <td>3.922642e+05</td>\n",
       "      <td>1.000000</td>\n",
       "      <td>0.000000</td>\n",
       "      <td>0.000000</td>\n",
       "      <td>0.000000</td>\n",
       "    </tr>\n",
       "    <tr>\n",
       "      <th>50%</th>\n",
       "      <td>40.000000</td>\n",
       "      <td>7.649386e+05</td>\n",
       "      <td>2.000000</td>\n",
       "      <td>1.000000</td>\n",
       "      <td>1.000000</td>\n",
       "      <td>0.000000</td>\n",
       "    </tr>\n",
       "    <tr>\n",
       "      <th>75%</th>\n",
       "      <td>47.000000</td>\n",
       "      <td>1.147124e+06</td>\n",
       "      <td>3.000000</td>\n",
       "      <td>1.000000</td>\n",
       "      <td>1.000000</td>\n",
       "      <td>0.000000</td>\n",
       "    </tr>\n",
       "    <tr>\n",
       "      <th>max</th>\n",
       "      <td>72.000000</td>\n",
       "      <td>2.436616e+06</td>\n",
       "      <td>5.000000</td>\n",
       "      <td>1.000000</td>\n",
       "      <td>1.000000</td>\n",
       "      <td>1.000000</td>\n",
       "    </tr>\n",
       "  </tbody>\n",
       "</table>\n",
       "</div>"
      ],
      "text/plain": [
       "               Age       Balance      Vintage  Transaction_Status  \\\n",
       "count  6650.000000  6.650000e+03  6650.000000         6650.000000   \n",
       "mean     41.130226  8.045954e+05     2.250226            0.515789   \n",
       "std       9.685747  5.157549e+05     1.458795            0.499788   \n",
       "min      21.000000  6.300000e+01     0.000000            0.000000   \n",
       "25%      34.000000  3.922642e+05     1.000000            0.000000   \n",
       "50%      40.000000  7.649386e+05     2.000000            1.000000   \n",
       "75%      47.000000  1.147124e+06     3.000000            1.000000   \n",
       "max      72.000000  2.436616e+06     5.000000            1.000000   \n",
       "\n",
       "       Credit_Card     Is_Churn  \n",
       "count  6650.000000  6650.000000  \n",
       "mean      0.664361     0.231128  \n",
       "std       0.472249     0.421586  \n",
       "min       0.000000     0.000000  \n",
       "25%       0.000000     0.000000  \n",
       "50%       1.000000     0.000000  \n",
       "75%       1.000000     0.000000  \n",
       "max       1.000000     1.000000  "
      ]
     },
     "execution_count": 6,
     "metadata": {},
     "output_type": "execute_result"
    }
   ],
   "source": [
    "# Display Summary of the DataSet\n",
    "\n",
    "existing_customer.describe()"
   ]
  },
  {
   "cell_type": "code",
   "execution_count": 7,
   "id": "02859e97",
   "metadata": {},
   "outputs": [
    {
     "name": "stdout",
     "output_type": "stream",
     "text": [
      "<class 'pandas.core.frame.DataFrame'>\n",
      "RangeIndex: 6650 entries, 0 to 6649\n",
      "Data columns (total 11 columns):\n",
      " #   Column              Non-Null Count  Dtype  \n",
      "---  ------              --------------  -----  \n",
      " 0   ID                  6650 non-null   object \n",
      " 1   Age                 6650 non-null   int64  \n",
      " 2   Gender              6650 non-null   object \n",
      " 3   Income              6650 non-null   object \n",
      " 4   Balance             6650 non-null   float64\n",
      " 5   Vintage             6650 non-null   int64  \n",
      " 6   Transaction_Status  6650 non-null   int64  \n",
      " 7   Product_Holdings    6650 non-null   object \n",
      " 8   Credit_Card         6650 non-null   int64  \n",
      " 9   Credit_Category     6650 non-null   object \n",
      " 10  Is_Churn            6650 non-null   int64  \n",
      "dtypes: float64(1), int64(5), object(5)\n",
      "memory usage: 571.6+ KB\n"
     ]
    }
   ],
   "source": [
    "# Checking the Column Types\n",
    "\n",
    "existing_customer.info()"
   ]
  },
  {
   "cell_type": "code",
   "execution_count": 8,
   "id": "b6a4862a",
   "metadata": {},
   "outputs": [
    {
     "data": {
      "text/plain": [
       "(6650, 11)"
      ]
     },
     "execution_count": 8,
     "metadata": {},
     "output_type": "execute_result"
    }
   ],
   "source": [
    "existing_customer.shape"
   ]
  },
  {
   "cell_type": "markdown",
   "id": "698a873f",
   "metadata": {},
   "source": [
    "# data visualization"
   ]
  },
  {
   "cell_type": "code",
   "execution_count": 9,
   "id": "7b091fa5",
   "metadata": {},
   "outputs": [
    {
     "data": {
      "image/png": "[encoded data removed]",
      "text/plain": [
       "<Figure size 432x432 with 1 Axes>"
      ]
     },
     "metadata": {
      "needs_background": "light"
     },
     "output_type": "display_data"
    },
    {
     "data": {
      "image/png": "[encoded data removed]",
      "text/plain": [
       "<Figure size 432x432 with 1 Axes>"
      ]
     },
     "metadata": {
      "needs_background": "light"
     },
     "output_type": "display_data"
    },
    {
     "data": {
      "image/png": "[encoded data removed]",
      "text/plain": [
       "<Figure size 432x432 with 1 Axes>"
      ]
     },
     "metadata": {
      "needs_background": "light"
     },
     "output_type": "display_data"
    },
    {
     "data": {
      "image/png": "[encoded data removed]",
      "text/plain": [
       "<Figure size 432x432 with 1 Axes>"
      ]
     },
     "metadata": {
      "needs_background": "light"
     },
     "output_type": "display_data"
    },
    {
     "data": {
      "image/png": "[encoded data removed]",
      "text/plain": [
       "<Figure size 432x432 with 1 Axes>"
      ]
     },
     "metadata": {
      "needs_background": "light"
     },
     "output_type": "display_data"
    }
   ],
   "source": [
    "# Here Using Visualising the Data Using BoxPlot\n",
    "\n",
    "from matplotlib import pyplot as plt\n",
    "%matplotlib inline\n",
    "\n",
    "num_feat = ['Age','Balance','Vintage','Transaction_Status','Credit_Card']\n",
    "for col in num_feat:\n",
    "    existing_customer.boxplot(column=col, by='Is_Churn',figsize = (6,6))\n",
    "    plt.title(col)\n",
    "plt.show()\n",
    "\n",
    "# With respect to Is_Churn Column age and balance contains Outlier"
   ]
  },
  {
   "cell_type": "code",
   "execution_count": 10,
   "id": "e9dc84b3",
   "metadata": {},
   "outputs": [
    {
     "data": {
      "text/plain": [
       "<AxesSubplot:>"
      ]
     },
     "execution_count": 10,
     "metadata": {},
     "output_type": "execute_result"
    },
    {
     "data": {
      "image/png": "[encoded data removed]",
      "text/plain": [
       "<Figure size 720x576 with 1 Axes>"
      ]
     },
     "metadata": {
      "needs_background": "light"
     },
     "output_type": "display_data"
    }
   ],
   "source": [
    "fig ,ax  = plt.subplots(figsize = (10,8))\n",
    "sns.boxplot(data = existing_customer[['Age','Balance','Vintage','Transaction_Status','Credit_Card']] , ax = ax)"
   ]
  },
  {
   "cell_type": "code",
   "execution_count": 11,
   "id": "4cab5651",
   "metadata": {},
   "outputs": [
    {
     "data": {
      "text/plain": [
       "<AxesSubplot:xlabel='Is_Churn', ylabel='count'>"
      ]
     },
     "execution_count": 11,
     "metadata": {},
     "output_type": "execute_result"
    },
    {
     "data": {
      "image/png": "[encoded data removed]",
      "text/plain": [
       "<Figure size 432x288 with 1 Axes>"
      ]
     },
     "metadata": {
      "needs_background": "light"
     },
     "output_type": "display_data"
    }
   ],
   "source": [
    "# Count Plot for Categorical Variable\n",
    "sns.countplot(x='Is_Churn',data=existing_customer)\n",
    "\n",
    "# Customer Churn's with Percentage of 23.11 and not Churn's with Percentage of 76.89"
   ]
  },
  {
   "cell_type": "markdown",
   "id": "2856755d",
   "metadata": {},
   "source": [
    "### above graph shows that data is imbalance data"
   ]
  },
  {
   "cell_type": "code",
   "execution_count": 12,
   "id": "53a69d3d",
   "metadata": {},
   "outputs": [],
   "source": [
    "# Define a random state \n",
    "state = np.random.RandomState(42)"
   ]
  },
  {
   "cell_type": "code",
   "execution_count": 13,
   "id": "25105d17",
   "metadata": {},
   "outputs": [
    {
     "name": "stdout",
     "output_type": "stream",
     "text": [
      "(1537, 11) (5113, 11)\n"
     ]
    }
   ],
   "source": [
    "## Get the Fraud and the normal dataset \n",
    "churn =existing_customer[existing_customer['Is_Churn']==1]\n",
    "normal = existing_customer[existing_customer['Is_Churn']==0]\n",
    "print(churn.shape,normal.shape)"
   ]
  },
  {
   "cell_type": "markdown",
   "id": "4f0d68d2",
   "metadata": {},
   "source": [
    "# Feature Engineering"
   ]
  },
  {
   "cell_type": "code",
   "execution_count": 3,
   "id": "e05d2c84",
   "metadata": {},
   "outputs": [],
   "source": [
    "#drop id column\n",
    "existing_customer.drop(['ID'],axis=1,inplace=True)"
   ]
  },
  {
   "cell_type": "code",
   "execution_count": 4,
   "id": "0c9055a4",
   "metadata": {},
   "outputs": [
    {
     "data": {
      "text/plain": [
       "0    5113\n",
       "1    1537\n",
       "Name: Is_Churn, dtype: int64"
      ]
     },
     "execution_count": 4,
     "metadata": {},
     "output_type": "execute_result"
    }
   ],
   "source": [
    "existing_customer.Is_Churn.value_counts()"
   ]
  },
  {
   "cell_type": "code",
   "execution_count": 5,
   "id": "0d1d451f",
   "metadata": {},
   "outputs": [
    {
     "data": {
      "text/html": [
       "<div>\n",
       "<style scoped>\n",
       "    .dataframe tbody tr th:only-of-type {\n",
       "        vertical-align: middle;\n",
       "    }\n",
       "\n",
       "    .dataframe tbody tr th {\n",
       "        vertical-align: top;\n",
       "    }\n",
       "\n",
       "    .dataframe thead th {\n",
       "        text-align: right;\n",
       "    }\n",
       "</style>\n",
       "<table border=\"1\" class=\"dataframe\">\n",
       "  <thead>\n",
       "    <tr style=\"text-align: right;\">\n",
       "      <th></th>\n",
       "      <th>Age</th>\n",
       "      <th>Balance</th>\n",
       "      <th>Vintage</th>\n",
       "      <th>Transaction_Status</th>\n",
       "      <th>Credit_Card</th>\n",
       "      <th>Is_Churn</th>\n",
       "      <th>Gender_Female</th>\n",
       "      <th>Gender_Male</th>\n",
       "      <th>Income_10L - 15L</th>\n",
       "      <th>Income_5L - 10L</th>\n",
       "      <th>Income_Less than 5L</th>\n",
       "      <th>Income_More than 15L</th>\n",
       "      <th>Product_Holdings_1</th>\n",
       "      <th>Product_Holdings_2</th>\n",
       "      <th>Product_Holdings_3+</th>\n",
       "      <th>Credit_Category_Average</th>\n",
       "      <th>Credit_Category_Good</th>\n",
       "      <th>Credit_Category_Poor</th>\n",
       "    </tr>\n",
       "  </thead>\n",
       "  <tbody>\n",
       "    <tr>\n",
       "      <th>0</th>\n",
       "      <td>36</td>\n",
       "      <td>563266.44</td>\n",
       "      <td>4</td>\n",
       "      <td>0</td>\n",
       "      <td>0</td>\n",
       "      <td>1</td>\n",
       "      <td>1</td>\n",
       "      <td>0</td>\n",
       "      <td>0</td>\n",
       "      <td>1</td>\n",
       "      <td>0</td>\n",
       "      <td>0</td>\n",
       "      <td>1</td>\n",
       "      <td>0</td>\n",
       "      <td>0</td>\n",
       "      <td>1</td>\n",
       "      <td>0</td>\n",
       "      <td>0</td>\n",
       "    </tr>\n",
       "    <tr>\n",
       "      <th>1</th>\n",
       "      <td>53</td>\n",
       "      <td>875572.11</td>\n",
       "      <td>2</td>\n",
       "      <td>1</td>\n",
       "      <td>1</td>\n",
       "      <td>0</td>\n",
       "      <td>1</td>\n",
       "      <td>0</td>\n",
       "      <td>0</td>\n",
       "      <td>0</td>\n",
       "      <td>1</td>\n",
       "      <td>0</td>\n",
       "      <td>1</td>\n",
       "      <td>0</td>\n",
       "      <td>0</td>\n",
       "      <td>0</td>\n",
       "      <td>0</td>\n",
       "      <td>1</td>\n",
       "    </tr>\n",
       "    <tr>\n",
       "      <th>2</th>\n",
       "      <td>35</td>\n",
       "      <td>701607.06</td>\n",
       "      <td>2</td>\n",
       "      <td>1</td>\n",
       "      <td>0</td>\n",
       "      <td>0</td>\n",
       "      <td>1</td>\n",
       "      <td>0</td>\n",
       "      <td>0</td>\n",
       "      <td>0</td>\n",
       "      <td>0</td>\n",
       "      <td>1</td>\n",
       "      <td>0</td>\n",
       "      <td>1</td>\n",
       "      <td>0</td>\n",
       "      <td>0</td>\n",
       "      <td>0</td>\n",
       "      <td>1</td>\n",
       "    </tr>\n",
       "    <tr>\n",
       "      <th>3</th>\n",
       "      <td>43</td>\n",
       "      <td>1393922.16</td>\n",
       "      <td>0</td>\n",
       "      <td>1</td>\n",
       "      <td>1</td>\n",
       "      <td>1</td>\n",
       "      <td>1</td>\n",
       "      <td>0</td>\n",
       "      <td>0</td>\n",
       "      <td>0</td>\n",
       "      <td>0</td>\n",
       "      <td>1</td>\n",
       "      <td>0</td>\n",
       "      <td>1</td>\n",
       "      <td>0</td>\n",
       "      <td>0</td>\n",
       "      <td>0</td>\n",
       "      <td>1</td>\n",
       "    </tr>\n",
       "    <tr>\n",
       "      <th>4</th>\n",
       "      <td>39</td>\n",
       "      <td>893146.23</td>\n",
       "      <td>1</td>\n",
       "      <td>1</td>\n",
       "      <td>1</td>\n",
       "      <td>1</td>\n",
       "      <td>1</td>\n",
       "      <td>0</td>\n",
       "      <td>0</td>\n",
       "      <td>0</td>\n",
       "      <td>0</td>\n",
       "      <td>1</td>\n",
       "      <td>1</td>\n",
       "      <td>0</td>\n",
       "      <td>0</td>\n",
       "      <td>0</td>\n",
       "      <td>1</td>\n",
       "      <td>0</td>\n",
       "    </tr>\n",
       "  </tbody>\n",
       "</table>\n",
       "</div>"
      ],
      "text/plain": [
       "   Age     Balance  Vintage  Transaction_Status  Credit_Card  Is_Churn  \\\n",
       "0   36   563266.44        4                   0            0         1   \n",
       "1   53   875572.11        2                   1            1         0   \n",
       "2   35   701607.06        2                   1            0         0   \n",
       "3   43  1393922.16        0                   1            1         1   \n",
       "4   39   893146.23        1                   1            1         1   \n",
       "\n",
       "   Gender_Female  Gender_Male  Income_10L - 15L  Income_5L - 10L  \\\n",
       "0              1            0                 0                1   \n",
       "1              1            0                 0                0   \n",
       "2              1            0                 0                0   \n",
       "3              1            0                 0                0   \n",
       "4              1            0                 0                0   \n",
       "\n",
       "   Income_Less than 5L  Income_More than 15L  Product_Holdings_1  \\\n",
       "0                    0                     0                   1   \n",
       "1                    1                     0                   1   \n",
       "2                    0                     1                   0   \n",
       "3                    0                     1                   0   \n",
       "4                    0                     1                   1   \n",
       "\n",
       "   Product_Holdings_2  Product_Holdings_3+  Credit_Category_Average  \\\n",
       "0                   0                    0                        1   \n",
       "1                   0                    0                        0   \n",
       "2                   1                    0                        0   \n",
       "3                   1                    0                        0   \n",
       "4                   0                    0                        0   \n",
       "\n",
       "   Credit_Category_Good  Credit_Category_Poor  \n",
       "0                     0                     0  \n",
       "1                     0                     1  \n",
       "2                     0                     1  \n",
       "3                     0                     1  \n",
       "4                     1                     0  "
      ]
     },
     "execution_count": 5,
     "metadata": {},
     "output_type": "execute_result"
    }
   ],
   "source": [
    "#convert categorical variable into numerical variable\n",
    "existing_customer_new=pd.get_dummies(existing_customer)\n",
    "existing_customer_new.head()"
   ]
  },
  {
   "cell_type": "code",
   "execution_count": 6,
   "id": "d0271d0c",
   "metadata": {},
   "outputs": [
    {
     "data": {
      "text/plain": [
       "(6650, 18)"
      ]
     },
     "execution_count": 6,
     "metadata": {},
     "output_type": "execute_result"
    }
   ],
   "source": [
    "existing_customer_new.shape"
   ]
  },
  {
   "cell_type": "code",
   "execution_count": 7,
   "id": "9e476fcb",
   "metadata": {},
   "outputs": [
    {
     "data": {
      "text/html": [
       "<div>\n",
       "<style scoped>\n",
       "    .dataframe tbody tr th:only-of-type {\n",
       "        vertical-align: middle;\n",
       "    }\n",
       "\n",
       "    .dataframe tbody tr th {\n",
       "        vertical-align: top;\n",
       "    }\n",
       "\n",
       "    .dataframe thead th {\n",
       "        text-align: right;\n",
       "    }\n",
       "</style>\n",
       "<table border=\"1\" class=\"dataframe\">\n",
       "  <thead>\n",
       "    <tr style=\"text-align: right;\">\n",
       "      <th></th>\n",
       "      <th>Age</th>\n",
       "      <th>Balance</th>\n",
       "      <th>Vintage</th>\n",
       "      <th>Transaction_Status</th>\n",
       "      <th>Credit_Card</th>\n",
       "      <th>Is_Churn</th>\n",
       "      <th>Gender_Female</th>\n",
       "      <th>Gender_Male</th>\n",
       "      <th>Income_10L - 15L</th>\n",
       "      <th>Income_5L - 10L</th>\n",
       "      <th>Income_Less than 5L</th>\n",
       "      <th>Income_More than 15L</th>\n",
       "      <th>Product_Holdings_1</th>\n",
       "      <th>Product_Holdings_2</th>\n",
       "      <th>Product_Holdings_3+</th>\n",
       "      <th>Credit_Category_Average</th>\n",
       "      <th>Credit_Category_Good</th>\n",
       "      <th>Credit_Category_Poor</th>\n",
       "    </tr>\n",
       "  </thead>\n",
       "  <tbody>\n",
       "    <tr>\n",
       "      <th>0</th>\n",
       "      <td>0.294118</td>\n",
       "      <td>0.231148</td>\n",
       "      <td>4</td>\n",
       "      <td>0</td>\n",
       "      <td>0</td>\n",
       "      <td>1</td>\n",
       "      <td>1</td>\n",
       "      <td>0</td>\n",
       "      <td>0</td>\n",
       "      <td>1</td>\n",
       "      <td>0</td>\n",
       "      <td>0</td>\n",
       "      <td>1</td>\n",
       "      <td>0</td>\n",
       "      <td>0</td>\n",
       "      <td>1</td>\n",
       "      <td>0</td>\n",
       "      <td>0</td>\n",
       "    </tr>\n",
       "    <tr>\n",
       "      <th>1</th>\n",
       "      <td>0.627451</td>\n",
       "      <td>0.359323</td>\n",
       "      <td>2</td>\n",
       "      <td>1</td>\n",
       "      <td>1</td>\n",
       "      <td>0</td>\n",
       "      <td>1</td>\n",
       "      <td>0</td>\n",
       "      <td>0</td>\n",
       "      <td>0</td>\n",
       "      <td>1</td>\n",
       "      <td>0</td>\n",
       "      <td>1</td>\n",
       "      <td>0</td>\n",
       "      <td>0</td>\n",
       "      <td>0</td>\n",
       "      <td>0</td>\n",
       "      <td>1</td>\n",
       "    </tr>\n",
       "    <tr>\n",
       "      <th>2</th>\n",
       "      <td>0.274510</td>\n",
       "      <td>0.287925</td>\n",
       "      <td>2</td>\n",
       "      <td>1</td>\n",
       "      <td>0</td>\n",
       "      <td>0</td>\n",
       "      <td>1</td>\n",
       "      <td>0</td>\n",
       "      <td>0</td>\n",
       "      <td>0</td>\n",
       "      <td>0</td>\n",
       "      <td>1</td>\n",
       "      <td>0</td>\n",
       "      <td>1</td>\n",
       "      <td>0</td>\n",
       "      <td>0</td>\n",
       "      <td>0</td>\n",
       "      <td>1</td>\n",
       "    </tr>\n",
       "    <tr>\n",
       "      <th>3</th>\n",
       "      <td>0.431373</td>\n",
       "      <td>0.572062</td>\n",
       "      <td>0</td>\n",
       "      <td>1</td>\n",
       "      <td>1</td>\n",
       "      <td>1</td>\n",
       "      <td>1</td>\n",
       "      <td>0</td>\n",
       "      <td>0</td>\n",
       "      <td>0</td>\n",
       "      <td>0</td>\n",
       "      <td>1</td>\n",
       "      <td>0</td>\n",
       "      <td>1</td>\n",
       "      <td>0</td>\n",
       "      <td>0</td>\n",
       "      <td>0</td>\n",
       "      <td>1</td>\n",
       "    </tr>\n",
       "    <tr>\n",
       "      <th>4</th>\n",
       "      <td>0.352941</td>\n",
       "      <td>0.366536</td>\n",
       "      <td>1</td>\n",
       "      <td>1</td>\n",
       "      <td>1</td>\n",
       "      <td>1</td>\n",
       "      <td>1</td>\n",
       "      <td>0</td>\n",
       "      <td>0</td>\n",
       "      <td>0</td>\n",
       "      <td>0</td>\n",
       "      <td>1</td>\n",
       "      <td>1</td>\n",
       "      <td>0</td>\n",
       "      <td>0</td>\n",
       "      <td>0</td>\n",
       "      <td>1</td>\n",
       "      <td>0</td>\n",
       "    </tr>\n",
       "  </tbody>\n",
       "</table>\n",
       "</div>"
      ],
      "text/plain": [
       "        Age   Balance  Vintage  Transaction_Status  Credit_Card  Is_Churn  \\\n",
       "0  0.294118  0.231148        4                   0            0         1   \n",
       "1  0.627451  0.359323        2                   1            1         0   \n",
       "2  0.274510  0.287925        2                   1            0         0   \n",
       "3  0.431373  0.572062        0                   1            1         1   \n",
       "4  0.352941  0.366536        1                   1            1         1   \n",
       "\n",
       "   Gender_Female  Gender_Male  Income_10L - 15L  Income_5L - 10L  \\\n",
       "0              1            0                 0                1   \n",
       "1              1            0                 0                0   \n",
       "2              1            0                 0                0   \n",
       "3              1            0                 0                0   \n",
       "4              1            0                 0                0   \n",
       "\n",
       "   Income_Less than 5L  Income_More than 15L  Product_Holdings_1  \\\n",
       "0                    0                     0                   1   \n",
       "1                    1                     0                   1   \n",
       "2                    0                     1                   0   \n",
       "3                    0                     1                   0   \n",
       "4                    0                     1                   1   \n",
       "\n",
       "   Product_Holdings_2  Product_Holdings_3+  Credit_Category_Average  \\\n",
       "0                   0                    0                        1   \n",
       "1                   0                    0                        0   \n",
       "2                   1                    0                        0   \n",
       "3                   1                    0                        0   \n",
       "4                   0                    0                        0   \n",
       "\n",
       "   Credit_Category_Good  Credit_Category_Poor  \n",
       "0                     0                     0  \n",
       "1                     0                     1  \n",
       "2                     0                     1  \n",
       "3                     0                     1  \n",
       "4                     1                     0  "
      ]
     },
     "execution_count": 7,
     "metadata": {},
     "output_type": "execute_result"
    }
   ],
   "source": [
    "# So applying MinMaxScaler to Age and  Balance to deal with Outlier as we seen in Data Visualization(BoxPlot)\n",
    "# Import MinMaxScaler\n",
    "from sklearn.preprocessing import MinMaxScaler,StandardScaler, RobustScaler\n",
    "col_names = ['Age','Balance']\n",
    "features1 = existing_customer_new[col_names]\n",
    "scaler =  MinMaxScaler().fit(features1.values)\n",
    "features1 = scaler.transform(features1.values)\n",
    "existing_customer_new[col_names] = features1\n",
    "existing_customer_new.head()"
   ]
  },
  {
   "cell_type": "code",
   "execution_count": 8,
   "id": "48cfed03",
   "metadata": {},
   "outputs": [
    {
     "data": {
      "text/html": [
       "<div>\n",
       "<style scoped>\n",
       "    .dataframe tbody tr th:only-of-type {\n",
       "        vertical-align: middle;\n",
       "    }\n",
       "\n",
       "    .dataframe tbody tr th {\n",
       "        vertical-align: top;\n",
       "    }\n",
       "\n",
       "    .dataframe thead th {\n",
       "        text-align: right;\n",
       "    }\n",
       "</style>\n",
       "<table border=\"1\" class=\"dataframe\">\n",
       "  <thead>\n",
       "    <tr style=\"text-align: right;\">\n",
       "      <th></th>\n",
       "      <th>Age</th>\n",
       "      <th>Balance</th>\n",
       "      <th>Vintage</th>\n",
       "      <th>Transaction_Status</th>\n",
       "      <th>Credit_Card</th>\n",
       "      <th>Gender_Female</th>\n",
       "      <th>Gender_Male</th>\n",
       "      <th>Income_10L - 15L</th>\n",
       "      <th>Income_5L - 10L</th>\n",
       "      <th>Income_Less than 5L</th>\n",
       "      <th>Income_More than 15L</th>\n",
       "      <th>Product_Holdings_1</th>\n",
       "      <th>Product_Holdings_2</th>\n",
       "      <th>Product_Holdings_3+</th>\n",
       "      <th>Credit_Category_Average</th>\n",
       "      <th>Credit_Category_Good</th>\n",
       "      <th>Credit_Category_Poor</th>\n",
       "    </tr>\n",
       "  </thead>\n",
       "  <tbody>\n",
       "    <tr>\n",
       "      <th>0</th>\n",
       "      <td>0.294118</td>\n",
       "      <td>0.231148</td>\n",
       "      <td>4</td>\n",
       "      <td>0</td>\n",
       "      <td>0</td>\n",
       "      <td>1</td>\n",
       "      <td>0</td>\n",
       "      <td>0</td>\n",
       "      <td>1</td>\n",
       "      <td>0</td>\n",
       "      <td>0</td>\n",
       "      <td>1</td>\n",
       "      <td>0</td>\n",
       "      <td>0</td>\n",
       "      <td>1</td>\n",
       "      <td>0</td>\n",
       "      <td>0</td>\n",
       "    </tr>\n",
       "    <tr>\n",
       "      <th>1</th>\n",
       "      <td>0.627451</td>\n",
       "      <td>0.359323</td>\n",
       "      <td>2</td>\n",
       "      <td>1</td>\n",
       "      <td>1</td>\n",
       "      <td>1</td>\n",
       "      <td>0</td>\n",
       "      <td>0</td>\n",
       "      <td>0</td>\n",
       "      <td>1</td>\n",
       "      <td>0</td>\n",
       "      <td>1</td>\n",
       "      <td>0</td>\n",
       "      <td>0</td>\n",
       "      <td>0</td>\n",
       "      <td>0</td>\n",
       "      <td>1</td>\n",
       "    </tr>\n",
       "    <tr>\n",
       "      <th>2</th>\n",
       "      <td>0.274510</td>\n",
       "      <td>0.287925</td>\n",
       "      <td>2</td>\n",
       "      <td>1</td>\n",
       "      <td>0</td>\n",
       "      <td>1</td>\n",
       "      <td>0</td>\n",
       "      <td>0</td>\n",
       "      <td>0</td>\n",
       "      <td>0</td>\n",
       "      <td>1</td>\n",
       "      <td>0</td>\n",
       "      <td>1</td>\n",
       "      <td>0</td>\n",
       "      <td>0</td>\n",
       "      <td>0</td>\n",
       "      <td>1</td>\n",
       "    </tr>\n",
       "    <tr>\n",
       "      <th>3</th>\n",
       "      <td>0.431373</td>\n",
       "      <td>0.572062</td>\n",
       "      <td>0</td>\n",
       "      <td>1</td>\n",
       "      <td>1</td>\n",
       "      <td>1</td>\n",
       "      <td>0</td>\n",
       "      <td>0</td>\n",
       "      <td>0</td>\n",
       "      <td>0</td>\n",
       "      <td>1</td>\n",
       "      <td>0</td>\n",
       "      <td>1</td>\n",
       "      <td>0</td>\n",
       "      <td>0</td>\n",
       "      <td>0</td>\n",
       "      <td>1</td>\n",
       "    </tr>\n",
       "    <tr>\n",
       "      <th>4</th>\n",
       "      <td>0.352941</td>\n",
       "      <td>0.366536</td>\n",
       "      <td>1</td>\n",
       "      <td>1</td>\n",
       "      <td>1</td>\n",
       "      <td>1</td>\n",
       "      <td>0</td>\n",
       "      <td>0</td>\n",
       "      <td>0</td>\n",
       "      <td>0</td>\n",
       "      <td>1</td>\n",
       "      <td>1</td>\n",
       "      <td>0</td>\n",
       "      <td>0</td>\n",
       "      <td>0</td>\n",
       "      <td>1</td>\n",
       "      <td>0</td>\n",
       "    </tr>\n",
       "  </tbody>\n",
       "</table>\n",
       "</div>"
      ],
      "text/plain": [
       "        Age   Balance  Vintage  Transaction_Status  Credit_Card  \\\n",
       "0  0.294118  0.231148        4                   0            0   \n",
       "1  0.627451  0.359323        2                   1            1   \n",
       "2  0.274510  0.287925        2                   1            0   \n",
       "3  0.431373  0.572062        0                   1            1   \n",
       "4  0.352941  0.366536        1                   1            1   \n",
       "\n",
       "   Gender_Female  Gender_Male  Income_10L - 15L  Income_5L - 10L  \\\n",
       "0              1            0                 0                1   \n",
       "1              1            0                 0                0   \n",
       "2              1            0                 0                0   \n",
       "3              1            0                 0                0   \n",
       "4              1            0                 0                0   \n",
       "\n",
       "   Income_Less than 5L  Income_More than 15L  Product_Holdings_1  \\\n",
       "0                    0                     0                   1   \n",
       "1                    1                     0                   1   \n",
       "2                    0                     1                   0   \n",
       "3                    0                     1                   0   \n",
       "4                    0                     1                   1   \n",
       "\n",
       "   Product_Holdings_2  Product_Holdings_3+  Credit_Category_Average  \\\n",
       "0                   0                    0                        1   \n",
       "1                   0                    0                        0   \n",
       "2                   1                    0                        0   \n",
       "3                   1                    0                        0   \n",
       "4                   0                    0                        0   \n",
       "\n",
       "   Credit_Category_Good  Credit_Category_Poor  \n",
       "0                     0                     0  \n",
       "1                     0                     1  \n",
       "2                     0                     1  \n",
       "3                     0                     1  \n",
       "4                     1                     0  "
      ]
     },
     "execution_count": 8,
     "metadata": {},
     "output_type": "execute_result"
    }
   ],
   "source": [
    "# define dependent variable\n",
    "x_var=existing_customer_new.drop(columns=['Is_Churn'])\n",
    "x_var.head()"
   ]
  },
  {
   "cell_type": "code",
   "execution_count": 9,
   "id": "da7ef381",
   "metadata": {},
   "outputs": [],
   "source": [
    "# define independent variable\n",
    "y_var=existing_customer_new['Is_Churn']"
   ]
  },
  {
   "cell_type": "code",
   "execution_count": 10,
   "id": "53e24903",
   "metadata": {},
   "outputs": [
    {
     "name": "stdout",
     "output_type": "stream",
     "text": [
      "(6650, 17)\n",
      "(6650,)\n"
     ]
    }
   ],
   "source": [
    "print(x_var.shape)\n",
    "print(y_var.shape)"
   ]
  },
  {
   "cell_type": "code",
   "execution_count": 11,
   "id": "708a8568",
   "metadata": {},
   "outputs": [],
   "source": [
    "# From above there is Imbalance Classes Class : '0' is Majority Class and Class : '1' is Minority Class.\n",
    "# So to Overcome from this Situation we have to done Sampling.\n",
    "# So here is Two Sampling : Under Sampling and Over Sampling\n",
    "# Here Over Sampling is good fit because if UnderSampling is done to the dataset will be low and the Prediction will good enough\n",
    "# So OverSampling is done to Overcome the Class Imbalance Situation"
   ]
  },
  {
   "cell_type": "code",
   "execution_count": 12,
   "id": "86c7055e",
   "metadata": {},
   "outputs": [],
   "source": [
    "# Define a random state \n",
    "state = np.random.RandomState(42)"
   ]
  },
  {
   "cell_type": "code",
   "execution_count": 20,
   "id": "ff435c94",
   "metadata": {},
   "outputs": [
    {
     "name": "stdout",
     "output_type": "stream",
     "text": [
      "Requirement already satisfied: imblearn in c:\\users\\asus-pc\\anaconda3\\lib\\site-packages (0.0)\n",
      "Requirement already satisfied: imbalanced-learn in c:\\users\\asus-pc\\anaconda3\\lib\\site-packages (from imblearn) (0.9.0)\n",
      "Requirement already satisfied: threadpoolctl>=2.0.0 in c:\\users\\asus-pc\\anaconda3\\lib\\site-packages (from imbalanced-learn->imblearn) (2.1.0)\n",
      "Requirement already satisfied: scipy>=1.1.0 in c:\\users\\asus-pc\\anaconda3\\lib\\site-packages (from imbalanced-learn->imblearn) (1.6.2)\n",
      "Requirement already satisfied: scikit-learn>=1.0.1 in c:\\users\\asus-pc\\anaconda3\\lib\\site-packages (from imbalanced-learn->imblearn) (1.0.2)\n",
      "Requirement already satisfied: numpy>=1.14.6 in c:\\users\\asus-pc\\anaconda3\\lib\\site-packages (from imbalanced-learn->imblearn) (1.20.1)\n",
      "Requirement already satisfied: joblib>=0.11 in c:\\users\\asus-pc\\anaconda3\\lib\\site-packages (from imbalanced-learn->imblearn) (1.0.1)\n"
     ]
    }
   ],
   "source": [
    "!pip install imblearn"
   ]
  },
  {
   "cell_type": "code",
   "execution_count": 13,
   "id": "3741095b",
   "metadata": {
    "scrolled": true
   },
   "outputs": [],
   "source": [
    "from imblearn.combine import SMOTETomek"
   ]
  },
  {
   "cell_type": "code",
   "execution_count": 14,
   "id": "7395961f",
   "metadata": {},
   "outputs": [],
   "source": [
    "# Implementing Oversampling for Handling Imbalanced data\n",
    "smk = SMOTETomek(random_state=42)\n",
    "X_res,y_res=smk.fit_resample(x_var,y_var)"
   ]
  },
  {
   "cell_type": "code",
   "execution_count": 15,
   "id": "08e809e4",
   "metadata": {},
   "outputs": [
    {
     "data": {
      "text/plain": [
       "((9336, 17), (9336,))"
      ]
     },
     "execution_count": 15,
     "metadata": {},
     "output_type": "execute_result"
    }
   ],
   "source": [
    "X_res.shape,y_res.shape"
   ]
  },
  {
   "cell_type": "code",
   "execution_count": 16,
   "id": "a8453ec7",
   "metadata": {},
   "outputs": [
    {
     "data": {
      "text/plain": [
       "Index(['Age', 'Balance', 'Vintage', 'Transaction_Status', 'Credit_Card',\n",
       "       'Gender_Female', 'Gender_Male', 'Income_10L - 15L', 'Income_5L - 10L',\n",
       "       'Income_Less than 5L', 'Income_More than 15L', 'Product_Holdings_1',\n",
       "       'Product_Holdings_2', 'Product_Holdings_3+', 'Credit_Category_Average',\n",
       "       'Credit_Category_Good', 'Credit_Category_Poor'],\n",
       "      dtype='object')"
      ]
     },
     "execution_count": 16,
     "metadata": {},
     "output_type": "execute_result"
    }
   ],
   "source": [
    "X_res.columns"
   ]
  },
  {
   "cell_type": "code",
   "execution_count": 18,
   "id": "988b5a15",
   "metadata": {
    "scrolled": true
   },
   "outputs": [
    {
     "name": "stdout",
     "output_type": "stream",
     "text": [
      "<class 'pandas.core.frame.DataFrame'>\n",
      "RangeIndex: 9336 entries, 0 to 9335\n",
      "Data columns (total 17 columns):\n",
      " #   Column                   Non-Null Count  Dtype  \n",
      "---  ------                   --------------  -----  \n",
      " 0   Age                      9336 non-null   float64\n",
      " 1   Balance                  9336 non-null   float64\n",
      " 2   Vintage                  9336 non-null   int64  \n",
      " 3   Transaction_Status       9336 non-null   int64  \n",
      " 4   Credit_Card              9336 non-null   int64  \n",
      " 5   Gender_Female            9336 non-null   uint8  \n",
      " 6   Gender_Male              9336 non-null   uint8  \n",
      " 7   Income_10L - 15L         9336 non-null   uint8  \n",
      " 8   Income_5L - 10L          9336 non-null   uint8  \n",
      " 9   Income_Less than 5L      9336 non-null   uint8  \n",
      " 10  Income_More than 15L     9336 non-null   uint8  \n",
      " 11  Product_Holdings_1       9336 non-null   uint8  \n",
      " 12  Product_Holdings_2       9336 non-null   uint8  \n",
      " 13  Product_Holdings_3+      9336 non-null   uint8  \n",
      " 14  Credit_Category_Average  9336 non-null   uint8  \n",
      " 15  Credit_Category_Good     9336 non-null   uint8  \n",
      " 16  Credit_Category_Poor     9336 non-null   uint8  \n",
      "dtypes: float64(2), int64(3), uint8(12)\n",
      "memory usage: 474.2 KB\n"
     ]
    }
   ],
   "source": [
    "X_res.info()"
   ]
  },
  {
   "cell_type": "markdown",
   "id": "4fdc1b46",
   "metadata": {},
   "source": [
    "# model building"
   ]
  },
  {
   "cell_type": "code",
   "execution_count": 17,
   "id": "b995029b",
   "metadata": {},
   "outputs": [],
   "source": [
    "x_train, x_test, y_train, y_test = train_test_split(X_res , y_res , test_size = 0.20 , random_state = 144)"
   ]
  },
  {
   "cell_type": "code",
   "execution_count": 29,
   "id": "4e176121",
   "metadata": {},
   "outputs": [
    {
     "data": {
      "text/html": [
       "<div>\n",
       "<style scoped>\n",
       "    .dataframe tbody tr th:only-of-type {\n",
       "        vertical-align: middle;\n",
       "    }\n",
       "\n",
       "    .dataframe tbody tr th {\n",
       "        vertical-align: top;\n",
       "    }\n",
       "\n",
       "    .dataframe thead th {\n",
       "        text-align: right;\n",
       "    }\n",
       "</style>\n",
       "<table border=\"1\" class=\"dataframe\">\n",
       "  <thead>\n",
       "    <tr style=\"text-align: right;\">\n",
       "      <th></th>\n",
       "      <th>Age</th>\n",
       "      <th>Balance</th>\n",
       "      <th>Vintage</th>\n",
       "      <th>Transaction_Status</th>\n",
       "      <th>Credit_Card</th>\n",
       "      <th>Gender_Female</th>\n",
       "      <th>Gender_Male</th>\n",
       "      <th>Income_10L - 15L</th>\n",
       "      <th>Income_5L - 10L</th>\n",
       "      <th>Income_Less than 5L</th>\n",
       "      <th>Income_More than 15L</th>\n",
       "      <th>Product_Holdings_1</th>\n",
       "      <th>Product_Holdings_2</th>\n",
       "      <th>Product_Holdings_3+</th>\n",
       "      <th>Credit_Category_Average</th>\n",
       "      <th>Credit_Category_Good</th>\n",
       "      <th>Credit_Category_Poor</th>\n",
       "    </tr>\n",
       "  </thead>\n",
       "  <tbody>\n",
       "    <tr>\n",
       "      <th>7632</th>\n",
       "      <td>0.335405</td>\n",
       "      <td>0.319384</td>\n",
       "      <td>1</td>\n",
       "      <td>0</td>\n",
       "      <td>1</td>\n",
       "      <td>1</td>\n",
       "      <td>0</td>\n",
       "      <td>1</td>\n",
       "      <td>0</td>\n",
       "      <td>0</td>\n",
       "      <td>0</td>\n",
       "      <td>0</td>\n",
       "      <td>1</td>\n",
       "      <td>0</td>\n",
       "      <td>1</td>\n",
       "      <td>0</td>\n",
       "      <td>0</td>\n",
       "    </tr>\n",
       "    <tr>\n",
       "      <th>379</th>\n",
       "      <td>0.254902</td>\n",
       "      <td>0.408300</td>\n",
       "      <td>4</td>\n",
       "      <td>0</td>\n",
       "      <td>1</td>\n",
       "      <td>0</td>\n",
       "      <td>1</td>\n",
       "      <td>0</td>\n",
       "      <td>0</td>\n",
       "      <td>1</td>\n",
       "      <td>0</td>\n",
       "      <td>0</td>\n",
       "      <td>1</td>\n",
       "      <td>0</td>\n",
       "      <td>1</td>\n",
       "      <td>0</td>\n",
       "      <td>0</td>\n",
       "    </tr>\n",
       "    <tr>\n",
       "      <th>5582</th>\n",
       "      <td>0.235294</td>\n",
       "      <td>0.431299</td>\n",
       "      <td>4</td>\n",
       "      <td>0</td>\n",
       "      <td>0</td>\n",
       "      <td>0</td>\n",
       "      <td>1</td>\n",
       "      <td>1</td>\n",
       "      <td>0</td>\n",
       "      <td>0</td>\n",
       "      <td>0</td>\n",
       "      <td>1</td>\n",
       "      <td>0</td>\n",
       "      <td>0</td>\n",
       "      <td>0</td>\n",
       "      <td>0</td>\n",
       "      <td>1</td>\n",
       "    </tr>\n",
       "    <tr>\n",
       "      <th>6894</th>\n",
       "      <td>0.427352</td>\n",
       "      <td>0.176209</td>\n",
       "      <td>0</td>\n",
       "      <td>1</td>\n",
       "      <td>0</td>\n",
       "      <td>0</td>\n",
       "      <td>1</td>\n",
       "      <td>0</td>\n",
       "      <td>1</td>\n",
       "      <td>0</td>\n",
       "      <td>0</td>\n",
       "      <td>0</td>\n",
       "      <td>1</td>\n",
       "      <td>0</td>\n",
       "      <td>0</td>\n",
       "      <td>1</td>\n",
       "      <td>0</td>\n",
       "    </tr>\n",
       "    <tr>\n",
       "      <th>5887</th>\n",
       "      <td>0.822667</td>\n",
       "      <td>0.030488</td>\n",
       "      <td>3</td>\n",
       "      <td>1</td>\n",
       "      <td>0</td>\n",
       "      <td>1</td>\n",
       "      <td>0</td>\n",
       "      <td>1</td>\n",
       "      <td>0</td>\n",
       "      <td>0</td>\n",
       "      <td>0</td>\n",
       "      <td>1</td>\n",
       "      <td>0</td>\n",
       "      <td>0</td>\n",
       "      <td>0</td>\n",
       "      <td>1</td>\n",
       "      <td>0</td>\n",
       "    </tr>\n",
       "    <tr>\n",
       "      <th>...</th>\n",
       "      <td>...</td>\n",
       "      <td>...</td>\n",
       "      <td>...</td>\n",
       "      <td>...</td>\n",
       "      <td>...</td>\n",
       "      <td>...</td>\n",
       "      <td>...</td>\n",
       "      <td>...</td>\n",
       "      <td>...</td>\n",
       "      <td>...</td>\n",
       "      <td>...</td>\n",
       "      <td>...</td>\n",
       "      <td>...</td>\n",
       "      <td>...</td>\n",
       "      <td>...</td>\n",
       "      <td>...</td>\n",
       "      <td>...</td>\n",
       "    </tr>\n",
       "    <tr>\n",
       "      <th>6118</th>\n",
       "      <td>0.385694</td>\n",
       "      <td>0.583517</td>\n",
       "      <td>5</td>\n",
       "      <td>0</td>\n",
       "      <td>0</td>\n",
       "      <td>0</td>\n",
       "      <td>1</td>\n",
       "      <td>0</td>\n",
       "      <td>1</td>\n",
       "      <td>0</td>\n",
       "      <td>0</td>\n",
       "      <td>0</td>\n",
       "      <td>1</td>\n",
       "      <td>0</td>\n",
       "      <td>0</td>\n",
       "      <td>1</td>\n",
       "      <td>0</td>\n",
       "    </tr>\n",
       "    <tr>\n",
       "      <th>1446</th>\n",
       "      <td>0.549020</td>\n",
       "      <td>0.403940</td>\n",
       "      <td>4</td>\n",
       "      <td>1</td>\n",
       "      <td>1</td>\n",
       "      <td>0</td>\n",
       "      <td>1</td>\n",
       "      <td>0</td>\n",
       "      <td>0</td>\n",
       "      <td>0</td>\n",
       "      <td>1</td>\n",
       "      <td>0</td>\n",
       "      <td>1</td>\n",
       "      <td>0</td>\n",
       "      <td>1</td>\n",
       "      <td>0</td>\n",
       "      <td>0</td>\n",
       "    </tr>\n",
       "    <tr>\n",
       "      <th>7384</th>\n",
       "      <td>0.397967</td>\n",
       "      <td>0.231154</td>\n",
       "      <td>0</td>\n",
       "      <td>1</td>\n",
       "      <td>1</td>\n",
       "      <td>1</td>\n",
       "      <td>0</td>\n",
       "      <td>0</td>\n",
       "      <td>1</td>\n",
       "      <td>0</td>\n",
       "      <td>0</td>\n",
       "      <td>1</td>\n",
       "      <td>0</td>\n",
       "      <td>0</td>\n",
       "      <td>0</td>\n",
       "      <td>1</td>\n",
       "      <td>0</td>\n",
       "    </tr>\n",
       "    <tr>\n",
       "      <th>6010</th>\n",
       "      <td>0.201043</td>\n",
       "      <td>0.350031</td>\n",
       "      <td>5</td>\n",
       "      <td>1</td>\n",
       "      <td>1</td>\n",
       "      <td>1</td>\n",
       "      <td>0</td>\n",
       "      <td>0</td>\n",
       "      <td>1</td>\n",
       "      <td>0</td>\n",
       "      <td>0</td>\n",
       "      <td>0</td>\n",
       "      <td>1</td>\n",
       "      <td>0</td>\n",
       "      <td>0</td>\n",
       "      <td>0</td>\n",
       "      <td>0</td>\n",
       "    </tr>\n",
       "    <tr>\n",
       "      <th>1468</th>\n",
       "      <td>0.137255</td>\n",
       "      <td>0.071730</td>\n",
       "      <td>0</td>\n",
       "      <td>0</td>\n",
       "      <td>1</td>\n",
       "      <td>1</td>\n",
       "      <td>0</td>\n",
       "      <td>0</td>\n",
       "      <td>1</td>\n",
       "      <td>0</td>\n",
       "      <td>0</td>\n",
       "      <td>0</td>\n",
       "      <td>1</td>\n",
       "      <td>0</td>\n",
       "      <td>0</td>\n",
       "      <td>1</td>\n",
       "      <td>0</td>\n",
       "    </tr>\n",
       "  </tbody>\n",
       "</table>\n",
       "<p>7468 rows × 17 columns</p>\n",
       "</div>"
      ],
      "text/plain": [
       "           Age   Balance  Vintage  Transaction_Status  Credit_Card  \\\n",
       "7632  0.335405  0.319384        1                   0            1   \n",
       "379   0.254902  0.408300        4                   0            1   \n",
       "5582  0.235294  0.431299        4                   0            0   \n",
       "6894  0.427352  0.176209        0                   1            0   \n",
       "5887  0.822667  0.030488        3                   1            0   \n",
       "...        ...       ...      ...                 ...          ...   \n",
       "6118  0.385694  0.583517        5                   0            0   \n",
       "1446  0.549020  0.403940        4                   1            1   \n",
       "7384  0.397967  0.231154        0                   1            1   \n",
       "6010  0.201043  0.350031        5                   1            1   \n",
       "1468  0.137255  0.071730        0                   0            1   \n",
       "\n",
       "      Gender_Female  Gender_Male  Income_10L - 15L  Income_5L - 10L  \\\n",
       "7632              1            0                 1                0   \n",
       "379               0            1                 0                0   \n",
       "5582              0            1                 1                0   \n",
       "6894              0            1                 0                1   \n",
       "5887              1            0                 1                0   \n",
       "...             ...          ...               ...              ...   \n",
       "6118              0            1                 0                1   \n",
       "1446              0            1                 0                0   \n",
       "7384              1            0                 0                1   \n",
       "6010              1            0                 0                1   \n",
       "1468              1            0                 0                1   \n",
       "\n",
       "      Income_Less than 5L  Income_More than 15L  Product_Holdings_1  \\\n",
       "7632                    0                     0                   0   \n",
       "379                     1                     0                   0   \n",
       "5582                    0                     0                   1   \n",
       "6894                    0                     0                   0   \n",
       "5887                    0                     0                   1   \n",
       "...                   ...                   ...                 ...   \n",
       "6118                    0                     0                   0   \n",
       "1446                    0                     1                   0   \n",
       "7384                    0                     0                   1   \n",
       "6010                    0                     0                   0   \n",
       "1468                    0                     0                   0   \n",
       "\n",
       "      Product_Holdings_2  Product_Holdings_3+  Credit_Category_Average  \\\n",
       "7632                   1                    0                        1   \n",
       "379                    1                    0                        1   \n",
       "5582                   0                    0                        0   \n",
       "6894                   1                    0                        0   \n",
       "5887                   0                    0                        0   \n",
       "...                  ...                  ...                      ...   \n",
       "6118                   1                    0                        0   \n",
       "1446                   1                    0                        1   \n",
       "7384                   0                    0                        0   \n",
       "6010                   1                    0                        0   \n",
       "1468                   1                    0                        0   \n",
       "\n",
       "      Credit_Category_Good  Credit_Category_Poor  \n",
       "7632                     0                     0  \n",
       "379                      0                     0  \n",
       "5582                     0                     1  \n",
       "6894                     1                     0  \n",
       "5887                     1                     0  \n",
       "...                    ...                   ...  \n",
       "6118                     1                     0  \n",
       "1446                     0                     0  \n",
       "7384                     1                     0  \n",
       "6010                     0                     0  \n",
       "1468                     1                     0  \n",
       "\n",
       "[7468 rows x 17 columns]"
      ]
     },
     "execution_count": 29,
     "metadata": {},
     "output_type": "execute_result"
    }
   ],
   "source": [
    "x_train"
   ]
  },
  {
   "cell_type": "code",
   "execution_count": 18,
   "id": "ab140945",
   "metadata": {},
   "outputs": [
    {
     "data": {
      "text/html": [
       "<div>\n",
       "<style scoped>\n",
       "    .dataframe tbody tr th:only-of-type {\n",
       "        vertical-align: middle;\n",
       "    }\n",
       "\n",
       "    .dataframe tbody tr th {\n",
       "        vertical-align: top;\n",
       "    }\n",
       "\n",
       "    .dataframe thead th {\n",
       "        text-align: right;\n",
       "    }\n",
       "</style>\n",
       "<table border=\"1\" class=\"dataframe\">\n",
       "  <thead>\n",
       "    <tr style=\"text-align: right;\">\n",
       "      <th></th>\n",
       "      <th>Age</th>\n",
       "      <th>Balance</th>\n",
       "      <th>Vintage</th>\n",
       "      <th>Transaction_Status</th>\n",
       "      <th>Credit_Card</th>\n",
       "      <th>Gender_Female</th>\n",
       "      <th>Gender_Male</th>\n",
       "      <th>Income_10L - 15L</th>\n",
       "      <th>Income_5L - 10L</th>\n",
       "      <th>Income_Less than 5L</th>\n",
       "      <th>Income_More than 15L</th>\n",
       "      <th>Product_Holdings_1</th>\n",
       "      <th>Product_Holdings_2</th>\n",
       "      <th>Product_Holdings_3+</th>\n",
       "      <th>Credit_Category_Average</th>\n",
       "      <th>Credit_Category_Good</th>\n",
       "      <th>Credit_Category_Poor</th>\n",
       "    </tr>\n",
       "  </thead>\n",
       "  <tbody>\n",
       "    <tr>\n",
       "      <th>5312</th>\n",
       "      <td>0.470588</td>\n",
       "      <td>0.451137</td>\n",
       "      <td>3</td>\n",
       "      <td>1</td>\n",
       "      <td>1</td>\n",
       "      <td>0</td>\n",
       "      <td>1</td>\n",
       "      <td>0</td>\n",
       "      <td>0</td>\n",
       "      <td>1</td>\n",
       "      <td>0</td>\n",
       "      <td>1</td>\n",
       "      <td>0</td>\n",
       "      <td>0</td>\n",
       "      <td>1</td>\n",
       "      <td>0</td>\n",
       "      <td>0</td>\n",
       "    </tr>\n",
       "    <tr>\n",
       "      <th>6228</th>\n",
       "      <td>0.345701</td>\n",
       "      <td>0.372402</td>\n",
       "      <td>3</td>\n",
       "      <td>0</td>\n",
       "      <td>1</td>\n",
       "      <td>1</td>\n",
       "      <td>0</td>\n",
       "      <td>0</td>\n",
       "      <td>0</td>\n",
       "      <td>0</td>\n",
       "      <td>1</td>\n",
       "      <td>0</td>\n",
       "      <td>0</td>\n",
       "      <td>0</td>\n",
       "      <td>1</td>\n",
       "      <td>0</td>\n",
       "      <td>0</td>\n",
       "    </tr>\n",
       "    <tr>\n",
       "      <th>7110</th>\n",
       "      <td>0.588187</td>\n",
       "      <td>0.143904</td>\n",
       "      <td>2</td>\n",
       "      <td>1</td>\n",
       "      <td>0</td>\n",
       "      <td>0</td>\n",
       "      <td>1</td>\n",
       "      <td>1</td>\n",
       "      <td>0</td>\n",
       "      <td>0</td>\n",
       "      <td>0</td>\n",
       "      <td>0</td>\n",
       "      <td>1</td>\n",
       "      <td>0</td>\n",
       "      <td>0</td>\n",
       "      <td>1</td>\n",
       "      <td>0</td>\n",
       "    </tr>\n",
       "    <tr>\n",
       "      <th>671</th>\n",
       "      <td>0.392157</td>\n",
       "      <td>0.026229</td>\n",
       "      <td>3</td>\n",
       "      <td>0</td>\n",
       "      <td>0</td>\n",
       "      <td>1</td>\n",
       "      <td>0</td>\n",
       "      <td>0</td>\n",
       "      <td>1</td>\n",
       "      <td>0</td>\n",
       "      <td>0</td>\n",
       "      <td>0</td>\n",
       "      <td>0</td>\n",
       "      <td>1</td>\n",
       "      <td>0</td>\n",
       "      <td>0</td>\n",
       "      <td>1</td>\n",
       "    </tr>\n",
       "    <tr>\n",
       "      <th>8737</th>\n",
       "      <td>0.451763</td>\n",
       "      <td>0.314078</td>\n",
       "      <td>1</td>\n",
       "      <td>0</td>\n",
       "      <td>0</td>\n",
       "      <td>1</td>\n",
       "      <td>0</td>\n",
       "      <td>0</td>\n",
       "      <td>1</td>\n",
       "      <td>0</td>\n",
       "      <td>0</td>\n",
       "      <td>1</td>\n",
       "      <td>0</td>\n",
       "      <td>0</td>\n",
       "      <td>1</td>\n",
       "      <td>0</td>\n",
       "      <td>0</td>\n",
       "    </tr>\n",
       "    <tr>\n",
       "      <th>...</th>\n",
       "      <td>...</td>\n",
       "      <td>...</td>\n",
       "      <td>...</td>\n",
       "      <td>...</td>\n",
       "      <td>...</td>\n",
       "      <td>...</td>\n",
       "      <td>...</td>\n",
       "      <td>...</td>\n",
       "      <td>...</td>\n",
       "      <td>...</td>\n",
       "      <td>...</td>\n",
       "      <td>...</td>\n",
       "      <td>...</td>\n",
       "      <td>...</td>\n",
       "      <td>...</td>\n",
       "      <td>...</td>\n",
       "      <td>...</td>\n",
       "    </tr>\n",
       "    <tr>\n",
       "      <th>7868</th>\n",
       "      <td>0.377909</td>\n",
       "      <td>0.365721</td>\n",
       "      <td>3</td>\n",
       "      <td>0</td>\n",
       "      <td>1</td>\n",
       "      <td>1</td>\n",
       "      <td>0</td>\n",
       "      <td>0</td>\n",
       "      <td>0</td>\n",
       "      <td>0</td>\n",
       "      <td>1</td>\n",
       "      <td>1</td>\n",
       "      <td>0</td>\n",
       "      <td>0</td>\n",
       "      <td>0</td>\n",
       "      <td>1</td>\n",
       "      <td>0</td>\n",
       "    </tr>\n",
       "    <tr>\n",
       "      <th>196</th>\n",
       "      <td>0.235294</td>\n",
       "      <td>0.110027</td>\n",
       "      <td>4</td>\n",
       "      <td>0</td>\n",
       "      <td>1</td>\n",
       "      <td>1</td>\n",
       "      <td>0</td>\n",
       "      <td>0</td>\n",
       "      <td>0</td>\n",
       "      <td>1</td>\n",
       "      <td>0</td>\n",
       "      <td>1</td>\n",
       "      <td>0</td>\n",
       "      <td>0</td>\n",
       "      <td>0</td>\n",
       "      <td>1</td>\n",
       "      <td>0</td>\n",
       "    </tr>\n",
       "    <tr>\n",
       "      <th>3610</th>\n",
       "      <td>0.176471</td>\n",
       "      <td>0.436145</td>\n",
       "      <td>4</td>\n",
       "      <td>0</td>\n",
       "      <td>1</td>\n",
       "      <td>0</td>\n",
       "      <td>1</td>\n",
       "      <td>0</td>\n",
       "      <td>1</td>\n",
       "      <td>0</td>\n",
       "      <td>0</td>\n",
       "      <td>1</td>\n",
       "      <td>0</td>\n",
       "      <td>0</td>\n",
       "      <td>0</td>\n",
       "      <td>1</td>\n",
       "      <td>0</td>\n",
       "    </tr>\n",
       "    <tr>\n",
       "      <th>1966</th>\n",
       "      <td>0.470588</td>\n",
       "      <td>0.401054</td>\n",
       "      <td>3</td>\n",
       "      <td>0</td>\n",
       "      <td>0</td>\n",
       "      <td>0</td>\n",
       "      <td>1</td>\n",
       "      <td>0</td>\n",
       "      <td>0</td>\n",
       "      <td>0</td>\n",
       "      <td>1</td>\n",
       "      <td>1</td>\n",
       "      <td>0</td>\n",
       "      <td>0</td>\n",
       "      <td>0</td>\n",
       "      <td>0</td>\n",
       "      <td>1</td>\n",
       "    </tr>\n",
       "    <tr>\n",
       "      <th>6246</th>\n",
       "      <td>0.837846</td>\n",
       "      <td>0.453771</td>\n",
       "      <td>0</td>\n",
       "      <td>0</td>\n",
       "      <td>0</td>\n",
       "      <td>1</td>\n",
       "      <td>0</td>\n",
       "      <td>1</td>\n",
       "      <td>0</td>\n",
       "      <td>0</td>\n",
       "      <td>0</td>\n",
       "      <td>1</td>\n",
       "      <td>0</td>\n",
       "      <td>0</td>\n",
       "      <td>0</td>\n",
       "      <td>1</td>\n",
       "      <td>0</td>\n",
       "    </tr>\n",
       "  </tbody>\n",
       "</table>\n",
       "<p>1868 rows × 17 columns</p>\n",
       "</div>"
      ],
      "text/plain": [
       "           Age   Balance  Vintage  Transaction_Status  Credit_Card  \\\n",
       "5312  0.470588  0.451137        3                   1            1   \n",
       "6228  0.345701  0.372402        3                   0            1   \n",
       "7110  0.588187  0.143904        2                   1            0   \n",
       "671   0.392157  0.026229        3                   0            0   \n",
       "8737  0.451763  0.314078        1                   0            0   \n",
       "...        ...       ...      ...                 ...          ...   \n",
       "7868  0.377909  0.365721        3                   0            1   \n",
       "196   0.235294  0.110027        4                   0            1   \n",
       "3610  0.176471  0.436145        4                   0            1   \n",
       "1966  0.470588  0.401054        3                   0            0   \n",
       "6246  0.837846  0.453771        0                   0            0   \n",
       "\n",
       "      Gender_Female  Gender_Male  Income_10L - 15L  Income_5L - 10L  \\\n",
       "5312              0            1                 0                0   \n",
       "6228              1            0                 0                0   \n",
       "7110              0            1                 1                0   \n",
       "671               1            0                 0                1   \n",
       "8737              1            0                 0                1   \n",
       "...             ...          ...               ...              ...   \n",
       "7868              1            0                 0                0   \n",
       "196               1            0                 0                0   \n",
       "3610              0            1                 0                1   \n",
       "1966              0            1                 0                0   \n",
       "6246              1            0                 1                0   \n",
       "\n",
       "      Income_Less than 5L  Income_More than 15L  Product_Holdings_1  \\\n",
       "5312                    1                     0                   1   \n",
       "6228                    0                     1                   0   \n",
       "7110                    0                     0                   0   \n",
       "671                     0                     0                   0   \n",
       "8737                    0                     0                   1   \n",
       "...                   ...                   ...                 ...   \n",
       "7868                    0                     1                   1   \n",
       "196                     1                     0                   1   \n",
       "3610                    0                     0                   1   \n",
       "1966                    0                     1                   1   \n",
       "6246                    0                     0                   1   \n",
       "\n",
       "      Product_Holdings_2  Product_Holdings_3+  Credit_Category_Average  \\\n",
       "5312                   0                    0                        1   \n",
       "6228                   0                    0                        1   \n",
       "7110                   1                    0                        0   \n",
       "671                    0                    1                        0   \n",
       "8737                   0                    0                        1   \n",
       "...                  ...                  ...                      ...   \n",
       "7868                   0                    0                        0   \n",
       "196                    0                    0                        0   \n",
       "3610                   0                    0                        0   \n",
       "1966                   0                    0                        0   \n",
       "6246                   0                    0                        0   \n",
       "\n",
       "      Credit_Category_Good  Credit_Category_Poor  \n",
       "5312                     0                     0  \n",
       "6228                     0                     0  \n",
       "7110                     1                     0  \n",
       "671                      0                     1  \n",
       "8737                     0                     0  \n",
       "...                    ...                   ...  \n",
       "7868                     1                     0  \n",
       "196                      1                     0  \n",
       "3610                     1                     0  \n",
       "1966                     0                     1  \n",
       "6246                     1                     0  \n",
       "\n",
       "[1868 rows x 17 columns]"
      ]
     },
     "execution_count": 18,
     "metadata": {},
     "output_type": "execute_result"
    }
   ],
   "source": [
    "x_test"
   ]
  },
  {
   "cell_type": "code",
   "execution_count": 80,
   "id": "349061bc",
   "metadata": {},
   "outputs": [
    {
     "data": {
      "text/plain": [
       "LogisticRegression()"
      ]
     },
     "execution_count": 80,
     "metadata": {},
     "output_type": "execute_result"
    }
   ],
   "source": [
    "model=LogisticRegression()\n",
    "model.fit(x_train,y_train)"
   ]
  },
  {
   "cell_type": "code",
   "execution_count": 81,
   "id": "3be06db8",
   "metadata": {},
   "outputs": [],
   "source": [
    "y_pred=model.predict(x_train)"
   ]
  },
  {
   "cell_type": "code",
   "execution_count": 82,
   "id": "46064586",
   "metadata": {},
   "outputs": [
    {
     "name": "stdout",
     "output_type": "stream",
     "text": [
      "0.664167113015533\n"
     ]
    }
   ],
   "source": [
    "print(accuracy_score(y_train,y_pred))"
   ]
  },
  {
   "cell_type": "code",
   "execution_count": 83,
   "id": "2e3c2331",
   "metadata": {},
   "outputs": [
    {
     "name": "stdout",
     "output_type": "stream",
     "text": [
      "The AUC for the model built on the Train Data is :  0.6641981232385413\n",
      "The AUC for the model built on the Test Data is :  0.6626058344368204\n"
     ]
    }
   ],
   "source": [
    "train_auc = metrics.roc_auc_score(y_train, y_pred)\n",
    "test_auc = metrics.roc_auc_score(y_test, model.predict(x_test))\n",
    "\n",
    "print(\"The AUC for the model built on the Train Data is : \", train_auc)\n",
    "print(\"The AUC for the model built on the Test Data is : \", test_auc)"
   ]
  },
  {
   "cell_type": "code",
   "execution_count": null,
   "id": "a2f3647a",
   "metadata": {},
   "outputs": [],
   "source": []
  },
  {
   "cell_type": "code",
   "execution_count": 76,
   "id": "b9f98fc3",
   "metadata": {},
   "outputs": [],
   "source": [
    "logr_liblinear = LogisticRegression(verbose=1,solver='liblinear')"
   ]
  },
  {
   "cell_type": "code",
   "execution_count": 77,
   "id": "8a9ee956",
   "metadata": {},
   "outputs": [
    {
     "name": "stdout",
     "output_type": "stream",
     "text": [
      "[LibLinear]"
     ]
    },
    {
     "data": {
      "text/plain": [
       "LogisticRegression(solver='liblinear', verbose=1)"
      ]
     },
     "execution_count": 77,
     "metadata": {},
     "output_type": "execute_result"
    }
   ],
   "source": [
    "logr_liblinear.fit(x_train,y_train )"
   ]
  },
  {
   "cell_type": "code",
   "execution_count": 78,
   "id": "e35aaaa3",
   "metadata": {},
   "outputs": [
    {
     "name": "stdout",
     "output_type": "stream",
     "text": [
      "[[2510 1213]\n",
      " [1292 2453]]\n",
      "0.6645688269951794\n",
      "              precision    recall  f1-score   support\n",
      "\n",
      "           0       0.66      0.67      0.67      3723\n",
      "           1       0.67      0.66      0.66      3745\n",
      "\n",
      "    accuracy                           0.66      7468\n",
      "   macro avg       0.66      0.66      0.66      7468\n",
      "weighted avg       0.66      0.66      0.66      7468\n",
      "\n"
     ]
    }
   ],
   "source": [
    "y_pred=logr_liblinear.predict(x_train)\n",
    "print(confusion_matrix(y_train,y_pred))\n",
    "print(accuracy_score(y_train,y_pred))\n",
    "print(classification_report(y_train,y_pred))"
   ]
  },
  {
   "cell_type": "code",
   "execution_count": 79,
   "id": "c676af8b",
   "metadata": {},
   "outputs": [
    {
     "name": "stdout",
     "output_type": "stream",
     "text": [
      "[[636 309]\n",
      " [327 596]]\n",
      "0.6595289079229122\n",
      "              precision    recall  f1-score   support\n",
      "\n",
      "           0       0.66      0.67      0.67       945\n",
      "           1       0.66      0.65      0.65       923\n",
      "\n",
      "    accuracy                           0.66      1868\n",
      "   macro avg       0.66      0.66      0.66      1868\n",
      "weighted avg       0.66      0.66      0.66      1868\n",
      "\n"
     ]
    }
   ],
   "source": [
    "y_pred_=logr_liblinear.predict(x_test)\n",
    "print(confusion_matrix(y_test,y_pred_))\n",
    "print(accuracy_score(y_test,y_pred_))\n",
    "print(classification_report(y_test,y_pred_))"
   ]
  },
  {
   "cell_type": "code",
   "execution_count": null,
   "id": "49d4149a",
   "metadata": {},
   "outputs": [],
   "source": []
  },
  {
   "cell_type": "code",
   "execution_count": 33,
   "id": "e36971f9",
   "metadata": {},
   "outputs": [],
   "source": [
    "from sklearn.tree import DecisionTreeClassifier\n",
    "from sklearn import tree \n",
    "from sklearn.model_selection import KFold\n",
    "from sklearn.model_selection import GridSearchCV,RandomizedSearchCV"
   ]
  },
  {
   "cell_type": "code",
   "execution_count": null,
   "id": "79eb9ffd",
   "metadata": {},
   "outputs": [],
   "source": []
  },
  {
   "cell_type": "markdown",
   "id": "74ef9884",
   "metadata": {},
   "source": [
    "# Random forest"
   ]
  },
  {
   "cell_type": "code",
   "execution_count": 34,
   "id": "6e863a33",
   "metadata": {},
   "outputs": [],
   "source": [
    "from sklearn.ensemble import RandomForestClassifier"
   ]
  },
  {
   "cell_type": "code",
   "execution_count": 35,
   "id": "527a20bb",
   "metadata": {},
   "outputs": [],
   "source": [
    "grid_pram = {\n",
    "    \"n_estimators\" : [5,10 , 50 , 100 , 120 , 150],\n",
    "    'criterion' :['gini' ,'entropy'],\n",
    "    'max_depth' :range(10),\n",
    "    'min_samples_leaf' :range(10)\n",
    "    \n",
    "}"
   ]
  },
  {
   "cell_type": "code",
   "execution_count": 36,
   "id": "6b523f62",
   "metadata": {},
   "outputs": [],
   "source": [
    "rf = RandomForestClassifier()"
   ]
  },
  {
   "cell_type": "code",
   "execution_count": 37,
   "id": "ba7e2376",
   "metadata": {},
   "outputs": [],
   "source": [
    "grid_serach_rf = GridSearchCV(param_grid= grid_pram, cv = 10 , n_jobs=6,verbose=1 ,estimator = rf)"
   ]
  },
  {
   "cell_type": "code",
   "execution_count": 38,
   "id": "83c2515b",
   "metadata": {},
   "outputs": [
    {
     "name": "stdout",
     "output_type": "stream",
     "text": [
      "Fitting 10 folds for each of 1200 candidates, totalling 12000 fits\n"
     ]
    },
    {
     "name": "stderr",
     "output_type": "stream",
     "text": [
      "C:\\Users\\ASUS-PC\\anaconda3\\lib\\site-packages\\sklearn\\model_selection\\_validation.py:372: FitFailedWarning: \n",
      "2280 fits failed out of a total of 12000.\n",
      "The score on these train-test partitions for these parameters will be set to nan.\n",
      "If these failures are not expected, you can try to debug them by setting error_score='raise'.\n",
      "\n",
      "Below are more details about the failures:\n",
      "--------------------------------------------------------------------------------\n",
      "1200 fits failed with the following error:\n",
      "Traceback (most recent call last):\n",
      "  File \"C:\\Users\\ASUS-PC\\anaconda3\\lib\\site-packages\\sklearn\\model_selection\\_validation.py\", line 680, in _fit_and_score\n",
      "    estimator.fit(X_train, y_train, **fit_params)\n",
      "  File \"C:\\Users\\ASUS-PC\\anaconda3\\lib\\site-packages\\sklearn\\ensemble\\_forest.py\", line 450, in fit\n",
      "    trees = Parallel(\n",
      "  File \"C:\\Users\\ASUS-PC\\anaconda3\\lib\\site-packages\\joblib\\parallel.py\", line 1041, in __call__\n",
      "    if self.dispatch_one_batch(iterator):\n",
      "  File \"C:\\Users\\ASUS-PC\\anaconda3\\lib\\site-packages\\joblib\\parallel.py\", line 859, in dispatch_one_batch\n",
      "    self._dispatch(tasks)\n",
      "  File \"C:\\Users\\ASUS-PC\\anaconda3\\lib\\site-packages\\joblib\\parallel.py\", line 777, in _dispatch\n",
      "    job = self._backend.apply_async(batch, callback=cb)\n",
      "  File \"C:\\Users\\ASUS-PC\\anaconda3\\lib\\site-packages\\joblib\\_parallel_backends.py\", line 208, in apply_async\n",
      "    result = ImmediateResult(func)\n",
      "  File \"C:\\Users\\ASUS-PC\\anaconda3\\lib\\site-packages\\joblib\\_parallel_backends.py\", line 572, in __init__\n",
      "    self.results = batch()\n",
      "  File \"C:\\Users\\ASUS-PC\\anaconda3\\lib\\site-packages\\joblib\\parallel.py\", line 262, in __call__\n",
      "    return [func(*args, **kwargs)\n",
      "  File \"C:\\Users\\ASUS-PC\\anaconda3\\lib\\site-packages\\joblib\\parallel.py\", line 262, in <listcomp>\n",
      "    return [func(*args, **kwargs)\n",
      "  File \"C:\\Users\\ASUS-PC\\anaconda3\\lib\\site-packages\\sklearn\\utils\\fixes.py\", line 216, in __call__\n",
      "    return self.function(*args, **kwargs)\n",
      "  File \"C:\\Users\\ASUS-PC\\anaconda3\\lib\\site-packages\\sklearn\\ensemble\\_forest.py\", line 185, in _parallel_build_trees\n",
      "    tree.fit(X, y, sample_weight=curr_sample_weight, check_input=False)\n",
      "  File \"C:\\Users\\ASUS-PC\\anaconda3\\lib\\site-packages\\sklearn\\tree\\_classes.py\", line 937, in fit\n",
      "    super().fit(\n",
      "  File \"C:\\Users\\ASUS-PC\\anaconda3\\lib\\site-packages\\sklearn\\tree\\_classes.py\", line 235, in fit\n",
      "    raise ValueError(\n",
      "ValueError: min_samples_leaf must be at least 1 or in (0, 0.5], got 0\n",
      "\n",
      "--------------------------------------------------------------------------------\n",
      "1080 fits failed with the following error:\n",
      "Traceback (most recent call last):\n",
      "  File \"C:\\Users\\ASUS-PC\\anaconda3\\lib\\site-packages\\sklearn\\model_selection\\_validation.py\", line 680, in _fit_and_score\n",
      "    estimator.fit(X_train, y_train, **fit_params)\n",
      "  File \"C:\\Users\\ASUS-PC\\anaconda3\\lib\\site-packages\\sklearn\\ensemble\\_forest.py\", line 450, in fit\n",
      "    trees = Parallel(\n",
      "  File \"C:\\Users\\ASUS-PC\\anaconda3\\lib\\site-packages\\joblib\\parallel.py\", line 1041, in __call__\n",
      "    if self.dispatch_one_batch(iterator):\n",
      "  File \"C:\\Users\\ASUS-PC\\anaconda3\\lib\\site-packages\\joblib\\parallel.py\", line 859, in dispatch_one_batch\n",
      "    self._dispatch(tasks)\n",
      "  File \"C:\\Users\\ASUS-PC\\anaconda3\\lib\\site-packages\\joblib\\parallel.py\", line 777, in _dispatch\n",
      "    job = self._backend.apply_async(batch, callback=cb)\n",
      "  File \"C:\\Users\\ASUS-PC\\anaconda3\\lib\\site-packages\\joblib\\_parallel_backends.py\", line 208, in apply_async\n",
      "    result = ImmediateResult(func)\n",
      "  File \"C:\\Users\\ASUS-PC\\anaconda3\\lib\\site-packages\\joblib\\_parallel_backends.py\", line 572, in __init__\n",
      "    self.results = batch()\n",
      "  File \"C:\\Users\\ASUS-PC\\anaconda3\\lib\\site-packages\\joblib\\parallel.py\", line 262, in __call__\n",
      "    return [func(*args, **kwargs)\n",
      "  File \"C:\\Users\\ASUS-PC\\anaconda3\\lib\\site-packages\\joblib\\parallel.py\", line 262, in <listcomp>\n",
      "    return [func(*args, **kwargs)\n",
      "  File \"C:\\Users\\ASUS-PC\\anaconda3\\lib\\site-packages\\sklearn\\utils\\fixes.py\", line 216, in __call__\n",
      "    return self.function(*args, **kwargs)\n",
      "  File \"C:\\Users\\ASUS-PC\\anaconda3\\lib\\site-packages\\sklearn\\ensemble\\_forest.py\", line 185, in _parallel_build_trees\n",
      "    tree.fit(X, y, sample_weight=curr_sample_weight, check_input=False)\n",
      "  File \"C:\\Users\\ASUS-PC\\anaconda3\\lib\\site-packages\\sklearn\\tree\\_classes.py\", line 937, in fit\n",
      "    super().fit(\n",
      "  File \"C:\\Users\\ASUS-PC\\anaconda3\\lib\\site-packages\\sklearn\\tree\\_classes.py\", line 306, in fit\n",
      "    raise ValueError(\"max_depth must be greater than zero. \")\n",
      "ValueError: max_depth must be greater than zero. \n",
      "\n",
      "  warnings.warn(some_fits_failed_message, FitFailedWarning)\n",
      "C:\\Users\\ASUS-PC\\anaconda3\\lib\\site-packages\\sklearn\\model_selection\\_search.py:969: UserWarning: One or more of the test scores are non-finite: [       nan        nan        nan ... 0.70701663 0.70313264 0.70715014]\n",
      "  warnings.warn(\n"
     ]
    },
    {
     "data": {
      "text/plain": [
       "GridSearchCV(cv=10, estimator=RandomForestClassifier(), n_jobs=6,\n",
       "             param_grid={'criterion': ['gini', 'entropy'],\n",
       "                         'max_depth': range(0, 10),\n",
       "                         'min_samples_leaf': range(0, 10),\n",
       "                         'n_estimators': [5, 10, 50, 100, 120, 150]},\n",
       "             verbose=1)"
      ]
     },
     "execution_count": 38,
     "metadata": {},
     "output_type": "execute_result"
    }
   ],
   "source": [
    "grid_serach_rf.fit(x_train,y_train)"
   ]
  },
  {
   "cell_type": "code",
   "execution_count": 39,
   "id": "5f1151b3",
   "metadata": {},
   "outputs": [
    {
     "data": {
      "text/plain": [
       "{'criterion': 'gini',\n",
       " 'max_depth': 9,\n",
       " 'min_samples_leaf': 1,\n",
       " 'n_estimators': 120}"
      ]
     },
     "execution_count": 39,
     "metadata": {},
     "output_type": "execute_result"
    }
   ],
   "source": [
    "grid_serach_rf.best_params_"
   ]
  },
  {
   "cell_type": "code",
   "execution_count": 40,
   "id": "545d867f",
   "metadata": {},
   "outputs": [],
   "source": [
    "rf_new = RandomForestClassifier(criterion='gini' , max_depth=9 , min_samples_leaf= 1 , n_estimators=120)"
   ]
  },
  {
   "cell_type": "code",
   "execution_count": 41,
   "id": "6cd23167",
   "metadata": {},
   "outputs": [
    {
     "data": {
      "text/plain": [
       "RandomForestClassifier(max_depth=9, n_estimators=120)"
      ]
     },
     "execution_count": 41,
     "metadata": {},
     "output_type": "execute_result"
    }
   ],
   "source": [
    "rf_new.fit(x_train,y_train)"
   ]
  },
  {
   "cell_type": "code",
   "execution_count": 42,
   "id": "2b645e8d",
   "metadata": {},
   "outputs": [
    {
     "data": {
      "text/plain": [
       "0.7912426352437065"
      ]
     },
     "execution_count": 42,
     "metadata": {},
     "output_type": "execute_result"
    }
   ],
   "source": [
    "rf_new.score(x_train,y_train)"
   ]
  },
  {
   "cell_type": "code",
   "execution_count": 43,
   "id": "700f4342",
   "metadata": {},
   "outputs": [
    {
     "data": {
      "text/plain": [
       "0.7082441113490364"
      ]
     },
     "execution_count": 43,
     "metadata": {},
     "output_type": "execute_result"
    }
   ],
   "source": [
    "rf_new.score(x_test,y_test)"
   ]
  },
  {
   "cell_type": "code",
   "execution_count": 44,
   "id": "d678758b",
   "metadata": {},
   "outputs": [
    {
     "name": "stdout",
     "output_type": "stream",
     "text": [
      "[[2699 1024]\n",
      " [ 535 3210]]\n",
      "0.7912426352437065\n",
      "              precision    recall  f1-score   support\n",
      "\n",
      "           0       0.83      0.72      0.78      3723\n",
      "           1       0.76      0.86      0.80      3745\n",
      "\n",
      "    accuracy                           0.79      7468\n",
      "   macro avg       0.80      0.79      0.79      7468\n",
      "weighted avg       0.80      0.79      0.79      7468\n",
      "\n"
     ]
    }
   ],
   "source": [
    "predictions=rf_new.predict(x_train)\n",
    "print(confusion_matrix(y_train,predictions))\n",
    "print(accuracy_score(y_train,predictions))\n",
    "print(classification_report(y_train,predictions))"
   ]
  },
  {
   "cell_type": "code",
   "execution_count": 45,
   "id": "e7c3f602",
   "metadata": {},
   "outputs": [
    {
     "name": "stdout",
     "output_type": "stream",
     "text": [
      "[[625 320]\n",
      " [225 698]]\n",
      "0.7082441113490364\n",
      "              precision    recall  f1-score   support\n",
      "\n",
      "           0       0.74      0.66      0.70       945\n",
      "           1       0.69      0.76      0.72       923\n",
      "\n",
      "    accuracy                           0.71      1868\n",
      "   macro avg       0.71      0.71      0.71      1868\n",
      "weighted avg       0.71      0.71      0.71      1868\n",
      "\n"
     ]
    }
   ],
   "source": [
    "prediction=rf_new.predict(x_test)\n",
    "print(confusion_matrix(y_test,prediction))\n",
    "print(accuracy_score(y_test,prediction))\n",
    "print(classification_report(y_test,prediction))"
   ]
  },
  {
   "cell_type": "markdown",
   "id": "51270a1f",
   "metadata": {},
   "source": [
    "# decision tree"
   ]
  },
  {
   "cell_type": "code",
   "execution_count": 18,
   "id": "9245195f",
   "metadata": {},
   "outputs": [
    {
     "data": {
      "text/plain": [
       "DecisionTreeClassifier()"
      ]
     },
     "execution_count": 18,
     "metadata": {},
     "output_type": "execute_result"
    }
   ],
   "source": [
    "dt_model1 = DecisionTreeClassifier()\n",
    "dt_model1.fit(x_train,y_train )"
   ]
  },
  {
   "cell_type": "code",
   "execution_count": 19,
   "id": "e6a47ebb",
   "metadata": {},
   "outputs": [
    {
     "name": "stdout",
     "output_type": "stream",
     "text": [
      "1.0\n",
      "0.7922912205567452\n"
     ]
    }
   ],
   "source": [
    "print(dt_model1.score(x_train,y_train))\n",
    "print(dt_model1.score(x_test,y_test))"
   ]
  },
  {
   "cell_type": "code",
   "execution_count": 20,
   "id": "1c124636",
   "metadata": {},
   "outputs": [],
   "source": [
    "path = dt_model1.cost_complexity_pruning_path(x_train,y_train)\n",
    "ccp_alpha = path.ccp_alphas"
   ]
  },
  {
   "cell_type": "code",
   "execution_count": 21,
   "id": "ac9c5e3f",
   "metadata": {},
   "outputs": [
    {
     "data": {
      "text/plain": [
       "array([0.00000000e+00, 6.40413591e-05, 6.56395392e-05, 7.54542131e-05,\n",
       "       7.81110516e-05, 7.81110516e-05, 7.93509096e-05, 8.03427959e-05,\n",
       "       8.11543393e-05, 8.11543393e-05, 8.18306255e-05, 8.38594840e-05,\n",
       "       8.43103414e-05, 8.43103414e-05, 8.50188317e-05, 8.52120563e-05,\n",
       "       8.58363204e-05, 8.59634854e-05, 8.62941141e-05, 8.63901031e-05,\n",
       "       8.64800928e-05, 8.65646286e-05, 8.66441917e-05, 8.67900573e-05,\n",
       "       8.68570767e-05, 8.72860005e-05, 8.92697733e-05, 8.92697733e-05,\n",
       "       8.92697733e-05, 8.92697733e-05, 8.92697733e-05, 8.92697733e-05,\n",
       "       8.92697733e-05, 8.92697733e-05, 8.92697733e-05, 8.92697733e-05,\n",
       "       8.92697733e-05, 8.92697733e-05, 8.92697733e-05, 8.92697733e-05,\n",
       "       8.92697733e-05, 9.06431544e-05, 9.85538297e-05, 1.00232728e-04,\n",
       "       1.00428495e-04, 1.00428495e-04, 1.00428495e-04, 1.00428495e-04,\n",
       "       1.00428495e-04, 1.00428495e-04, 1.00428495e-04, 1.00428495e-04,\n",
       "       1.00428495e-04, 1.00428495e-04, 1.00428495e-04, 1.00428495e-04,\n",
       "       1.00428495e-04, 1.01078442e-04, 1.06818532e-04, 1.07123728e-04,\n",
       "       1.07123728e-04, 1.07123728e-04, 1.07123728e-04, 1.07123728e-04,\n",
       "       1.07123728e-04, 1.07123728e-04, 1.07123728e-04, 1.07123728e-04,\n",
       "       1.07123728e-04, 1.07190722e-04, 1.09478096e-04, 1.11587217e-04,\n",
       "       1.11587217e-04, 1.11587217e-04, 1.11587217e-04, 1.11587217e-04,\n",
       "       1.11587217e-04, 1.11587217e-04, 1.11587217e-04, 1.11587217e-04,\n",
       "       1.11587217e-04, 1.11587217e-04, 1.11587217e-04, 1.11992988e-04,\n",
       "       1.13672721e-04, 1.13818961e-04, 1.14775423e-04, 1.14775423e-04,\n",
       "       1.14775423e-04, 1.14775423e-04, 1.14775423e-04, 1.14775423e-04,\n",
       "       1.14775423e-04, 1.15435052e-04, 1.16050705e-04, 1.17166577e-04,\n",
       "       1.17166577e-04, 1.17166577e-04, 1.17166577e-04, 1.17166577e-04,\n",
       "       1.17166577e-04, 1.17166577e-04, 1.17166577e-04, 1.17166577e-04,\n",
       "       1.17166577e-04, 1.18151170e-04, 1.19026364e-04, 1.19026364e-04,\n",
       "       1.19026364e-04, 1.19026364e-04, 1.19026364e-04, 1.19079501e-04,\n",
       "       1.20356659e-04, 1.20514194e-04, 1.20514194e-04, 1.20514194e-04,\n",
       "       1.20514194e-04, 1.20514194e-04, 1.20514194e-04, 1.20514194e-04,\n",
       "       1.20886151e-04, 1.21731509e-04, 1.21731509e-04, 1.21731509e-04,\n",
       "       1.21731509e-04, 1.21731509e-04, 1.21731509e-04, 1.21731509e-04,\n",
       "       1.21731509e-04, 1.22745938e-04, 1.22745938e-04, 1.22745938e-04,\n",
       "       1.22745938e-04, 1.22745938e-04, 1.22745938e-04, 1.22745938e-04,\n",
       "       1.22745938e-04, 1.22745938e-04, 1.22774922e-04, 1.22964737e-04,\n",
       "       1.23192287e-04, 1.23517010e-04, 1.23604301e-04, 1.23604301e-04,\n",
       "       1.23604301e-04, 1.23604301e-04, 1.23708755e-04, 1.24007359e-04,\n",
       "       1.24340041e-04, 1.24340041e-04, 1.24340041e-04, 1.24367291e-04,\n",
       "       1.24977683e-04, 1.25535619e-04, 1.25535619e-04, 1.25535619e-04,\n",
       "       1.25745595e-04, 1.25934144e-04, 1.26027915e-04, 1.26220679e-04,\n",
       "       1.26424229e-04, 1.26465512e-04, 1.26465512e-04, 1.26536092e-04,\n",
       "       1.26857046e-04, 1.26857046e-04, 1.27391979e-04, 1.27818084e-04,\n",
       "       1.28223856e-04, 1.28325299e-04, 1.28548473e-04, 1.28548473e-04,\n",
       "       1.28754481e-04, 1.29720139e-04, 1.30557043e-04, 1.30861372e-04,\n",
       "       1.31171912e-04, 1.32095137e-04, 1.33874055e-04, 1.33904660e-04,\n",
       "       1.33904660e-04, 1.33904660e-04, 1.33904660e-04, 1.33904660e-04,\n",
       "       1.33904660e-04, 1.33904660e-04, 1.33904660e-04, 1.33904660e-04,\n",
       "       1.35666563e-04, 1.39484021e-04, 1.39484021e-04, 1.39484021e-04,\n",
       "       1.40281072e-04, 1.40599893e-04, 1.40964020e-04, 1.41283080e-04,\n",
       "       1.41752552e-04, 1.42831637e-04, 1.42831637e-04, 1.42831637e-04,\n",
       "       1.42831637e-04, 1.43569083e-04, 1.44617033e-04, 1.47140422e-04,\n",
       "       1.48782955e-04, 1.50135528e-04, 1.50642742e-04, 1.52299643e-04,\n",
       "       1.53033897e-04, 1.53033897e-04, 1.53033897e-04, 1.53178815e-04,\n",
       "       1.53903408e-04, 1.55097351e-04, 1.56222103e-04, 1.59410309e-04,\n",
       "       1.60685592e-04, 1.60685592e-04, 1.60685592e-04, 1.60685592e-04,\n",
       "       1.60685592e-04, 1.60685592e-04, 1.60685592e-04, 1.60685592e-04,\n",
       "       1.60685592e-04, 1.60685592e-04, 1.60685592e-04, 1.60685592e-04,\n",
       "       1.61060150e-04, 1.62308679e-04, 1.62598516e-04, 1.62705894e-04,\n",
       "       1.63014369e-04, 1.63079326e-04, 1.64772293e-04, 1.65925339e-04,\n",
       "       1.66007339e-04, 1.66939519e-04, 1.67094704e-04, 1.67380825e-04,\n",
       "       1.67380825e-04, 1.67380825e-04, 1.67857693e-04, 1.69466225e-04,\n",
       "       1.70424113e-04, 1.72163134e-04, 1.72780206e-04, 1.73046022e-04,\n",
       "       1.74076058e-04, 1.74989044e-04, 1.75952017e-04, 1.76651147e-04,\n",
       "       1.76711033e-04, 1.76754151e-04, 1.77271510e-04, 1.77681183e-04,\n",
       "       1.78539547e-04, 1.78539547e-04, 1.78539547e-04, 1.78539547e-04,\n",
       "       1.78539547e-04, 1.78539547e-04, 1.78539547e-04, 1.78539547e-04,\n",
       "       1.78539547e-04, 1.78539547e-04, 1.78539547e-04, 1.78539547e-04,\n",
       "       1.78539547e-04, 1.78539547e-04, 1.78539547e-04, 1.78539547e-04,\n",
       "       1.78539547e-04, 1.78539547e-04, 1.78539547e-04, 1.78539547e-04,\n",
       "       1.78539547e-04, 1.78539547e-04, 1.79102171e-04, 1.79126848e-04,\n",
       "       1.80771291e-04, 1.80771291e-04, 1.81543818e-04, 1.82259120e-04,\n",
       "       1.82507092e-04, 1.84571288e-04, 1.85921470e-04, 1.85978694e-04,\n",
       "       1.86249209e-04, 1.86654980e-04, 1.86908588e-04, 1.87132359e-04,\n",
       "       1.87364046e-04, 1.87466524e-04, 1.87946023e-04, 1.89041873e-04,\n",
       "       1.89698268e-04, 1.90297586e-04, 1.90442183e-04, 1.90442183e-04,\n",
       "       1.90514760e-04, 1.91008518e-04, 1.91292371e-04, 1.91292371e-04,\n",
       "       1.91727127e-04, 1.92178361e-04, 1.92822710e-04, 1.93131721e-04,\n",
       "       1.94409728e-04, 1.94770414e-04, 1.94770414e-04, 1.96393501e-04,\n",
       "       1.96393501e-04, 1.97205045e-04, 1.97354131e-04, 1.98248457e-04,\n",
       "       1.98377274e-04, 1.98507785e-04, 1.98722278e-04, 1.99787193e-04,\n",
       "       1.99810526e-04, 2.00096168e-04, 2.00856990e-04, 2.00856990e-04,\n",
       "       2.00856990e-04, 2.00856990e-04, 2.00856990e-04, 2.00856990e-04,\n",
       "       2.00856990e-04, 2.00856990e-04, 2.00856990e-04, 2.00856990e-04,\n",
       "       2.00856990e-04, 2.00856990e-04, 2.00856990e-04, 2.00856990e-04,\n",
       "       2.00856990e-04, 2.00856990e-04, 2.00856990e-04, 2.00856990e-04,\n",
       "       2.02509342e-04, 2.02989892e-04, 2.04045196e-04, 2.04045196e-04,\n",
       "       2.04045196e-04, 2.05304751e-04, 2.06007169e-04, 2.06924164e-04,\n",
       "       2.07723895e-04, 2.07723895e-04, 2.08296138e-04, 2.08296138e-04,\n",
       "       2.08296138e-04, 2.09766750e-04, 2.11893088e-04, 2.12135698e-04,\n",
       "       2.12802008e-04, 2.13899652e-04, 2.14247456e-04, 2.14247456e-04,\n",
       "       2.14247456e-04, 2.14247456e-04, 2.14247456e-04, 2.14247456e-04,\n",
       "       2.14247456e-04, 2.14247456e-04, 2.14247456e-04, 2.14247456e-04,\n",
       "       2.14247456e-04, 2.14247456e-04, 2.14247456e-04, 2.14247456e-04,\n",
       "       2.14247456e-04, 2.14247456e-04, 2.14247456e-04, 2.16307528e-04,\n",
       "       2.18656732e-04, 2.19586359e-04, 2.20589401e-04, 2.20675569e-04,\n",
       "       2.22058561e-04, 2.22850992e-04, 2.23174433e-04, 2.23174433e-04,\n",
       "       2.23174433e-04, 2.23174433e-04, 2.23174433e-04, 2.23355141e-04,\n",
       "       2.25675951e-04, 2.25754138e-04, 2.26607886e-04, 2.27659278e-04,\n",
       "       2.28246579e-04, 2.28530620e-04, 2.29261009e-04, 2.29550846e-04,\n",
       "       2.29550846e-04, 2.29550846e-04, 2.29550846e-04, 2.29550846e-04,\n",
       "       2.29550846e-04, 2.29814982e-04, 2.29938600e-04, 2.30456605e-04,\n",
       "       2.30826128e-04, 2.32619550e-04, 2.32877669e-04, 2.34333155e-04,\n",
       "       2.34333155e-04, 2.34333155e-04, 2.34357658e-04, 2.37165753e-04,\n",
       "       2.37798982e-04, 2.38052729e-04, 2.38052729e-04, 2.38184660e-04,\n",
       "       2.38305346e-04, 2.38453298e-04, 2.39115464e-04, 2.39717433e-04,\n",
       "       2.39717433e-04, 2.40982862e-04, 2.41028388e-04, 2.41028388e-04,\n",
       "       2.41028388e-04, 2.41086351e-04, 2.41905144e-04, 2.41959276e-04,\n",
       "       2.43012161e-04, 2.43345968e-04, 2.43463018e-04, 2.45754435e-04,\n",
       "       2.45921218e-04, 2.46384574e-04, 2.47311088e-04, 2.47484505e-04,\n",
       "       2.49955365e-04, 2.50275882e-04, 2.51071237e-04, 2.54418854e-04,\n",
       "       2.54501901e-04, 2.55056495e-04, 2.55462267e-04, 2.55906683e-04,\n",
       "       2.56804833e-04, 2.57508961e-04, 2.57925881e-04, 2.58294865e-04,\n",
       "       2.59693886e-04, 2.60516649e-04, 2.60766127e-04, 2.62940059e-04,\n",
       "       2.66879426e-04, 2.67809320e-04, 2.69004058e-04, 2.69403423e-04,\n",
       "       2.69450608e-04, 2.71838473e-04, 2.73258928e-04, 2.80711443e-04,\n",
       "       2.83562809e-04, 2.84055006e-04, 2.85663274e-04, 2.85834352e-04,\n",
       "       2.86938557e-04, 2.87174720e-04, 2.87729477e-04, 2.91699357e-04,\n",
       "       2.93466257e-04, 2.94065135e-04, 2.96073994e-04, 2.96136641e-04,\n",
       "       2.96650323e-04, 2.97565911e-04, 2.97592804e-04, 3.00045627e-04,\n",
       "       3.00748434e-04, 3.01498366e-04, 3.03793281e-04, 3.04277098e-04,\n",
       "       3.04725987e-04, 3.04815698e-04, 3.06950610e-04, 3.09231786e-04,\n",
       "       3.12914047e-04, 3.15382901e-04, 3.16962954e-04, 3.17403638e-04,\n",
       "       3.17403638e-04, 3.21371184e-04, 3.23733726e-04, 3.26472314e-04,\n",
       "       3.26472314e-04, 3.28888638e-04, 3.29340093e-04, 3.30553218e-04,\n",
       "       3.30755955e-04, 3.32186560e-04, 3.35239028e-04, 3.37439743e-04,\n",
       "       3.38175926e-04, 3.41253997e-04, 3.43075991e-04, 3.47408201e-04,\n",
       "       3.53961518e-04, 3.55980388e-04, 3.61527980e-04, 3.61855566e-04,\n",
       "       3.63080422e-04, 3.69881143e-04, 3.70090072e-04, 3.71957389e-04,\n",
       "       3.72951927e-04, 3.74620727e-04, 3.77340718e-04, 3.83454253e-04,\n",
       "       3.88239841e-04, 3.90500408e-04, 3.93939315e-04, 3.95083193e-04,\n",
       "       3.95533765e-04, 3.97033407e-04, 3.98641708e-04, 4.01713980e-04,\n",
       "       4.03633592e-04, 4.14323646e-04, 4.15781310e-04, 4.32187781e-04,\n",
       "       4.38233432e-04, 4.53771842e-04, 4.55408721e-04, 4.56491150e-04,\n",
       "       4.56833572e-04, 4.58330798e-04, 4.60695794e-04, 4.65181656e-04,\n",
       "       4.98372655e-04, 5.11460732e-04, 5.20849743e-04, 5.30930273e-04,\n",
       "       5.30935962e-04, 5.33113570e-04, 5.33125299e-04, 5.38585206e-04,\n",
       "       5.71951563e-04, 5.80253526e-04, 6.04127638e-04, 6.32067450e-04,\n",
       "       6.43433532e-04, 8.22894838e-04, 8.57127944e-04, 9.00545652e-04,\n",
       "       9.06354542e-04, 9.97102437e-04, 1.01683851e-03, 1.06991567e-03,\n",
       "       1.32793858e-03, 1.38043984e-03, 1.44676830e-03, 1.65506666e-03,\n",
       "       1.96219713e-03, 2.02705091e-03, 2.05368966e-03, 2.25281564e-03,\n",
       "       2.57908915e-03, 2.93048570e-03, 3.02416404e-03, 3.96048121e-03,\n",
       "       4.50169241e-03, 4.67891710e-03, 1.47877334e-02, 3.82505255e-02])"
      ]
     },
     "execution_count": 21,
     "metadata": {},
     "output_type": "execute_result"
    }
   ],
   "source": [
    "ccp_alpha"
   ]
  },
  {
   "cell_type": "code",
   "execution_count": 22,
   "id": "366a8892",
   "metadata": {},
   "outputs": [
    {
     "data": {
      "text/plain": [
       "{'ccp_alphas': array([0.00000000e+00, 6.40413591e-05, 6.56395392e-05, 7.54542131e-05,\n",
       "        7.81110516e-05, 7.81110516e-05, 7.93509096e-05, 8.03427959e-05,\n",
       "        8.11543393e-05, 8.11543393e-05, 8.18306255e-05, 8.38594840e-05,\n",
       "        8.43103414e-05, 8.43103414e-05, 8.50188317e-05, 8.52120563e-05,\n",
       "        8.58363204e-05, 8.59634854e-05, 8.62941141e-05, 8.63901031e-05,\n",
       "        8.64800928e-05, 8.65646286e-05, 8.66441917e-05, 8.67900573e-05,\n",
       "        8.68570767e-05, 8.72860005e-05, 8.92697733e-05, 8.92697733e-05,\n",
       "        8.92697733e-05, 8.92697733e-05, 8.92697733e-05, 8.92697733e-05,\n",
       "        8.92697733e-05, 8.92697733e-05, 8.92697733e-05, 8.92697733e-05,\n",
       "        8.92697733e-05, 8.92697733e-05, 8.92697733e-05, 8.92697733e-05,\n",
       "        8.92697733e-05, 9.06431544e-05, 9.85538297e-05, 1.00232728e-04,\n",
       "        1.00428495e-04, 1.00428495e-04, 1.00428495e-04, 1.00428495e-04,\n",
       "        1.00428495e-04, 1.00428495e-04, 1.00428495e-04, 1.00428495e-04,\n",
       "        1.00428495e-04, 1.00428495e-04, 1.00428495e-04, 1.00428495e-04,\n",
       "        1.00428495e-04, 1.01078442e-04, 1.06818532e-04, 1.07123728e-04,\n",
       "        1.07123728e-04, 1.07123728e-04, 1.07123728e-04, 1.07123728e-04,\n",
       "        1.07123728e-04, 1.07123728e-04, 1.07123728e-04, 1.07123728e-04,\n",
       "        1.07123728e-04, 1.07190722e-04, 1.09478096e-04, 1.11587217e-04,\n",
       "        1.11587217e-04, 1.11587217e-04, 1.11587217e-04, 1.11587217e-04,\n",
       "        1.11587217e-04, 1.11587217e-04, 1.11587217e-04, 1.11587217e-04,\n",
       "        1.11587217e-04, 1.11587217e-04, 1.11587217e-04, 1.11992988e-04,\n",
       "        1.13672721e-04, 1.13818961e-04, 1.14775423e-04, 1.14775423e-04,\n",
       "        1.14775423e-04, 1.14775423e-04, 1.14775423e-04, 1.14775423e-04,\n",
       "        1.14775423e-04, 1.15435052e-04, 1.16050705e-04, 1.17166577e-04,\n",
       "        1.17166577e-04, 1.17166577e-04, 1.17166577e-04, 1.17166577e-04,\n",
       "        1.17166577e-04, 1.17166577e-04, 1.17166577e-04, 1.17166577e-04,\n",
       "        1.17166577e-04, 1.18151170e-04, 1.19026364e-04, 1.19026364e-04,\n",
       "        1.19026364e-04, 1.19026364e-04, 1.19026364e-04, 1.19079501e-04,\n",
       "        1.20356659e-04, 1.20514194e-04, 1.20514194e-04, 1.20514194e-04,\n",
       "        1.20514194e-04, 1.20514194e-04, 1.20514194e-04, 1.20514194e-04,\n",
       "        1.20886151e-04, 1.21731509e-04, 1.21731509e-04, 1.21731509e-04,\n",
       "        1.21731509e-04, 1.21731509e-04, 1.21731509e-04, 1.21731509e-04,\n",
       "        1.21731509e-04, 1.22745938e-04, 1.22745938e-04, 1.22745938e-04,\n",
       "        1.22745938e-04, 1.22745938e-04, 1.22745938e-04, 1.22745938e-04,\n",
       "        1.22745938e-04, 1.22745938e-04, 1.22774922e-04, 1.22964737e-04,\n",
       "        1.23192287e-04, 1.23517010e-04, 1.23604301e-04, 1.23604301e-04,\n",
       "        1.23604301e-04, 1.23604301e-04, 1.23708755e-04, 1.24007359e-04,\n",
       "        1.24340041e-04, 1.24340041e-04, 1.24340041e-04, 1.24367291e-04,\n",
       "        1.24977683e-04, 1.25535619e-04, 1.25535619e-04, 1.25535619e-04,\n",
       "        1.25745595e-04, 1.25934144e-04, 1.26027915e-04, 1.26220679e-04,\n",
       "        1.26424229e-04, 1.26465512e-04, 1.26465512e-04, 1.26536092e-04,\n",
       "        1.26857046e-04, 1.26857046e-04, 1.27391979e-04, 1.27818084e-04,\n",
       "        1.28223856e-04, 1.28325299e-04, 1.28548473e-04, 1.28548473e-04,\n",
       "        1.28754481e-04, 1.29720139e-04, 1.30557043e-04, 1.30861372e-04,\n",
       "        1.31171912e-04, 1.32095137e-04, 1.33874055e-04, 1.33904660e-04,\n",
       "        1.33904660e-04, 1.33904660e-04, 1.33904660e-04, 1.33904660e-04,\n",
       "        1.33904660e-04, 1.33904660e-04, 1.33904660e-04, 1.33904660e-04,\n",
       "        1.35666563e-04, 1.39484021e-04, 1.39484021e-04, 1.39484021e-04,\n",
       "        1.40281072e-04, 1.40599893e-04, 1.40964020e-04, 1.41283080e-04,\n",
       "        1.41752552e-04, 1.42831637e-04, 1.42831637e-04, 1.42831637e-04,\n",
       "        1.42831637e-04, 1.43569083e-04, 1.44617033e-04, 1.47140422e-04,\n",
       "        1.48782955e-04, 1.50135528e-04, 1.50642742e-04, 1.52299643e-04,\n",
       "        1.53033897e-04, 1.53033897e-04, 1.53033897e-04, 1.53178815e-04,\n",
       "        1.53903408e-04, 1.55097351e-04, 1.56222103e-04, 1.59410309e-04,\n",
       "        1.60685592e-04, 1.60685592e-04, 1.60685592e-04, 1.60685592e-04,\n",
       "        1.60685592e-04, 1.60685592e-04, 1.60685592e-04, 1.60685592e-04,\n",
       "        1.60685592e-04, 1.60685592e-04, 1.60685592e-04, 1.60685592e-04,\n",
       "        1.61060150e-04, 1.62308679e-04, 1.62598516e-04, 1.62705894e-04,\n",
       "        1.63014369e-04, 1.63079326e-04, 1.64772293e-04, 1.65925339e-04,\n",
       "        1.66007339e-04, 1.66939519e-04, 1.67094704e-04, 1.67380825e-04,\n",
       "        1.67380825e-04, 1.67380825e-04, 1.67857693e-04, 1.69466225e-04,\n",
       "        1.70424113e-04, 1.72163134e-04, 1.72780206e-04, 1.73046022e-04,\n",
       "        1.74076058e-04, 1.74989044e-04, 1.75952017e-04, 1.76651147e-04,\n",
       "        1.76711033e-04, 1.76754151e-04, 1.77271510e-04, 1.77681183e-04,\n",
       "        1.78539547e-04, 1.78539547e-04, 1.78539547e-04, 1.78539547e-04,\n",
       "        1.78539547e-04, 1.78539547e-04, 1.78539547e-04, 1.78539547e-04,\n",
       "        1.78539547e-04, 1.78539547e-04, 1.78539547e-04, 1.78539547e-04,\n",
       "        1.78539547e-04, 1.78539547e-04, 1.78539547e-04, 1.78539547e-04,\n",
       "        1.78539547e-04, 1.78539547e-04, 1.78539547e-04, 1.78539547e-04,\n",
       "        1.78539547e-04, 1.78539547e-04, 1.79102171e-04, 1.79126848e-04,\n",
       "        1.80771291e-04, 1.80771291e-04, 1.81543818e-04, 1.82259120e-04,\n",
       "        1.82507092e-04, 1.84571288e-04, 1.85921470e-04, 1.85978694e-04,\n",
       "        1.86249209e-04, 1.86654980e-04, 1.86908588e-04, 1.87132359e-04,\n",
       "        1.87364046e-04, 1.87466524e-04, 1.87946023e-04, 1.89041873e-04,\n",
       "        1.89698268e-04, 1.90297586e-04, 1.90442183e-04, 1.90442183e-04,\n",
       "        1.90514760e-04, 1.91008518e-04, 1.91292371e-04, 1.91292371e-04,\n",
       "        1.91727127e-04, 1.92178361e-04, 1.92822710e-04, 1.93131721e-04,\n",
       "        1.94409728e-04, 1.94770414e-04, 1.94770414e-04, 1.96393501e-04,\n",
       "        1.96393501e-04, 1.97205045e-04, 1.97354131e-04, 1.98248457e-04,\n",
       "        1.98377274e-04, 1.98507785e-04, 1.98722278e-04, 1.99787193e-04,\n",
       "        1.99810526e-04, 2.00096168e-04, 2.00856990e-04, 2.00856990e-04,\n",
       "        2.00856990e-04, 2.00856990e-04, 2.00856990e-04, 2.00856990e-04,\n",
       "        2.00856990e-04, 2.00856990e-04, 2.00856990e-04, 2.00856990e-04,\n",
       "        2.00856990e-04, 2.00856990e-04, 2.00856990e-04, 2.00856990e-04,\n",
       "        2.00856990e-04, 2.00856990e-04, 2.00856990e-04, 2.00856990e-04,\n",
       "        2.02509342e-04, 2.02989892e-04, 2.04045196e-04, 2.04045196e-04,\n",
       "        2.04045196e-04, 2.05304751e-04, 2.06007169e-04, 2.06924164e-04,\n",
       "        2.07723895e-04, 2.07723895e-04, 2.08296138e-04, 2.08296138e-04,\n",
       "        2.08296138e-04, 2.09766750e-04, 2.11893088e-04, 2.12135698e-04,\n",
       "        2.12802008e-04, 2.13899652e-04, 2.14247456e-04, 2.14247456e-04,\n",
       "        2.14247456e-04, 2.14247456e-04, 2.14247456e-04, 2.14247456e-04,\n",
       "        2.14247456e-04, 2.14247456e-04, 2.14247456e-04, 2.14247456e-04,\n",
       "        2.14247456e-04, 2.14247456e-04, 2.14247456e-04, 2.14247456e-04,\n",
       "        2.14247456e-04, 2.14247456e-04, 2.14247456e-04, 2.16307528e-04,\n",
       "        2.18656732e-04, 2.19586359e-04, 2.20589401e-04, 2.20675569e-04,\n",
       "        2.22058561e-04, 2.22850992e-04, 2.23174433e-04, 2.23174433e-04,\n",
       "        2.23174433e-04, 2.23174433e-04, 2.23174433e-04, 2.23355141e-04,\n",
       "        2.25675951e-04, 2.25754138e-04, 2.26607886e-04, 2.27659278e-04,\n",
       "        2.28246579e-04, 2.28530620e-04, 2.29261009e-04, 2.29550846e-04,\n",
       "        2.29550846e-04, 2.29550846e-04, 2.29550846e-04, 2.29550846e-04,\n",
       "        2.29550846e-04, 2.29814982e-04, 2.29938600e-04, 2.30456605e-04,\n",
       "        2.30826128e-04, 2.32619550e-04, 2.32877669e-04, 2.34333155e-04,\n",
       "        2.34333155e-04, 2.34333155e-04, 2.34357658e-04, 2.37165753e-04,\n",
       "        2.37798982e-04, 2.38052729e-04, 2.38052729e-04, 2.38184660e-04,\n",
       "        2.38305346e-04, 2.38453298e-04, 2.39115464e-04, 2.39717433e-04,\n",
       "        2.39717433e-04, 2.40982862e-04, 2.41028388e-04, 2.41028388e-04,\n",
       "        2.41028388e-04, 2.41086351e-04, 2.41905144e-04, 2.41959276e-04,\n",
       "        2.43012161e-04, 2.43345968e-04, 2.43463018e-04, 2.45754435e-04,\n",
       "        2.45921218e-04, 2.46384574e-04, 2.47311088e-04, 2.47484505e-04,\n",
       "        2.49955365e-04, 2.50275882e-04, 2.51071237e-04, 2.54418854e-04,\n",
       "        2.54501901e-04, 2.55056495e-04, 2.55462267e-04, 2.55906683e-04,\n",
       "        2.56804833e-04, 2.57508961e-04, 2.57925881e-04, 2.58294865e-04,\n",
       "        2.59693886e-04, 2.60516649e-04, 2.60766127e-04, 2.62940059e-04,\n",
       "        2.66879426e-04, 2.67809320e-04, 2.69004058e-04, 2.69403423e-04,\n",
       "        2.69450608e-04, 2.71838473e-04, 2.73258928e-04, 2.80711443e-04,\n",
       "        2.83562809e-04, 2.84055006e-04, 2.85663274e-04, 2.85834352e-04,\n",
       "        2.86938557e-04, 2.87174720e-04, 2.87729477e-04, 2.91699357e-04,\n",
       "        2.93466257e-04, 2.94065135e-04, 2.96073994e-04, 2.96136641e-04,\n",
       "        2.96650323e-04, 2.97565911e-04, 2.97592804e-04, 3.00045627e-04,\n",
       "        3.00748434e-04, 3.01498366e-04, 3.03793281e-04, 3.04277098e-04,\n",
       "        3.04725987e-04, 3.04815698e-04, 3.06950610e-04, 3.09231786e-04,\n",
       "        3.12914047e-04, 3.15382901e-04, 3.16962954e-04, 3.17403638e-04,\n",
       "        3.17403638e-04, 3.21371184e-04, 3.23733726e-04, 3.26472314e-04,\n",
       "        3.26472314e-04, 3.28888638e-04, 3.29340093e-04, 3.30553218e-04,\n",
       "        3.30755955e-04, 3.32186560e-04, 3.35239028e-04, 3.37439743e-04,\n",
       "        3.38175926e-04, 3.41253997e-04, 3.43075991e-04, 3.47408201e-04,\n",
       "        3.53961518e-04, 3.55980388e-04, 3.61527980e-04, 3.61855566e-04,\n",
       "        3.63080422e-04, 3.69881143e-04, 3.70090072e-04, 3.71957389e-04,\n",
       "        3.72951927e-04, 3.74620727e-04, 3.77340718e-04, 3.83454253e-04,\n",
       "        3.88239841e-04, 3.90500408e-04, 3.93939315e-04, 3.95083193e-04,\n",
       "        3.95533765e-04, 3.97033407e-04, 3.98641708e-04, 4.01713980e-04,\n",
       "        4.03633592e-04, 4.14323646e-04, 4.15781310e-04, 4.32187781e-04,\n",
       "        4.38233432e-04, 4.53771842e-04, 4.55408721e-04, 4.56491150e-04,\n",
       "        4.56833572e-04, 4.58330798e-04, 4.60695794e-04, 4.65181656e-04,\n",
       "        4.98372655e-04, 5.11460732e-04, 5.20849743e-04, 5.30930273e-04,\n",
       "        5.30935962e-04, 5.33113570e-04, 5.33125299e-04, 5.38585206e-04,\n",
       "        5.71951563e-04, 5.80253526e-04, 6.04127638e-04, 6.32067450e-04,\n",
       "        6.43433532e-04, 8.22894838e-04, 8.57127944e-04, 9.00545652e-04,\n",
       "        9.06354542e-04, 9.97102437e-04, 1.01683851e-03, 1.06991567e-03,\n",
       "        1.32793858e-03, 1.38043984e-03, 1.44676830e-03, 1.65506666e-03,\n",
       "        1.96219713e-03, 2.02705091e-03, 2.05368966e-03, 2.25281564e-03,\n",
       "        2.57908915e-03, 2.93048570e-03, 3.02416404e-03, 3.96048121e-03,\n",
       "        4.50169241e-03, 4.67891710e-03, 1.47877334e-02, 3.82505255e-02]),\n",
       " 'impurities': array([0.00000000e+00, 2.56165436e-04, 5.18723593e-04, 1.04690308e-03,\n",
       "        1.28123624e-03, 1.51556939e-03, 1.75362212e-03, 1.99465051e-03,\n",
       "        2.23811353e-03, 2.48157655e-03, 2.72706842e-03, 3.23022533e-03,\n",
       "        3.48315635e-03, 3.73608738e-03, 3.99114387e-03, 4.24678004e-03,\n",
       "        4.50428900e-03, 4.76217946e-03, 5.02106180e-03, 5.28023211e-03,\n",
       "        5.53967239e-03, 5.79936627e-03, 6.05929885e-03, 6.58003919e-03,\n",
       "        6.84061042e-03, 7.10246842e-03, 7.28100797e-03, 7.45954752e-03,\n",
       "        7.72735684e-03, 7.90589638e-03, 8.17370570e-03, 8.35224525e-03,\n",
       "        8.53078480e-03, 8.88786389e-03, 9.06640344e-03, 9.24494298e-03,\n",
       "        9.42348253e-03, 9.60202207e-03, 9.78056162e-03, 9.95910117e-03,\n",
       "        1.04054500e-02, 1.08586658e-02, 1.13514350e-02, 1.16521331e-02,\n",
       "        1.18529901e-02, 1.20538471e-02, 1.22547041e-02, 1.24555611e-02,\n",
       "        1.26564181e-02, 1.28572751e-02, 1.30581321e-02, 1.32589891e-02,\n",
       "        1.34598460e-02, 1.36607030e-02, 1.38615600e-02, 1.40624170e-02,\n",
       "        1.42632740e-02, 1.47686662e-02, 1.57300330e-02, 1.59442805e-02,\n",
       "        1.61585279e-02, 1.63727754e-02, 1.65870228e-02, 1.68012703e-02,\n",
       "        1.70155177e-02, 1.72297652e-02, 1.74440126e-02, 1.76582601e-02,\n",
       "        1.78725076e-02, 1.80868890e-02, 1.88532357e-02, 1.90764101e-02,\n",
       "        1.92995845e-02, 1.97459334e-02, 1.99691078e-02, 2.01922823e-02,\n",
       "        2.04154567e-02, 2.06386311e-02, 2.08618056e-02, 2.10849800e-02,\n",
       "        2.13081544e-02, 2.15313289e-02, 2.16429161e-02, 2.18669021e-02,\n",
       "        2.28899566e-02, 2.35728703e-02, 2.38024212e-02, 2.40319720e-02,\n",
       "        2.42615229e-02, 2.44910737e-02, 2.49501754e-02, 2.51797262e-02,\n",
       "        2.54092771e-02, 2.56401472e-02, 2.61043500e-02, 2.63386832e-02,\n",
       "        2.65730163e-02, 2.68073495e-02, 2.70416826e-02, 2.72760158e-02,\n",
       "        2.75103489e-02, 2.77446821e-02, 2.79790152e-02, 2.82133484e-02,\n",
       "        2.84476816e-02, 2.89202862e-02, 2.91583390e-02, 2.93963917e-02,\n",
       "        2.96344444e-02, 2.98724972e-02, 3.01105499e-02, 3.05868679e-02,\n",
       "        3.17904345e-02, 3.19109487e-02, 3.21519771e-02, 3.23930054e-02,\n",
       "        3.26340338e-02, 3.28750622e-02, 3.31160906e-02, 3.33571190e-02,\n",
       "        3.35988913e-02, 3.38423543e-02, 3.40858173e-02, 3.43292804e-02,\n",
       "        3.45727434e-02, 3.48162064e-02, 3.50596694e-02, 3.53031324e-02,\n",
       "        3.55465954e-02, 3.57920873e-02, 3.60375792e-02, 3.62830711e-02,\n",
       "        3.65285629e-02, 3.67740548e-02, 3.70195467e-02, 3.72650386e-02,\n",
       "        3.75105305e-02, 3.77560223e-02, 3.82471220e-02, 3.84930515e-02,\n",
       "        3.89858206e-02, 3.92328547e-02, 3.94800633e-02, 3.97272719e-02,\n",
       "        3.99744805e-02, 4.02216891e-02, 4.04691066e-02, 4.07171213e-02,\n",
       "        4.09658014e-02, 4.12144815e-02, 4.14631615e-02, 4.17118961e-02,\n",
       "        4.19618515e-02, 4.24639940e-02, 4.27150652e-02, 4.32172077e-02,\n",
       "        4.39716812e-02, 4.42235495e-02, 4.44756054e-02, 4.57378122e-02,\n",
       "        4.59906606e-02, 4.62435916e-02, 4.64965227e-02, 4.67495949e-02,\n",
       "        4.70033089e-02, 4.72570230e-02, 4.77665910e-02, 4.80222271e-02,\n",
       "        4.82786748e-02, 4.85353254e-02, 4.87924224e-02, 4.93066163e-02,\n",
       "        4.95641252e-02, 4.98235655e-02, 5.04763507e-02, 5.07380735e-02,\n",
       "        5.12627611e-02, 5.15269514e-02, 5.17946995e-02, 5.20625088e-02,\n",
       "        5.24642228e-02, 5.29998414e-02, 5.34015554e-02, 5.38032694e-02,\n",
       "        5.39371741e-02, 5.40710787e-02, 5.44727927e-02, 5.47406020e-02,\n",
       "        5.52832683e-02, 5.54227523e-02, 5.57017203e-02, 5.59806884e-02,\n",
       "        5.62612505e-02, 5.68236501e-02, 5.75284702e-02, 5.78110364e-02,\n",
       "        5.79527889e-02, 5.80956205e-02, 5.82384522e-02, 5.83812838e-02,\n",
       "        5.85241155e-02, 5.89548227e-02, 5.96779079e-02, 6.01193291e-02,\n",
       "        6.02681121e-02, 6.08686542e-02, 6.14712252e-02, 6.31465213e-02,\n",
       "        6.36056229e-02, 6.40647246e-02, 6.45238263e-02, 6.48301840e-02,\n",
       "        6.52918942e-02, 6.62224783e-02, 6.66911446e-02, 6.68505549e-02,\n",
       "        6.71719261e-02, 6.74932973e-02, 6.81360396e-02, 6.84574108e-02,\n",
       "        6.87787820e-02, 6.91001532e-02, 6.94215244e-02, 6.97428956e-02,\n",
       "        7.00642667e-02, 7.03856379e-02, 7.07070091e-02, 7.10283803e-02,\n",
       "        7.15115607e-02, 7.18361781e-02, 7.21613751e-02, 7.26494928e-02,\n",
       "        7.31385359e-02, 7.44431705e-02, 7.55965766e-02, 7.60943526e-02,\n",
       "        7.65923746e-02, 7.72601327e-02, 7.79285115e-02, 7.84306540e-02,\n",
       "        7.87654156e-02, 7.89327964e-02, 7.94363695e-02, 8.04531669e-02,\n",
       "        8.06235910e-02, 8.07957541e-02, 8.13140947e-02, 8.21793249e-02,\n",
       "        8.25274770e-02, 8.28774551e-02, 8.34053111e-02, 8.41119157e-02,\n",
       "        8.44653378e-02, 8.51723544e-02, 8.60587119e-02, 8.67694367e-02,\n",
       "        8.69479762e-02, 8.73050553e-02, 8.74835948e-02, 8.80192135e-02,\n",
       "        8.81977530e-02, 8.83762926e-02, 8.85548321e-02, 8.87333717e-02,\n",
       "        8.89119112e-02, 8.90904508e-02, 8.92689903e-02, 8.96260694e-02,\n",
       "        8.98046089e-02, 8.99831485e-02, 9.01616880e-02, 9.03402276e-02,\n",
       "        9.05187671e-02, 9.06973067e-02, 9.12329253e-02, 9.14114649e-02,\n",
       "        9.19470835e-02, 9.21256231e-02, 9.32002361e-02, 9.37376166e-02,\n",
       "        9.39183879e-02, 9.40991592e-02, 9.44622468e-02, 9.46445060e-02,\n",
       "        9.51920272e-02, 9.59303124e-02, 9.61162339e-02, 9.63022125e-02,\n",
       "        9.66747110e-02, 9.72346759e-02, 9.76084931e-02, 9.77956254e-02,\n",
       "        9.92945378e-02, 9.98569374e-02, 1.00608721e-01, 1.01553931e-01,\n",
       "        1.01933327e-01, 1.02694518e-01, 1.02884960e-01, 1.03837171e-01,\n",
       "        1.04027686e-01, 1.04982728e-01, 1.05365313e-01, 1.05747898e-01,\n",
       "        1.06131352e-01, 1.06323530e-01, 1.06516353e-01, 1.07095748e-01,\n",
       "        1.07678977e-01, 1.08263289e-01, 1.08847600e-01, 1.09633174e-01,\n",
       "        1.10418748e-01, 1.10615953e-01, 1.11405369e-01, 1.12198363e-01,\n",
       "        1.12793495e-01, 1.12992003e-01, 1.14184336e-01, 1.15582847e-01,\n",
       "        1.16382089e-01, 1.17182474e-01, 1.17383331e-01, 1.17584188e-01,\n",
       "        1.17785045e-01, 1.17985902e-01, 1.18186759e-01, 1.18387616e-01,\n",
       "        1.18588473e-01, 1.18789330e-01, 1.18990187e-01, 1.19191044e-01,\n",
       "        1.19391901e-01, 1.19592757e-01, 1.19994471e-01, 1.20195328e-01,\n",
       "        1.20396185e-01, 1.20597042e-01, 1.20797899e-01, 1.20998756e-01,\n",
       "        1.22213812e-01, 1.22822782e-01, 1.23230873e-01, 1.23434918e-01,\n",
       "        1.23638963e-01, 1.25897315e-01, 1.26103322e-01, 1.26724095e-01,\n",
       "        1.26931819e-01, 1.27139543e-01, 1.27556135e-01, 1.27972727e-01,\n",
       "        1.28389319e-01, 1.28808853e-01, 1.29020746e-01, 1.30293560e-01,\n",
       "        1.30719164e-01, 1.32216462e-01, 1.32644957e-01, 1.32859204e-01,\n",
       "        1.33073452e-01, 1.33287699e-01, 1.33501947e-01, 1.33716194e-01,\n",
       "        1.33930441e-01, 1.34144689e-01, 1.34358936e-01, 1.34573184e-01,\n",
       "        1.35001679e-01, 1.35215926e-01, 1.35430174e-01, 1.35644421e-01,\n",
       "        1.35858669e-01, 1.36072916e-01, 1.36287163e-01, 1.36503471e-01,\n",
       "        1.37378098e-01, 1.39354375e-01, 1.39574965e-01, 1.40016316e-01,\n",
       "        1.40460433e-01, 1.41128986e-01, 1.41352160e-01, 1.41575335e-01,\n",
       "        1.41798509e-01, 1.42021684e-01, 1.42244858e-01, 1.42691568e-01,\n",
       "        1.43368596e-01, 1.44271613e-01, 1.44724828e-01, 1.45180147e-01,\n",
       "        1.45408394e-01, 1.46093985e-01, 1.46552507e-01, 1.46782058e-01,\n",
       "        1.47011609e-01, 1.47241160e-01, 1.47470711e-01, 1.47700262e-01,\n",
       "        1.47929813e-01, 1.49538517e-01, 1.49998395e-01, 1.50920221e-01,\n",
       "        1.51381873e-01, 1.52079732e-01, 1.52778365e-01, 1.53012698e-01,\n",
       "        1.53247031e-01, 1.53481364e-01, 1.54184437e-01, 1.55133100e-01,\n",
       "        1.55846497e-01, 1.56084550e-01, 1.56322603e-01, 1.57275341e-01,\n",
       "        1.58705173e-01, 1.59182080e-01, 1.59421196e-01, 1.59660913e-01,\n",
       "        1.59900630e-01, 1.61105545e-01, 1.61346573e-01, 1.61587602e-01,\n",
       "        1.61828630e-01, 1.62792975e-01, 1.63760596e-01, 1.64244514e-01,\n",
       "        1.64487527e-01, 1.64730873e-01, 1.64974336e-01, 1.65465844e-01,\n",
       "        1.67187293e-01, 1.67680062e-01, 1.68174684e-01, 1.68669653e-01,\n",
       "        1.68919609e-01, 1.71172092e-01, 1.71423163e-01, 1.71677582e-01,\n",
       "        1.71932084e-01, 1.72187140e-01, 1.73464451e-01, 1.73976265e-01,\n",
       "        1.75003484e-01, 1.75260993e-01, 1.75776845e-01, 1.76810024e-01,\n",
       "        1.77069718e-01, 1.77590751e-01, 1.78373050e-01, 1.78635990e-01,\n",
       "        1.79703508e-01, 1.79971317e-01, 1.80778329e-01, 1.81047733e-01,\n",
       "        1.82394986e-01, 1.83754178e-01, 1.84300696e-01, 1.85142830e-01,\n",
       "        1.85426393e-01, 1.85994503e-01, 1.86280166e-01, 1.86566001e-01,\n",
       "        1.87713755e-01, 1.88575279e-01, 1.89150738e-01, 1.90025836e-01,\n",
       "        1.90612769e-01, 1.90906834e-01, 1.92683278e-01, 1.93867824e-01,\n",
       "        1.94164475e-01, 1.94462040e-01, 1.95652412e-01, 1.95952457e-01,\n",
       "        1.96553954e-01, 1.96855452e-01, 1.98678212e-01, 2.00503875e-01,\n",
       "        2.01418053e-01, 2.02027684e-01, 2.04790240e-01, 2.06645630e-01,\n",
       "        2.07271458e-01, 2.07902224e-01, 2.08536150e-01, 2.08853554e-01,\n",
       "        2.09170957e-01, 2.09492329e-01, 2.09816062e-01, 2.10469007e-01,\n",
       "        2.11121952e-01, 2.12108617e-01, 2.12437958e-01, 2.13099064e-01,\n",
       "        2.13429820e-01, 2.14094193e-01, 2.14429432e-01, 2.14766872e-01,\n",
       "        2.15105048e-01, 2.15446302e-01, 2.15789378e-01, 2.16484194e-01,\n",
       "        2.18254002e-01, 2.18609982e-01, 2.20417622e-01, 2.21141333e-01,\n",
       "        2.21504414e-01, 2.22244176e-01, 2.22614266e-01, 2.22986223e-01,\n",
       "        2.23359175e-01, 2.24483037e-01, 2.25992400e-01, 2.26375855e-01,\n",
       "        2.26764094e-01, 2.28326096e-01, 2.28720035e-01, 2.30695451e-01,\n",
       "        2.31090985e-01, 2.31488019e-01, 2.31886660e-01, 2.32288374e-01,\n",
       "        2.33095641e-01, 2.33924289e-01, 2.34340070e-01, 2.34772258e-01,\n",
       "        2.35210491e-01, 2.36118035e-01, 2.37484261e-01, 2.38397243e-01,\n",
       "        2.39310911e-01, 2.41144234e-01, 2.41604929e-01, 2.42070111e-01,\n",
       "        2.42568484e-01, 2.43591405e-01, 2.44112255e-01, 2.44643185e-01,\n",
       "        2.45705057e-01, 2.46238171e-01, 2.47304421e-01, 2.47843007e-01,\n",
       "        2.48414958e-01, 2.48995212e-01, 2.49599339e-01, 2.50231407e-01,\n",
       "        2.53448574e-01, 2.54271469e-01, 2.57699981e-01, 2.59501072e-01,\n",
       "        2.61313781e-01, 2.67296396e-01, 2.68313235e-01, 2.70453066e-01,\n",
       "        2.71781004e-01, 2.80063644e-01, 2.81510412e-01, 2.83165478e-01,\n",
       "        2.98863056e-01, 3.17106514e-01, 3.33536031e-01, 3.42547294e-01,\n",
       "        3.45126383e-01, 3.53917840e-01, 4.02304464e-01, 4.06264946e-01,\n",
       "        4.42278485e-01, 4.46957402e-01, 4.61745135e-01, 4.99995661e-01])}"
      ]
     },
     "execution_count": 22,
     "metadata": {},
     "output_type": "execute_result"
    }
   ],
   "source": [
    "path"
   ]
  },
  {
   "cell_type": "code",
   "execution_count": 23,
   "id": "77dff640",
   "metadata": {},
   "outputs": [],
   "source": [
    "dt_modle2 = []\n",
    "for ccp in ccp_alpha:\n",
    "    dt_m  = DecisionTreeClassifier(ccp_alpha=ccp)\n",
    "    dt_m.fit(x_train,y_train)\n",
    "    dt_modle2.append(dt_m)"
   ]
  },
  {
   "cell_type": "code",
   "execution_count": 24,
   "id": "494cd909",
   "metadata": {},
   "outputs": [
    {
     "data": {
      "text/plain": [
       "[DecisionTreeClassifier(),\n",
       " DecisionTreeClassifier(ccp_alpha=6.40413590740784e-05),\n",
       " DecisionTreeClassifier(ccp_alpha=6.563953915792356e-05),\n",
       " DecisionTreeClassifier(ccp_alpha=7.545421310820357e-05),\n",
       " DecisionTreeClassifier(ccp_alpha=7.811105159792894e-05),\n",
       " DecisionTreeClassifier(ccp_alpha=7.811105159792894e-05),\n",
       " DecisionTreeClassifier(ccp_alpha=7.935090955980083e-05),\n",
       " DecisionTreeClassifier(ccp_alpha=8.034279592929836e-05),\n",
       " DecisionTreeClassifier(ccp_alpha=8.115433932252359e-05),\n",
       " DecisionTreeClassifier(ccp_alpha=8.115433932252359e-05),\n",
       " DecisionTreeClassifier(ccp_alpha=8.18306254835446e-05),\n",
       " DecisionTreeClassifier(ccp_alpha=8.385948396660767e-05),\n",
       " DecisionTreeClassifier(ccp_alpha=8.43103414072884e-05),\n",
       " DecisionTreeClassifier(ccp_alpha=8.43103414072884e-05),\n",
       " DecisionTreeClassifier(ccp_alpha=8.50188316712152e-05),\n",
       " DecisionTreeClassifier(ccp_alpha=8.521205628864979e-05),\n",
       " DecisionTreeClassifier(ccp_alpha=8.58363204372846e-05),\n",
       " DecisionTreeClassifier(ccp_alpha=8.596348535645086e-05),\n",
       " DecisionTreeClassifier(ccp_alpha=8.629411414628337e-05),\n",
       " DecisionTreeClassifier(ccp_alpha=8.63901031497831e-05),\n",
       " DecisionTreeClassifier(ccp_alpha=8.648009284056419e-05),\n",
       " DecisionTreeClassifier(ccp_alpha=8.656462861069175e-05),\n",
       " DecisionTreeClassifier(ccp_alpha=8.664419168845898e-05),\n",
       " DecisionTreeClassifier(ccp_alpha=8.679005733103219e-05),\n",
       " DecisionTreeClassifier(ccp_alpha=8.685707668032261e-05),\n",
       " DecisionTreeClassifier(ccp_alpha=8.728600051578098e-05),\n",
       " DecisionTreeClassifier(ccp_alpha=8.926977325477593e-05),\n",
       " DecisionTreeClassifier(ccp_alpha=8.926977325477593e-05),\n",
       " DecisionTreeClassifier(ccp_alpha=8.926977325477593e-05),\n",
       " DecisionTreeClassifier(ccp_alpha=8.926977325477593e-05),\n",
       " DecisionTreeClassifier(ccp_alpha=8.926977325477593e-05),\n",
       " DecisionTreeClassifier(ccp_alpha=8.926977325477593e-05),\n",
       " DecisionTreeClassifier(ccp_alpha=8.926977325477593e-05),\n",
       " DecisionTreeClassifier(ccp_alpha=8.926977325477593e-05),\n",
       " DecisionTreeClassifier(ccp_alpha=8.926977325477593e-05),\n",
       " DecisionTreeClassifier(ccp_alpha=8.926977325477593e-05),\n",
       " DecisionTreeClassifier(ccp_alpha=8.926977325477593e-05),\n",
       " DecisionTreeClassifier(ccp_alpha=8.926977325477593e-05),\n",
       " DecisionTreeClassifier(ccp_alpha=8.926977325477593e-05),\n",
       " DecisionTreeClassifier(ccp_alpha=8.926977325477593e-05),\n",
       " DecisionTreeClassifier(ccp_alpha=8.926977325477594e-05),\n",
       " DecisionTreeClassifier(ccp_alpha=9.064315438177248e-05),\n",
       " DecisionTreeClassifier(ccp_alpha=9.855382967327263e-05),\n",
       " DecisionTreeClassifier(ccp_alpha=0.00010023272786501155),\n",
       " DecisionTreeClassifier(ccp_alpha=0.00010042849491162292),\n",
       " DecisionTreeClassifier(ccp_alpha=0.00010042849491162292),\n",
       " DecisionTreeClassifier(ccp_alpha=0.00010042849491162292),\n",
       " DecisionTreeClassifier(ccp_alpha=0.00010042849491162292),\n",
       " DecisionTreeClassifier(ccp_alpha=0.00010042849491162292),\n",
       " DecisionTreeClassifier(ccp_alpha=0.00010042849491162292),\n",
       " DecisionTreeClassifier(ccp_alpha=0.00010042849491162292),\n",
       " DecisionTreeClassifier(ccp_alpha=0.00010042849491162292),\n",
       " DecisionTreeClassifier(ccp_alpha=0.00010042849491162292),\n",
       " DecisionTreeClassifier(ccp_alpha=0.00010042849491162292),\n",
       " DecisionTreeClassifier(ccp_alpha=0.00010042849491162292),\n",
       " DecisionTreeClassifier(ccp_alpha=0.00010042849491162292),\n",
       " DecisionTreeClassifier(ccp_alpha=0.00010042849491162292),\n",
       " DecisionTreeClassifier(ccp_alpha=0.00010107844150637243),\n",
       " DecisionTreeClassifier(ccp_alpha=0.00010681853209973188),\n",
       " DecisionTreeClassifier(ccp_alpha=0.00010712372790573109),\n",
       " DecisionTreeClassifier(ccp_alpha=0.00010712372790573109),\n",
       " DecisionTreeClassifier(ccp_alpha=0.00010712372790573109),\n",
       " DecisionTreeClassifier(ccp_alpha=0.00010712372790573109),\n",
       " DecisionTreeClassifier(ccp_alpha=0.00010712372790573109),\n",
       " DecisionTreeClassifier(ccp_alpha=0.00010712372790573109),\n",
       " DecisionTreeClassifier(ccp_alpha=0.00010712372790573109),\n",
       " DecisionTreeClassifier(ccp_alpha=0.00010712372790573109),\n",
       " DecisionTreeClassifier(ccp_alpha=0.00010712372790573109),\n",
       " DecisionTreeClassifier(ccp_alpha=0.00010712372790573109),\n",
       " DecisionTreeClassifier(ccp_alpha=0.0001071907221070481),\n",
       " DecisionTreeClassifier(ccp_alpha=0.00010947809555201096),\n",
       " DecisionTreeClassifier(ccp_alpha=0.00011158721656846992),\n",
       " DecisionTreeClassifier(ccp_alpha=0.00011158721656846992),\n",
       " DecisionTreeClassifier(ccp_alpha=0.00011158721656846992),\n",
       " DecisionTreeClassifier(ccp_alpha=0.00011158721656846992),\n",
       " DecisionTreeClassifier(ccp_alpha=0.00011158721656846992),\n",
       " DecisionTreeClassifier(ccp_alpha=0.00011158721656846992),\n",
       " DecisionTreeClassifier(ccp_alpha=0.00011158721656846992),\n",
       " DecisionTreeClassifier(ccp_alpha=0.00011158721656846992),\n",
       " DecisionTreeClassifier(ccp_alpha=0.00011158721656846992),\n",
       " DecisionTreeClassifier(ccp_alpha=0.00011158721656846992),\n",
       " DecisionTreeClassifier(ccp_alpha=0.00011158721656846992),\n",
       " DecisionTreeClassifier(ccp_alpha=0.00011158721656846993),\n",
       " DecisionTreeClassifier(ccp_alpha=0.00011199298826508258),\n",
       " DecisionTreeClassifier(ccp_alpha=0.00011367272124279806),\n",
       " DecisionTreeClassifier(ccp_alpha=0.00011381896089983931),\n",
       " DecisionTreeClassifier(ccp_alpha=0.0001147754227561405),\n",
       " DecisionTreeClassifier(ccp_alpha=0.0001147754227561405),\n",
       " DecisionTreeClassifier(ccp_alpha=0.0001147754227561405),\n",
       " DecisionTreeClassifier(ccp_alpha=0.0001147754227561405),\n",
       " DecisionTreeClassifier(ccp_alpha=0.0001147754227561405),\n",
       " DecisionTreeClassifier(ccp_alpha=0.0001147754227561405),\n",
       " DecisionTreeClassifier(ccp_alpha=0.0001147754227561405),\n",
       " DecisionTreeClassifier(ccp_alpha=0.00011543505162255497),\n",
       " DecisionTreeClassifier(ccp_alpha=0.00011605070523120873),\n",
       " DecisionTreeClassifier(ccp_alpha=0.00011716657739689341),\n",
       " DecisionTreeClassifier(ccp_alpha=0.00011716657739689341),\n",
       " DecisionTreeClassifier(ccp_alpha=0.00011716657739689341),\n",
       " DecisionTreeClassifier(ccp_alpha=0.00011716657739689341),\n",
       " DecisionTreeClassifier(ccp_alpha=0.00011716657739689341),\n",
       " DecisionTreeClassifier(ccp_alpha=0.00011716657739689341),\n",
       " DecisionTreeClassifier(ccp_alpha=0.00011716657739689341),\n",
       " DecisionTreeClassifier(ccp_alpha=0.00011716657739689341),\n",
       " DecisionTreeClassifier(ccp_alpha=0.00011716657739689341),\n",
       " DecisionTreeClassifier(ccp_alpha=0.00011716657739689341),\n",
       " DecisionTreeClassifier(ccp_alpha=0.00011815117048426225),\n",
       " DecisionTreeClassifier(ccp_alpha=0.00011902636433970124),\n",
       " DecisionTreeClassifier(ccp_alpha=0.00011902636433970124),\n",
       " DecisionTreeClassifier(ccp_alpha=0.00011902636433970124),\n",
       " DecisionTreeClassifier(ccp_alpha=0.00011902636433970124),\n",
       " DecisionTreeClassifier(ccp_alpha=0.00011902636433970124),\n",
       " DecisionTreeClassifier(ccp_alpha=0.00011907950110949574),\n",
       " DecisionTreeClassifier(ccp_alpha=0.00012035665899996846),\n",
       " DecisionTreeClassifier(ccp_alpha=0.0001205141938939475),\n",
       " DecisionTreeClassifier(ccp_alpha=0.00012051419389394755),\n",
       " DecisionTreeClassifier(ccp_alpha=0.00012051419389394755),\n",
       " DecisionTreeClassifier(ccp_alpha=0.00012051419389394755),\n",
       " DecisionTreeClassifier(ccp_alpha=0.00012051419389394755),\n",
       " DecisionTreeClassifier(ccp_alpha=0.00012051419389394755),\n",
       " DecisionTreeClassifier(ccp_alpha=0.00012051419389394755),\n",
       " DecisionTreeClassifier(ccp_alpha=0.00012088615128250907),\n",
       " DecisionTreeClassifier(ccp_alpha=0.00012173150898378538),\n",
       " DecisionTreeClassifier(ccp_alpha=0.00012173150898378538),\n",
       " DecisionTreeClassifier(ccp_alpha=0.00012173150898378538),\n",
       " DecisionTreeClassifier(ccp_alpha=0.00012173150898378538),\n",
       " DecisionTreeClassifier(ccp_alpha=0.00012173150898378538),\n",
       " DecisionTreeClassifier(ccp_alpha=0.00012173150898378538),\n",
       " DecisionTreeClassifier(ccp_alpha=0.00012173150898378538),\n",
       " DecisionTreeClassifier(ccp_alpha=0.00012173150898378538),\n",
       " DecisionTreeClassifier(ccp_alpha=0.00012274593822531691),\n",
       " DecisionTreeClassifier(ccp_alpha=0.00012274593822531691),\n",
       " DecisionTreeClassifier(ccp_alpha=0.00012274593822531691),\n",
       " DecisionTreeClassifier(ccp_alpha=0.00012274593822531691),\n",
       " DecisionTreeClassifier(ccp_alpha=0.00012274593822531691),\n",
       " DecisionTreeClassifier(ccp_alpha=0.00012274593822531691),\n",
       " DecisionTreeClassifier(ccp_alpha=0.00012274593822531691),\n",
       " DecisionTreeClassifier(ccp_alpha=0.00012274593822531691),\n",
       " DecisionTreeClassifier(ccp_alpha=0.00012274593822531691),\n",
       " DecisionTreeClassifier(ccp_alpha=0.00012277492191793208),\n",
       " DecisionTreeClassifier(ccp_alpha=0.00012296473668917674),\n",
       " DecisionTreeClassifier(ccp_alpha=0.00012319228709159078),\n",
       " DecisionTreeClassifier(ccp_alpha=0.00012351701025636224),\n",
       " DecisionTreeClassifier(ccp_alpha=0.0001236043014296897),\n",
       " DecisionTreeClassifier(ccp_alpha=0.0001236043014296897),\n",
       " DecisionTreeClassifier(ccp_alpha=0.0001236043014296897),\n",
       " DecisionTreeClassifier(ccp_alpha=0.0001236043014296897),\n",
       " DecisionTreeClassifier(ccp_alpha=0.00012370875475432375),\n",
       " DecisionTreeClassifier(ccp_alpha=0.00012400735893435168),\n",
       " DecisionTreeClassifier(ccp_alpha=0.00012434004131915222),\n",
       " DecisionTreeClassifier(ccp_alpha=0.00012434004131915222),\n",
       " DecisionTreeClassifier(ccp_alpha=0.00012434004131915222),\n",
       " DecisionTreeClassifier(ccp_alpha=0.00012436729094468787),\n",
       " DecisionTreeClassifier(ccp_alpha=0.00012497768255668632),\n",
       " DecisionTreeClassifier(ccp_alpha=0.00012553561863952865),\n",
       " DecisionTreeClassifier(ccp_alpha=0.00012553561863952865),\n",
       " DecisionTreeClassifier(ccp_alpha=0.00012553561863952865),\n",
       " DecisionTreeClassifier(ccp_alpha=0.00012574559458468438),\n",
       " DecisionTreeClassifier(ccp_alpha=0.00012593414441298753),\n",
       " DecisionTreeClassifier(ccp_alpha=0.0001260279151832131),\n",
       " DecisionTreeClassifier(ccp_alpha=0.00012622067939947434),\n",
       " DecisionTreeClassifier(ccp_alpha=0.00012642422938190218),\n",
       " DecisionTreeClassifier(ccp_alpha=0.0001264655121109326),\n",
       " DecisionTreeClassifier(ccp_alpha=0.0001264655121109326),\n",
       " DecisionTreeClassifier(ccp_alpha=0.0001265360922605648),\n",
       " DecisionTreeClassifier(ccp_alpha=0.00012685704620415535),\n",
       " DecisionTreeClassifier(ccp_alpha=0.00012685704620415535),\n",
       " DecisionTreeClassifier(ccp_alpha=0.00012739197929835934),\n",
       " DecisionTreeClassifier(ccp_alpha=0.0001278180844329747),\n",
       " DecisionTreeClassifier(ccp_alpha=0.00012822385612958732),\n",
       " DecisionTreeClassifier(ccp_alpha=0.00012832529905374047),\n",
       " DecisionTreeClassifier(ccp_alpha=0.0001285484734868773),\n",
       " DecisionTreeClassifier(ccp_alpha=0.0001285484734868773),\n",
       " DecisionTreeClassifier(ccp_alpha=0.0001287544806559269),\n",
       " DecisionTreeClassifier(ccp_alpha=0.0001297201392608463),\n",
       " DecisionTreeClassifier(ccp_alpha=0.0001305570433851098),\n",
       " DecisionTreeClassifier(ccp_alpha=0.00013086137215756924),\n",
       " DecisionTreeClassifier(ccp_alpha=0.00013117191172130346),\n",
       " DecisionTreeClassifier(ccp_alpha=0.00013209513745132364),\n",
       " DecisionTreeClassifier(ccp_alpha=0.00013387405485162148),\n",
       " DecisionTreeClassifier(ccp_alpha=0.0001339046598821639),\n",
       " DecisionTreeClassifier(ccp_alpha=0.0001339046598821639),\n",
       " DecisionTreeClassifier(ccp_alpha=0.0001339046598821639),\n",
       " DecisionTreeClassifier(ccp_alpha=0.0001339046598821639),\n",
       " DecisionTreeClassifier(ccp_alpha=0.0001339046598821639),\n",
       " DecisionTreeClassifier(ccp_alpha=0.0001339046598821639),\n",
       " DecisionTreeClassifier(ccp_alpha=0.0001339046598821639),\n",
       " DecisionTreeClassifier(ccp_alpha=0.0001339046598821639),\n",
       " DecisionTreeClassifier(ccp_alpha=0.0001339046598821639),\n",
       " DecisionTreeClassifier(ccp_alpha=0.00013566656330166608),\n",
       " DecisionTreeClassifier(ccp_alpha=0.00013948402071058737),\n",
       " DecisionTreeClassifier(ccp_alpha=0.00013948402071058737),\n",
       " DecisionTreeClassifier(ccp_alpha=0.00013948402071058737),\n",
       " DecisionTreeClassifier(ccp_alpha=0.000140281072257505),\n",
       " DecisionTreeClassifier(ccp_alpha=0.0001405998928762721),\n",
       " DecisionTreeClassifier(ccp_alpha=0.00014096401958296913),\n",
       " DecisionTreeClassifier(ccp_alpha=0.00014128307991648708),\n",
       " DecisionTreeClassifier(ccp_alpha=0.0001417525520364299),\n",
       " DecisionTreeClassifier(ccp_alpha=0.0001428316372076415),\n",
       " DecisionTreeClassifier(ccp_alpha=0.0001428316372076415),\n",
       " DecisionTreeClassifier(ccp_alpha=0.0001428316372076415),\n",
       " DecisionTreeClassifier(ccp_alpha=0.00014283163720764153),\n",
       " DecisionTreeClassifier(ccp_alpha=0.0001435690831606156),\n",
       " DecisionTreeClassifier(ccp_alpha=0.00014461703267273695),\n",
       " DecisionTreeClassifier(ccp_alpha=0.00014714042215549714),\n",
       " DecisionTreeClassifier(ccp_alpha=0.00014878295542462649),\n",
       " DecisionTreeClassifier(ccp_alpha=0.0001501355277466686),\n",
       " DecisionTreeClassifier(ccp_alpha=0.00015064274236743438),\n",
       " DecisionTreeClassifier(ccp_alpha=0.0001522996434619359),\n",
       " DecisionTreeClassifier(ccp_alpha=0.0001530338970081873),\n",
       " DecisionTreeClassifier(ccp_alpha=0.0001530338970081873),\n",
       " DecisionTreeClassifier(ccp_alpha=0.0001530338970081873),\n",
       " DecisionTreeClassifier(ccp_alpha=0.00015317881547126329),\n",
       " DecisionTreeClassifier(ccp_alpha=0.0001539034077866429),\n",
       " DecisionTreeClassifier(ccp_alpha=0.0001550973514108176),\n",
       " DecisionTreeClassifier(ccp_alpha=0.0001562221031958579),\n",
       " DecisionTreeClassifier(ccp_alpha=0.00015941030938352845),\n",
       " DecisionTreeClassifier(ccp_alpha=0.00016068559185859668),\n",
       " DecisionTreeClassifier(ccp_alpha=0.00016068559185859668),\n",
       " DecisionTreeClassifier(ccp_alpha=0.00016068559185859668),\n",
       " DecisionTreeClassifier(ccp_alpha=0.00016068559185859668),\n",
       " DecisionTreeClassifier(ccp_alpha=0.00016068559185859668),\n",
       " DecisionTreeClassifier(ccp_alpha=0.00016068559185859668),\n",
       " DecisionTreeClassifier(ccp_alpha=0.00016068559185859668),\n",
       " DecisionTreeClassifier(ccp_alpha=0.00016068559185859668),\n",
       " DecisionTreeClassifier(ccp_alpha=0.00016068559185859668),\n",
       " DecisionTreeClassifier(ccp_alpha=0.00016068559185859668),\n",
       " DecisionTreeClassifier(ccp_alpha=0.00016068559185859668),\n",
       " DecisionTreeClassifier(ccp_alpha=0.00016068559185859668),\n",
       " DecisionTreeClassifier(ccp_alpha=0.00016106015034777764),\n",
       " DecisionTreeClassifier(ccp_alpha=0.00016230867864504715),\n",
       " DecisionTreeClassifier(ccp_alpha=0.00016259851557119898),\n",
       " DecisionTreeClassifier(ccp_alpha=0.00016270589382533655),\n",
       " DecisionTreeClassifier(ccp_alpha=0.00016301436855219948),\n",
       " DecisionTreeClassifier(ccp_alpha=0.00016307932555674324),\n",
       " DecisionTreeClassifier(ccp_alpha=0.000164772292517338),\n",
       " DecisionTreeClassifier(ccp_alpha=0.00016592533941920304),\n",
       " DecisionTreeClassifier(ccp_alpha=0.00016600733883712622),\n",
       " DecisionTreeClassifier(ccp_alpha=0.00016693951947644543),\n",
       " DecisionTreeClassifier(ccp_alpha=0.0001670947037845806),\n",
       " DecisionTreeClassifier(ccp_alpha=0.00016738082485270487),\n",
       " DecisionTreeClassifier(ccp_alpha=0.00016738082485270487),\n",
       " DecisionTreeClassifier(ccp_alpha=0.00016738082485270487),\n",
       " DecisionTreeClassifier(ccp_alpha=0.00016785769329957865),\n",
       " DecisionTreeClassifier(ccp_alpha=0.00016946622529349272),\n",
       " DecisionTreeClassifier(ccp_alpha=0.00017042411257729955),\n",
       " DecisionTreeClassifier(ccp_alpha=0.00017216313413421068),\n",
       " DecisionTreeClassifier(ccp_alpha=0.0001727802062995662),\n",
       " DecisionTreeClassifier(ccp_alpha=0.00017304602200156566),\n",
       " DecisionTreeClassifier(ccp_alpha=0.00017407605784681307),\n",
       " DecisionTreeClassifier(ccp_alpha=0.00017498904416419142),\n",
       " DecisionTreeClassifier(ccp_alpha=0.00017595201684999324),\n",
       " DecisionTreeClassifier(ccp_alpha=0.00017665114745993163),\n",
       " DecisionTreeClassifier(ccp_alpha=0.00017671103326488853),\n",
       " DecisionTreeClassifier(ccp_alpha=0.0001767541510444564),\n",
       " DecisionTreeClassifier(ccp_alpha=0.00017727150995763743),\n",
       " DecisionTreeClassifier(ccp_alpha=0.00017768118330517904),\n",
       " DecisionTreeClassifier(ccp_alpha=0.00017853954650955185),\n",
       " DecisionTreeClassifier(ccp_alpha=0.00017853954650955185),\n",
       " DecisionTreeClassifier(ccp_alpha=0.00017853954650955185),\n",
       " DecisionTreeClassifier(ccp_alpha=0.00017853954650955185),\n",
       " DecisionTreeClassifier(ccp_alpha=0.00017853954650955185),\n",
       " DecisionTreeClassifier(ccp_alpha=0.00017853954650955185),\n",
       " DecisionTreeClassifier(ccp_alpha=0.00017853954650955185),\n",
       " DecisionTreeClassifier(ccp_alpha=0.00017853954650955185),\n",
       " DecisionTreeClassifier(ccp_alpha=0.00017853954650955185),\n",
       " DecisionTreeClassifier(ccp_alpha=0.00017853954650955185),\n",
       " DecisionTreeClassifier(ccp_alpha=0.00017853954650955185),\n",
       " DecisionTreeClassifier(ccp_alpha=0.00017853954650955185),\n",
       " DecisionTreeClassifier(ccp_alpha=0.00017853954650955185),\n",
       " DecisionTreeClassifier(ccp_alpha=0.00017853954650955185),\n",
       " DecisionTreeClassifier(ccp_alpha=0.00017853954650955185),\n",
       " DecisionTreeClassifier(ccp_alpha=0.00017853954650955185),\n",
       " DecisionTreeClassifier(ccp_alpha=0.00017853954650955185),\n",
       " DecisionTreeClassifier(ccp_alpha=0.00017853954650955185),\n",
       " DecisionTreeClassifier(ccp_alpha=0.00017853954650955185),\n",
       " DecisionTreeClassifier(ccp_alpha=0.00017853954650955185),\n",
       " DecisionTreeClassifier(ccp_alpha=0.00017853954650955185),\n",
       " DecisionTreeClassifier(ccp_alpha=0.00017853954650955185),\n",
       " DecisionTreeClassifier(ccp_alpha=0.00017910217113090547),\n",
       " DecisionTreeClassifier(ccp_alpha=0.00017912684764938592),\n",
       " DecisionTreeClassifier(ccp_alpha=0.00018077129084092126),\n",
       " DecisionTreeClassifier(ccp_alpha=0.00018077129084092126),\n",
       " DecisionTreeClassifier(ccp_alpha=0.00018154381772485684),\n",
       " DecisionTreeClassifier(ccp_alpha=0.00018225912039516746),\n",
       " DecisionTreeClassifier(ccp_alpha=0.00018250709198754187),\n",
       " DecisionTreeClassifier(ccp_alpha=0.00018457128794568538),\n",
       " DecisionTreeClassifier(ccp_alpha=0.0001859214700671583),\n",
       " DecisionTreeClassifier(ccp_alpha=0.0001859786942807832),\n",
       " DecisionTreeClassifier(ccp_alpha=0.00018624920874519158),\n",
       " DecisionTreeClassifier(ccp_alpha=0.0001866549804418042),\n",
       " DecisionTreeClassifier(ccp_alpha=0.00018690858775218715),\n",
       " DecisionTreeClassifier(ccp_alpha=0.00018713235890840734),\n",
       " DecisionTreeClassifier(ccp_alpha=0.0001873640457789972),\n",
       " DecisionTreeClassifier(ccp_alpha=0.00018746652383502945),\n",
       " DecisionTreeClassifier(ccp_alpha=0.00018794602328023075),\n",
       " DecisionTreeClassifier(ccp_alpha=0.00018904187277481963),\n",
       " DecisionTreeClassifier(ccp_alpha=0.0001896982681663989),\n",
       " DecisionTreeClassifier(ccp_alpha=0.0001902975856978408),\n",
       " DecisionTreeClassifier(ccp_alpha=0.00019044218294352188),\n",
       " DecisionTreeClassifier(ccp_alpha=0.000190442182943522),\n",
       " DecisionTreeClassifier(ccp_alpha=0.00019051475999494862),\n",
       " DecisionTreeClassifier(ccp_alpha=0.0001910085180641706),\n",
       " DecisionTreeClassifier(ccp_alpha=0.00019129237126023414),\n",
       " DecisionTreeClassifier(ccp_alpha=0.00019129237126023414),\n",
       " DecisionTreeClassifier(ccp_alpha=0.0001917271266494619),\n",
       " DecisionTreeClassifier(ccp_alpha=0.00019217836106124697),\n",
       " DecisionTreeClassifier(ccp_alpha=0.00019282271023031644),\n",
       " DecisionTreeClassifier(ccp_alpha=0.00019313172098389027),\n",
       " DecisionTreeClassifier(ccp_alpha=0.00019440972842151203),\n",
       " DecisionTreeClassifier(ccp_alpha=0.00019477041437405656),\n",
       " DecisionTreeClassifier(ccp_alpha=0.00019477041437405656),\n",
       " DecisionTreeClassifier(ccp_alpha=0.00019639350116050703),\n",
       " DecisionTreeClassifier(ccp_alpha=0.00019639350116050703),\n",
       " DecisionTreeClassifier(ccp_alpha=0.00019720504455373225),\n",
       " DecisionTreeClassifier(ccp_alpha=0.00019735413060659608),\n",
       " DecisionTreeClassifier(ccp_alpha=0.000198248457487879),\n",
       " DecisionTreeClassifier(ccp_alpha=0.00019837727389950208),\n",
       " DecisionTreeClassifier(ccp_alpha=0.00019850778526390978),\n",
       " DecisionTreeClassifier(ccp_alpha=0.0001987222778541099),\n",
       " DecisionTreeClassifier(ccp_alpha=0.00019978719306259883),\n",
       " DecisionTreeClassifier(ccp_alpha=0.000199810525974087),\n",
       " DecisionTreeClassifier(ccp_alpha=0.00020009616789209725),\n",
       " DecisionTreeClassifier(ccp_alpha=0.00020085698982324584),\n",
       " DecisionTreeClassifier(ccp_alpha=0.00020085698982324584),\n",
       " DecisionTreeClassifier(ccp_alpha=0.00020085698982324584),\n",
       " DecisionTreeClassifier(ccp_alpha=0.00020085698982324584),\n",
       " DecisionTreeClassifier(ccp_alpha=0.00020085698982324584),\n",
       " DecisionTreeClassifier(ccp_alpha=0.00020085698982324584),\n",
       " DecisionTreeClassifier(ccp_alpha=0.00020085698982324584),\n",
       " DecisionTreeClassifier(ccp_alpha=0.00020085698982324584),\n",
       " DecisionTreeClassifier(ccp_alpha=0.00020085698982324584),\n",
       " DecisionTreeClassifier(ccp_alpha=0.00020085698982324584),\n",
       " DecisionTreeClassifier(ccp_alpha=0.00020085698982324584),\n",
       " DecisionTreeClassifier(ccp_alpha=0.00020085698982324584),\n",
       " DecisionTreeClassifier(ccp_alpha=0.00020085698982324584),\n",
       " DecisionTreeClassifier(ccp_alpha=0.00020085698982324584),\n",
       " DecisionTreeClassifier(ccp_alpha=0.00020085698982324584),\n",
       " DecisionTreeClassifier(ccp_alpha=0.00020085698982324584),\n",
       " DecisionTreeClassifier(ccp_alpha=0.00020085698982324584),\n",
       " DecisionTreeClassifier(ccp_alpha=0.00020085698982324584),\n",
       " DecisionTreeClassifier(ccp_alpha=0.00020250934225341777),\n",
       " DecisionTreeClassifier(ccp_alpha=0.00020298989233108152),\n",
       " DecisionTreeClassifier(ccp_alpha=0.0002040451960109164),\n",
       " DecisionTreeClassifier(ccp_alpha=0.00020404519601091643),\n",
       " DecisionTreeClassifier(ccp_alpha=0.00020404519601091643),\n",
       " DecisionTreeClassifier(ccp_alpha=0.00020530475064482712),\n",
       " DecisionTreeClassifier(ccp_alpha=0.00020600716904948288),\n",
       " DecisionTreeClassifier(ccp_alpha=0.00020692416362027462),\n",
       " DecisionTreeClassifier(ccp_alpha=0.0002077238954582286),\n",
       " DecisionTreeClassifier(ccp_alpha=0.0002077238954582286),\n",
       " DecisionTreeClassifier(ccp_alpha=0.00020829613759447714),\n",
       " DecisionTreeClassifier(ccp_alpha=0.00020829613759447714),\n",
       " DecisionTreeClassifier(ccp_alpha=0.00020829613759447714),\n",
       " DecisionTreeClassifier(ccp_alpha=0.00020976675022041976),\n",
       " DecisionTreeClassifier(ccp_alpha=0.00021189308816518262),\n",
       " DecisionTreeClassifier(ccp_alpha=0.00021213569773446755),\n",
       " DecisionTreeClassifier(ccp_alpha=0.00021280200820853628),\n",
       " DecisionTreeClassifier(ccp_alpha=0.00021389965150008),\n",
       " DecisionTreeClassifier(ccp_alpha=0.00021424745581146218),\n",
       " DecisionTreeClassifier(ccp_alpha=0.00021424745581146218),\n",
       " DecisionTreeClassifier(ccp_alpha=0.00021424745581146218),\n",
       " DecisionTreeClassifier(ccp_alpha=0.00021424745581146218),\n",
       " DecisionTreeClassifier(ccp_alpha=0.00021424745581146218),\n",
       " DecisionTreeClassifier(ccp_alpha=0.00021424745581146218),\n",
       " DecisionTreeClassifier(ccp_alpha=0.00021424745581146218),\n",
       " DecisionTreeClassifier(ccp_alpha=0.00021424745581146218),\n",
       " DecisionTreeClassifier(ccp_alpha=0.00021424745581146218),\n",
       " DecisionTreeClassifier(ccp_alpha=0.00021424745581146218),\n",
       " DecisionTreeClassifier(ccp_alpha=0.00021424745581146218),\n",
       " DecisionTreeClassifier(ccp_alpha=0.00021424745581146218),\n",
       " DecisionTreeClassifier(ccp_alpha=0.00021424745581146218),\n",
       " DecisionTreeClassifier(ccp_alpha=0.00021424745581146218),\n",
       " DecisionTreeClassifier(ccp_alpha=0.00021424745581146218),\n",
       " DecisionTreeClassifier(ccp_alpha=0.00021424745581146218),\n",
       " DecisionTreeClassifier(ccp_alpha=0.00021424745581146218),\n",
       " DecisionTreeClassifier(ccp_alpha=0.00021630752750195715),\n",
       " DecisionTreeClassifier(ccp_alpha=0.00021865673206129333),\n",
       " DecisionTreeClassifier(ccp_alpha=0.00021958635933818933),\n",
       " DecisionTreeClassifier(ccp_alpha=0.0002205894010928822),\n",
       " DecisionTreeClassifier(ccp_alpha=0.00022067556882768465),\n",
       " DecisionTreeClassifier(ccp_alpha=0.00022205856097125512),\n",
       " DecisionTreeClassifier(ccp_alpha=0.00022285099192949503),\n",
       " DecisionTreeClassifier(ccp_alpha=0.00022317443313693984),\n",
       " DecisionTreeClassifier(ccp_alpha=0.00022317443313693984),\n",
       " DecisionTreeClassifier(ccp_alpha=0.00022317443313693984),\n",
       " DecisionTreeClassifier(ccp_alpha=0.00022317443313693984),\n",
       " DecisionTreeClassifier(ccp_alpha=0.00022317443313693984),\n",
       " DecisionTreeClassifier(ccp_alpha=0.00022335514117996578),\n",
       " DecisionTreeClassifier(ccp_alpha=0.0002256759508444168),\n",
       " DecisionTreeClassifier(ccp_alpha=0.00022575413760599582),\n",
       " DecisionTreeClassifier(ccp_alpha=0.00022660788595443122),\n",
       " DecisionTreeClassifier(ccp_alpha=0.0002276592782047635),\n",
       " DecisionTreeClassifier(ccp_alpha=0.00022824657934459767),\n",
       " DecisionTreeClassifier(ccp_alpha=0.00022853061953222645),\n",
       " DecisionTreeClassifier(ccp_alpha=0.000229261008586129),\n",
       " DecisionTreeClassifier(ccp_alpha=0.00022955084551228098),\n",
       " DecisionTreeClassifier(ccp_alpha=0.000229550845512281),\n",
       " DecisionTreeClassifier(ccp_alpha=0.000229550845512281),\n",
       " DecisionTreeClassifier(ccp_alpha=0.000229550845512281),\n",
       " DecisionTreeClassifier(ccp_alpha=0.000229550845512281),\n",
       " DecisionTreeClassifier(ccp_alpha=0.000229550845512281),\n",
       " DecisionTreeClassifier(ccp_alpha=0.000229814981688347),\n",
       " DecisionTreeClassifier(ccp_alpha=0.00022993860031888939),\n",
       " DecisionTreeClassifier(ccp_alpha=0.00023045660455273093),\n",
       " DecisionTreeClassifier(ccp_alpha=0.00023082612798734897),\n",
       " DecisionTreeClassifier(ccp_alpha=0.00023261954970578425),\n",
       " DecisionTreeClassifier(ccp_alpha=0.00023287766936028499),\n",
       " DecisionTreeClassifier(ccp_alpha=0.00023433315479378682),\n",
       " DecisionTreeClassifier(ccp_alpha=0.00023433315479378682),\n",
       " DecisionTreeClassifier(ccp_alpha=0.00023433315479378682),\n",
       " DecisionTreeClassifier(ccp_alpha=0.0002343576579155631),\n",
       " DecisionTreeClassifier(ccp_alpha=0.0002371657533682172),\n",
       " DecisionTreeClassifier(ccp_alpha=0.0002377989818454672),\n",
       " DecisionTreeClassifier(ccp_alpha=0.00023805272867940243),\n",
       " DecisionTreeClassifier(ccp_alpha=0.00023805272867940248),\n",
       " DecisionTreeClassifier(ccp_alpha=0.00023818465991409354),\n",
       " DecisionTreeClassifier(ccp_alpha=0.00023830534610957307),\n",
       " DecisionTreeClassifier(ccp_alpha=0.0002384532981747765),\n",
       " DecisionTreeClassifier(ccp_alpha=0.00023911546407529233),\n",
       " DecisionTreeClassifier(ccp_alpha=0.00023971743307576196),\n",
       " DecisionTreeClassifier(ccp_alpha=0.00023971743307576196),\n",
       " DecisionTreeClassifier(ccp_alpha=0.00024098286218290915),\n",
       " DecisionTreeClassifier(ccp_alpha=0.000241028387787895),\n",
       " DecisionTreeClassifier(ccp_alpha=0.000241028387787895),\n",
       " DecisionTreeClassifier(ccp_alpha=0.0002410283877878951),\n",
       " DecisionTreeClassifier(ccp_alpha=0.00024108635058511785),\n",
       " DecisionTreeClassifier(ccp_alpha=0.00024190514448950442),\n",
       " DecisionTreeClassifier(ccp_alpha=0.00024195927579777083),\n",
       " DecisionTreeClassifier(ccp_alpha=0.0002430121605268903),\n",
       " DecisionTreeClassifier(ccp_alpha=0.00024334596843970198),\n",
       " DecisionTreeClassifier(ccp_alpha=0.00024346301796757076),\n",
       " DecisionTreeClassifier(ccp_alpha=0.0002457544346072656),\n",
       " DecisionTreeClassifier(ccp_alpha=0.00024592121821911446),\n",
       " DecisionTreeClassifier(ccp_alpha=0.00024638457418318157),\n",
       " DecisionTreeClassifier(ccp_alpha=0.0002473110878451808),\n",
       " DecisionTreeClassifier(ccp_alpha=0.00024748450531792787),\n",
       " DecisionTreeClassifier(ccp_alpha=0.00024995536511337253),\n",
       " DecisionTreeClassifier(ccp_alpha=0.00025027588231737373),\n",
       " DecisionTreeClassifier(ccp_alpha=0.0002510712372790573),\n",
       " DecisionTreeClassifier(ccp_alpha=0.0002544188537761116),\n",
       " DecisionTreeClassifier(ccp_alpha=0.00025450190057584076),\n",
       " DecisionTreeClassifier(ccp_alpha=0.0002550564950136455),\n",
       " DecisionTreeClassifier(ccp_alpha=0.000255462266710258),\n",
       " DecisionTreeClassifier(ccp_alpha=0.0002559066833303577),\n",
       " DecisionTreeClassifier(ccp_alpha=0.0002568048327574687),\n",
       " DecisionTreeClassifier(ccp_alpha=0.00025750896131185373),\n",
       " DecisionTreeClassifier(ccp_alpha=0.00025792588058254915),\n",
       " DecisionTreeClassifier(ccp_alpha=0.00025829486528468847),\n",
       " DecisionTreeClassifier(ccp_alpha=0.0002596938858320755),\n",
       " DecisionTreeClassifier(ccp_alpha=0.0002605166487192167),\n",
       " DecisionTreeClassifier(ccp_alpha=0.000260766126632533),\n",
       " DecisionTreeClassifier(ccp_alpha=0.0002629400594049763),\n",
       " DecisionTreeClassifier(ccp_alpha=0.0002668794262929239),\n",
       " DecisionTreeClassifier(ccp_alpha=0.0002678093197643278),\n",
       " DecisionTreeClassifier(ccp_alpha=0.000269004058083076),\n",
       " DecisionTreeClassifier(ccp_alpha=0.00026940342285816296),\n",
       " DecisionTreeClassifier(ccp_alpha=0.00026945060804735353),\n",
       " DecisionTreeClassifier(ccp_alpha=0.000271838473091355),\n",
       " DecisionTreeClassifier(ccp_alpha=0.000273258928015346),\n",
       " DecisionTreeClassifier(ccp_alpha=0.0002807114432296304),\n",
       " DecisionTreeClassifier(ccp_alpha=0.0002835628091622294),\n",
       " DecisionTreeClassifier(ccp_alpha=0.00028405500582834374),\n",
       " DecisionTreeClassifier(ccp_alpha=0.00028566327441528316),\n",
       " DecisionTreeClassifier(ccp_alpha=0.00028583435248455457),\n",
       " DecisionTreeClassifier(ccp_alpha=0.00028693855689035125),\n",
       " DecisionTreeClassifier(ccp_alpha=0.00028717472031166005),\n",
       " DecisionTreeClassifier(ccp_alpha=0.0002877294772715233),\n",
       " DecisionTreeClassifier(ccp_alpha=0.00029169935653490867),\n",
       " DecisionTreeClassifier(ccp_alpha=0.00029346625739274344),\n",
       " DecisionTreeClassifier(ccp_alpha=0.00029406513542749716),\n",
       " DecisionTreeClassifier(ccp_alpha=0.00029607399385117643),\n",
       " DecisionTreeClassifier(ccp_alpha=0.00029613664117677575),\n",
       " DecisionTreeClassifier(ccp_alpha=0.00029665032343125517),\n",
       " DecisionTreeClassifier(ccp_alpha=0.0002975659108492531),\n",
       " DecisionTreeClassifier(ccp_alpha=0.00029759280432006124),\n",
       " DecisionTreeClassifier(ccp_alpha=0.00030004562677299687),\n",
       " DecisionTreeClassifier(ccp_alpha=0.0003007484339599403),\n",
       " DecisionTreeClassifier(ccp_alpha=0.000301498366007567),\n",
       " DecisionTreeClassifier(ccp_alpha=0.0003037932810654144),\n",
       " DecisionTreeClassifier(ccp_alpha=0.0003042770980596019),\n",
       " DecisionTreeClassifier(ccp_alpha=0.0003047259873722406),\n",
       " DecisionTreeClassifier(ccp_alpha=0.0003048156984953984),\n",
       " DecisionTreeClassifier(ccp_alpha=0.0003069506101741886),\n",
       " DecisionTreeClassifier(ccp_alpha=0.00030923178597983485),\n",
       " DecisionTreeClassifier(ccp_alpha=0.000312914047303583),\n",
       " DecisionTreeClassifier(ccp_alpha=0.00031538290079078605),\n",
       " DecisionTreeClassifier(ccp_alpha=0.0003169629535889019),\n",
       " DecisionTreeClassifier(ccp_alpha=0.0003174036382392034),\n",
       " DecisionTreeClassifier(ccp_alpha=0.0003174036382392034),\n",
       " DecisionTreeClassifier(ccp_alpha=0.00032137118371719324),\n",
       " DecisionTreeClassifier(ccp_alpha=0.000323733726251134),\n",
       " DecisionTreeClassifier(ccp_alpha=0.0003264723136174664),\n",
       " DecisionTreeClassifier(ccp_alpha=0.0003264723136174664),\n",
       " DecisionTreeClassifier(ccp_alpha=0.00032888863830706915),\n",
       " DecisionTreeClassifier(ccp_alpha=0.00032934009334830566),\n",
       " DecisionTreeClassifier(ccp_alpha=0.0003305532175376847),\n",
       " DecisionTreeClassifier(ccp_alpha=0.0003307559547516697),\n",
       " DecisionTreeClassifier(ccp_alpha=0.0003321865600922912),\n",
       " DecisionTreeClassifier(ccp_alpha=0.00033523902817201266),\n",
       " DecisionTreeClassifier(ccp_alpha=0.000337439742903053),\n",
       " DecisionTreeClassifier(ccp_alpha=0.00033817592588016206),\n",
       " DecisionTreeClassifier(ccp_alpha=0.0003412539968512115),\n",
       " DecisionTreeClassifier(ccp_alpha=0.00034307599133207977),\n",
       " DecisionTreeClassifier(ccp_alpha=0.00034740820091650306),\n",
       " DecisionTreeClassifier(ccp_alpha=0.00035396151786082163),\n",
       " DecisionTreeClassifier(ccp_alpha=0.00035598038811750666),\n",
       " DecisionTreeClassifier(ccp_alpha=0.0003615279804631102),\n",
       " DecisionTreeClassifier(ccp_alpha=0.00036185556638390474),\n",
       " DecisionTreeClassifier(ccp_alpha=0.0003630804223135424),\n",
       " DecisionTreeClassifier(ccp_alpha=0.00036988114348987305),\n",
       " DecisionTreeClassifier(ccp_alpha=0.0003700900721169656),\n",
       " DecisionTreeClassifier(ccp_alpha=0.0003719573885615664),\n",
       " DecisionTreeClassifier(ccp_alpha=0.00037295192703365584),\n",
       " DecisionTreeClassifier(ccp_alpha=0.0003746207274242678),\n",
       " DecisionTreeClassifier(ccp_alpha=0.00037734071828932807),\n",
       " DecisionTreeClassifier(ccp_alpha=0.0003834542532989238),\n",
       " DecisionTreeClassifier(ccp_alpha=0.00038823984127868937),\n",
       " DecisionTreeClassifier(ccp_alpha=0.00039050040805498217),\n",
       " DecisionTreeClassifier(ccp_alpha=0.00039393931458226155),\n",
       " DecisionTreeClassifier(ccp_alpha=0.00039508319274537474),\n",
       " DecisionTreeClassifier(ccp_alpha=0.00039553376457500725),\n",
       " DecisionTreeClassifier(ccp_alpha=0.00039703340664635177),\n",
       " DecisionTreeClassifier(ccp_alpha=0.00039864170822928244),\n",
       " DecisionTreeClassifier(ccp_alpha=0.0004017139796464917),\n",
       " DecisionTreeClassifier(ccp_alpha=0.000403633591903544),\n",
       " DecisionTreeClassifier(ccp_alpha=0.0004143236460773742),\n",
       " DecisionTreeClassifier(ccp_alpha=0.00041578131013620713),\n",
       " DecisionTreeClassifier(ccp_alpha=0.0004321877808755154),\n",
       " DecisionTreeClassifier(ccp_alpha=0.00043823343234162745),\n",
       " DecisionTreeClassifier(ccp_alpha=0.00045377184198473893),\n",
       " DecisionTreeClassifier(ccp_alpha=0.00045540872086309987),\n",
       " DecisionTreeClassifier(ccp_alpha=0.00045649114991841975),\n",
       " DecisionTreeClassifier(ccp_alpha=0.0004568335722042651),\n",
       " DecisionTreeClassifier(ccp_alpha=0.00045833079838758875),\n",
       " DecisionTreeClassifier(ccp_alpha=0.000460695794118397),\n",
       " DecisionTreeClassifier(ccp_alpha=0.0004651816561578913),\n",
       " DecisionTreeClassifier(ccp_alpha=0.0004983726553772429),\n",
       " DecisionTreeClassifier(ccp_alpha=0.0005114607317338973),\n",
       " DecisionTreeClassifier(ccp_alpha=0.0005208497432181228),\n",
       " DecisionTreeClassifier(ccp_alpha=0.0005309302732926743),\n",
       " DecisionTreeClassifier(ccp_alpha=0.0005309359616905152),\n",
       " DecisionTreeClassifier(ccp_alpha=0.0005331135696055008),\n",
       " DecisionTreeClassifier(ccp_alpha=0.0005331252987921453),\n",
       " DecisionTreeClassifier(ccp_alpha=0.0005385852057139748),\n",
       " DecisionTreeClassifier(ccp_alpha=0.0005719515625244908),\n",
       " DecisionTreeClassifier(ccp_alpha=0.0005802535261560434),\n",
       " DecisionTreeClassifier(ccp_alpha=0.0006041276383825732),\n",
       " DecisionTreeClassifier(ccp_alpha=0.0006320674504927313),\n",
       " DecisionTreeClassifier(ccp_alpha=0.0006434335322306722),\n",
       " DecisionTreeClassifier(ccp_alpha=0.0008228948382907604),\n",
       " DecisionTreeClassifier(ccp_alpha=0.0008571279441127698),\n",
       " DecisionTreeClassifier(ccp_alpha=0.0009005456521986848),\n",
       " DecisionTreeClassifier(ccp_alpha=0.0009063545421136507),\n",
       " DecisionTreeClassifier(ccp_alpha=0.000997102437383411),\n",
       " DecisionTreeClassifier(ccp_alpha=0.0010168385109801843),\n",
       " DecisionTreeClassifier(ccp_alpha=0.0010699156654206989),\n",
       " DecisionTreeClassifier(ccp_alpha=0.0013279385804196436),\n",
       " DecisionTreeClassifier(ccp_alpha=0.001380439842376047),\n",
       " DecisionTreeClassifier(ccp_alpha=0.001446768300670108),\n",
       " DecisionTreeClassifier(ccp_alpha=0.0016550666572099082),\n",
       " DecisionTreeClassifier(ccp_alpha=0.00196219712949032),\n",
       " DecisionTreeClassifier(ccp_alpha=0.0020270509118162213),\n",
       " DecisionTreeClassifier(ccp_alpha=0.0020536896644496663),\n",
       " DecisionTreeClassifier(ccp_alpha=0.0022528156449300764),\n",
       " DecisionTreeClassifier(ccp_alpha=0.002579089145758162),\n",
       " DecisionTreeClassifier(ccp_alpha=0.0029304856971970237),\n",
       " DecisionTreeClassifier(ccp_alpha=0.003024164036481789),\n",
       " DecisionTreeClassifier(ccp_alpha=0.0039604812061196926),\n",
       " DecisionTreeClassifier(ccp_alpha=0.0045016924064372014),\n",
       " DecisionTreeClassifier(ccp_alpha=0.004678917095062768),\n",
       " DecisionTreeClassifier(ccp_alpha=0.014787733380770607),\n",
       " DecisionTreeClassifier(ccp_alpha=0.03825052545416002)]"
      ]
     },
     "execution_count": 24,
     "metadata": {},
     "output_type": "execute_result"
    }
   ],
   "source": [
    "dt_modle2"
   ]
  },
  {
   "cell_type": "code",
   "execution_count": 25,
   "id": "320cd3c2",
   "metadata": {},
   "outputs": [
    {
     "data": {
      "text/plain": [
       "Text(0, 0.5, 'score')"
      ]
     },
     "execution_count": 25,
     "metadata": {},
     "output_type": "execute_result"
    },
    {
     "data": {
      "image/png": "[encoded data removed]",
      "text/plain": [
       "<Figure size 720x540 with 1 Axes>"
      ]
     },
     "metadata": {
      "needs_background": "light"
     },
     "output_type": "display_data"
    }
   ],
   "source": [
    "dt_model2 = []\n",
    "score = []\n",
    "for i in ccp_alpha:\n",
    "    dt_m = DecisionTreeClassifier(ccp_alpha = i)\n",
    "    dt_m.fit(x_train,y_train)\n",
    "    dt_model2.append(dt_m)\n",
    "    score.append(dt_m.score(x_test, y_test))\n",
    "\n",
    "    \n",
    "plt.plot(score, 'r-+')\n",
    "plt.xlabel('iteration')\n",
    "plt.ylabel('score')"
   ]
  },
  {
   "cell_type": "code",
   "execution_count": 26,
   "id": "d5ffd8b7",
   "metadata": {},
   "outputs": [],
   "source": [
    "train_score = [i.score(x_train,y_train) for i in dt_modle2]"
   ]
  },
  {
   "cell_type": "code",
   "execution_count": 27,
   "id": "595e1bca",
   "metadata": {},
   "outputs": [],
   "source": [
    "test_score = [i.score(x_test ,y_test) for i in dt_modle2]"
   ]
  },
  {
   "cell_type": "code",
   "execution_count": 28,
   "id": "65030fe1",
   "metadata": {},
   "outputs": [
    {
     "data": {
      "image/png": "[encoded data removed]",
      "text/plain": [
       "<Figure size 720x540 with 1 Axes>"
      ]
     },
     "metadata": {
      "needs_background": "light"
     },
     "output_type": "display_data"
    }
   ],
   "source": [
    "fig, ax = plt.subplots()\n",
    "ax.set_xlabel(\"alpha\")\n",
    "ax.set_ylabel(\"accuracy\")\n",
    "ax.set_title(\"Accuracy vs alpha for training and testing sets\")\n",
    "ax.plot(ccp_alpha, train_score, marker='o', label=\"train\",\n",
    "        drawstyle=\"steps-post\")\n",
    "ax.plot(ccp_alpha, test_score, marker='o', label=\"test\",\n",
    "        drawstyle=\"steps-post\")\n",
    "ax.legend()\n",
    "plt.show()"
   ]
  },
  {
   "cell_type": "code",
   "execution_count": 37,
   "id": "f004a71c",
   "metadata": {},
   "outputs": [
    {
     "data": {
      "text/plain": [
       "DecisionTreeClassifier(ccp_alpha=0.001, random_state=0)"
      ]
     },
     "execution_count": 37,
     "metadata": {},
     "output_type": "execute_result"
    }
   ],
   "source": [
    "dt_model_ccp = DecisionTreeClassifier(random_state=0 , ccp_alpha=.001)\n",
    "dt_model_ccp.fit(x_train,y_train)"
   ]
  },
  {
   "cell_type": "code",
   "execution_count": 38,
   "id": "fbb707a3",
   "metadata": {},
   "outputs": [
    {
     "data": {
      "text/plain": [
       "[Text(0.2375, 0.9761904761904762, 'X[0] <= 0.275\\ngini = 0.5\\nsamples = 7468\\nvalue = [3723, 3745]'),\n",
       " Text(0.04, 0.9285714285714286, 'X[0] <= 0.197\\ngini = 0.384\\nsamples = 1836\\nvalue = [1360, 476]'),\n",
       " Text(0.02, 0.8809523809523809, 'gini = 0.272\\nsamples = 880\\nvalue = [737, 143]'),\n",
       " Text(0.06, 0.8809523809523809, 'X[0] <= 0.215\\ngini = 0.454\\nsamples = 956\\nvalue = [623, 333]'),\n",
       " Text(0.04, 0.8333333333333334, 'gini = 0.0\\nsamples = 33\\nvalue = [0, 33]'),\n",
       " Text(0.08, 0.8333333333333334, 'X[0] <= 0.216\\ngini = 0.439\\nsamples = 923\\nvalue = [623, 300]'),\n",
       " Text(0.06, 0.7857142857142857, 'gini = 0.235\\nsamples = 162\\nvalue = [140, 22]'),\n",
       " Text(0.1, 0.7857142857142857, 'X[0] <= 0.235\\ngini = 0.464\\nsamples = 761\\nvalue = [483, 278]'),\n",
       " Text(0.08, 0.7380952380952381, 'gini = 0.0\\nsamples = 52\\nvalue = [0, 52]'),\n",
       " Text(0.12, 0.7380952380952381, 'X[0] <= 0.236\\ngini = 0.434\\nsamples = 709\\nvalue = [483, 226]'),\n",
       " Text(0.1, 0.6904761904761905, 'gini = 0.279\\nsamples = 197\\nvalue = [164, 33]'),\n",
       " Text(0.14, 0.6904761904761905, 'X[0] <= 0.255\\ngini = 0.47\\nsamples = 512\\nvalue = [319, 193]'),\n",
       " Text(0.12, 0.6428571428571429, 'gini = 0.0\\nsamples = 61\\nvalue = [0, 61]'),\n",
       " Text(0.16, 0.6428571428571429, 'X[0] <= 0.256\\ngini = 0.414\\nsamples = 451\\nvalue = [319, 132]'),\n",
       " Text(0.14, 0.5952380952380952, 'gini = 0.258\\nsamples = 184\\nvalue = [156, 28]'),\n",
       " Text(0.18, 0.5952380952380952, 'X[0] <= 0.274\\ngini = 0.476\\nsamples = 267\\nvalue = [163, 104]'),\n",
       " Text(0.16, 0.5476190476190477, 'gini = 0.0\\nsamples = 70\\nvalue = [0, 70]'),\n",
       " Text(0.2, 0.5476190476190477, 'gini = 0.286\\nsamples = 197\\nvalue = [163, 34]'),\n",
       " Text(0.435, 0.9285714285714286, 'X[3] <= 0.5\\ngini = 0.487\\nsamples = 5632\\nvalue = [2363, 3269]'),\n",
       " Text(0.21, 0.8809523809523809, 'X[1] <= 0.052\\ngini = 0.443\\nsamples = 3125\\nvalue = [1034, 2091]'),\n",
       " Text(0.16, 0.8333333333333334, 'X[1] <= 0.008\\ngini = 0.486\\nsamples = 216\\nvalue = [126, 90]'),\n",
       " Text(0.14, 0.7857142857142857, 'gini = 0.08\\nsamples = 24\\nvalue = [23, 1]'),\n",
       " Text(0.18, 0.7857142857142857, 'gini = 0.497\\nsamples = 192\\nvalue = [103, 89]'),\n",
       " Text(0.26, 0.8333333333333334, 'X[0] <= 0.432\\ngini = 0.429\\nsamples = 2909\\nvalue = [908, 2001]'),\n",
       " Text(0.22, 0.7857142857142857, 'X[0] <= 0.431\\ngini = 0.472\\nsamples = 1250\\nvalue = [478, 772]'),\n",
       " Text(0.2, 0.7380952380952381, 'X[0] <= 0.294\\ngini = 0.459\\nsamples = 1172\\nvalue = [419, 753]'),\n",
       " Text(0.18, 0.6904761904761905, 'gini = 0.0\\nsamples = 69\\nvalue = [0, 69]'),\n",
       " Text(0.22, 0.6904761904761905, 'X[0] <= 0.294\\ngini = 0.471\\nsamples = 1103\\nvalue = [419, 684]'),\n",
       " Text(0.2, 0.6428571428571429, 'gini = 0.355\\nsamples = 78\\nvalue = [60, 18]'),\n",
       " Text(0.24, 0.6428571428571429, 'X[0] <= 0.314\\ngini = 0.455\\nsamples = 1025\\nvalue = [359, 666]'),\n",
       " Text(0.22, 0.5952380952380952, 'gini = 0.0\\nsamples = 68\\nvalue = [0, 68]'),\n",
       " Text(0.26, 0.5952380952380952, 'X[0] <= 0.412\\ngini = 0.469\\nsamples = 957\\nvalue = [359, 598]'),\n",
       " Text(0.24, 0.5476190476190477, 'X[0] <= 0.412\\ngini = 0.481\\nsamples = 894\\nvalue = [359, 535]'),\n",
       " Text(0.22, 0.5, 'X[0] <= 0.392\\ngini = 0.466\\nsamples = 817\\nvalue = [302, 515]'),\n",
       " Text(0.2, 0.4523809523809524, 'X[0] <= 0.314\\ngini = 0.482\\nsamples = 746\\nvalue = [302, 444]'),\n",
       " Text(0.18, 0.40476190476190477, 'gini = 0.405\\nsamples = 71\\nvalue = [51, 20]'),\n",
       " Text(0.22, 0.40476190476190477, 'X[0] <= 0.333\\ngini = 0.467\\nsamples = 675\\nvalue = [251, 424]'),\n",
       " Text(0.2, 0.35714285714285715, 'gini = 0.0\\nsamples = 69\\nvalue = [0, 69]'),\n",
       " Text(0.24, 0.35714285714285715, 'X[0] <= 0.333\\ngini = 0.485\\nsamples = 606\\nvalue = [251, 355]'),\n",
       " Text(0.22, 0.30952380952380953, 'gini = 0.414\\nsamples = 99\\nvalue = [70, 29]'),\n",
       " Text(0.26, 0.30952380952380953, 'X[0] <= 0.353\\ngini = 0.459\\nsamples = 507\\nvalue = [181, 326]'),\n",
       " Text(0.24, 0.2619047619047619, 'gini = 0.0\\nsamples = 83\\nvalue = [0, 83]'),\n",
       " Text(0.28, 0.2619047619047619, 'X[0] <= 0.353\\ngini = 0.489\\nsamples = 424\\nvalue = [181, 243]'),\n",
       " Text(0.26, 0.21428571428571427, 'gini = 0.348\\nsamples = 89\\nvalue = [69, 20]'),\n",
       " Text(0.3, 0.21428571428571427, 'X[0] <= 0.373\\ngini = 0.445\\nsamples = 335\\nvalue = [112, 223]'),\n",
       " Text(0.28, 0.16666666666666666, 'gini = 0.0\\nsamples = 98\\nvalue = [0, 98]'),\n",
       " Text(0.32, 0.16666666666666666, 'X[0] <= 0.373\\ngini = 0.498\\nsamples = 237\\nvalue = [112, 125]'),\n",
       " Text(0.3, 0.11904761904761904, 'gini = 0.384\\nsamples = 85\\nvalue = [63, 22]'),\n",
       " Text(0.34, 0.11904761904761904, 'X[0] <= 0.392\\ngini = 0.437\\nsamples = 152\\nvalue = [49, 103]'),\n",
       " Text(0.32, 0.07142857142857142, 'gini = 0.0\\nsamples = 80\\nvalue = [0, 80]'),\n",
       " Text(0.36, 0.07142857142857142, 'gini = 0.435\\nsamples = 72\\nvalue = [49, 23]'),\n",
       " Text(0.24, 0.4523809523809524, 'gini = 0.0\\nsamples = 71\\nvalue = [0, 71]'),\n",
       " Text(0.26, 0.5, 'gini = 0.385\\nsamples = 77\\nvalue = [57, 20]'),\n",
       " Text(0.28, 0.5476190476190477, 'gini = 0.0\\nsamples = 63\\nvalue = [0, 63]'),\n",
       " Text(0.24, 0.7380952380952381, 'gini = 0.369\\nsamples = 78\\nvalue = [59, 19]'),\n",
       " Text(0.3, 0.7857142857142857, 'X[0] <= 0.451\\ngini = 0.384\\nsamples = 1659\\nvalue = [430, 1229]'),\n",
       " Text(0.28, 0.7380952380952381, 'gini = 0.0\\nsamples = 82\\nvalue = [0, 82]'),\n",
       " Text(0.32, 0.7380952380952381, 'X[0] <= 0.451\\ngini = 0.397\\nsamples = 1577\\nvalue = [430, 1147]'),\n",
       " Text(0.3, 0.6904761904761905, 'gini = 0.493\\nsamples = 66\\nvalue = [37, 29]'),\n",
       " Text(0.34, 0.6904761904761905, 'X[0] <= 0.471\\ngini = 0.385\\nsamples = 1511\\nvalue = [393, 1118]'),\n",
       " Text(0.32, 0.6428571428571429, 'gini = 0.0\\nsamples = 73\\nvalue = [0, 73]'),\n",
       " Text(0.36, 0.6428571428571429, 'X[0] <= 0.471\\ngini = 0.397\\nsamples = 1438\\nvalue = [393, 1045]'),\n",
       " Text(0.34, 0.5952380952380952, 'gini = 0.472\\nsamples = 76\\nvalue = [47, 29]'),\n",
       " Text(0.38, 0.5952380952380952, 'X[0] <= 0.49\\ngini = 0.379\\nsamples = 1362\\nvalue = [346, 1016]'),\n",
       " Text(0.36, 0.5476190476190477, 'gini = 0.0\\nsamples = 52\\nvalue = [0, 52]'),\n",
       " Text(0.4, 0.5476190476190477, 'X[0] <= 0.49\\ngini = 0.389\\nsamples = 1310\\nvalue = [346, 964]'),\n",
       " Text(0.38, 0.5, 'gini = 0.365\\nsamples = 50\\nvalue = [38, 12]'),\n",
       " Text(0.42, 0.5, 'X[0] <= 0.51\\ngini = 0.369\\nsamples = 1260\\nvalue = [308, 952]'),\n",
       " Text(0.4, 0.4523809523809524, 'gini = 0.0\\nsamples = 82\\nvalue = [0, 82]'),\n",
       " Text(0.44, 0.4523809523809524, 'X[0] <= 0.51\\ngini = 0.386\\nsamples = 1178\\nvalue = [308, 870]'),\n",
       " Text(0.42, 0.40476190476190477, 'gini = 0.441\\nsamples = 61\\nvalue = [41, 20]'),\n",
       " Text(0.46, 0.40476190476190477, 'X[0] <= 0.529\\ngini = 0.364\\nsamples = 1117\\nvalue = [267, 850]'),\n",
       " Text(0.44, 0.35714285714285715, 'gini = 0.0\\nsamples = 65\\nvalue = [0, 65]'),\n",
       " Text(0.48, 0.35714285714285715, 'X[0] <= 0.53\\ngini = 0.379\\nsamples = 1052\\nvalue = [267, 785]'),\n",
       " Text(0.46, 0.30952380952380953, 'gini = 0.46\\nsamples = 39\\nvalue = [25, 14]'),\n",
       " Text(0.5, 0.30952380952380953, 'X[0] <= 0.549\\ngini = 0.364\\nsamples = 1013\\nvalue = [242, 771]'),\n",
       " Text(0.48, 0.2619047619047619, 'gini = 0.0\\nsamples = 63\\nvalue = [0, 63]'),\n",
       " Text(0.52, 0.2619047619047619, 'X[0] <= 0.549\\ngini = 0.38\\nsamples = 950\\nvalue = [242, 708]'),\n",
       " Text(0.5, 0.21428571428571427, 'gini = 0.464\\nsamples = 41\\nvalue = [26, 15]'),\n",
       " Text(0.54, 0.21428571428571427, 'X[0] <= 0.568\\ngini = 0.362\\nsamples = 909\\nvalue = [216, 693]'),\n",
       " Text(0.52, 0.16666666666666666, 'gini = 0.0\\nsamples = 46\\nvalue = [0, 46]'),\n",
       " Text(0.56, 0.16666666666666666, 'X[0] <= 0.569\\ngini = 0.375\\nsamples = 863\\nvalue = [216, 647]'),\n",
       " Text(0.54, 0.11904761904761904, 'gini = 0.464\\nsamples = 52\\nvalue = [33, 19]'),\n",
       " Text(0.58, 0.11904761904761904, 'X[0] <= 0.588\\ngini = 0.349\\nsamples = 811\\nvalue = [183, 628]'),\n",
       " Text(0.56, 0.07142857142857142, 'gini = 0.0\\nsamples = 58\\nvalue = [0, 58]'),\n",
       " Text(0.6, 0.07142857142857142, 'X[0] <= 0.588\\ngini = 0.368\\nsamples = 753\\nvalue = [183, 570]'),\n",
       " Text(0.58, 0.023809523809523808, 'gini = 0.482\\nsamples = 37\\nvalue = [22, 15]'),\n",
       " Text(0.62, 0.023809523809523808, 'gini = 0.349\\nsamples = 716\\nvalue = [161, 555]'),\n",
       " Text(0.66, 0.8809523809523809, 'X[0] <= 0.412\\ngini = 0.498\\nsamples = 2507\\nvalue = [1329, 1178]'),\n",
       " Text(0.62, 0.8333333333333334, 'X[0] <= 0.293\\ngini = 0.461\\nsamples = 928\\nvalue = [593, 335]'),\n",
       " Text(0.6, 0.7857142857142857, 'gini = 0.0\\nsamples = 23\\nvalue = [0, 23]'),\n",
       " Text(0.64, 0.7857142857142857, 'X[0] <= 0.294\\ngini = 0.452\\nsamples = 905\\nvalue = [593, 312]'),\n",
       " Text(0.62, 0.7380952380952381, 'gini = 0.238\\nsamples = 116\\nvalue = [100, 16]'),\n",
       " Text(0.66, 0.7380952380952381, 'X[0] <= 0.313\\ngini = 0.469\\nsamples = 789\\nvalue = [493, 296]'),\n",
       " Text(0.64, 0.6904761904761905, 'gini = 0.0\\nsamples = 23\\nvalue = [0, 23]'),\n",
       " Text(0.68, 0.6904761904761905, 'X[0] <= 0.314\\ngini = 0.459\\nsamples = 766\\nvalue = [493, 273]'),\n",
       " Text(0.66, 0.6428571428571429, 'gini = 0.187\\nsamples = 86\\nvalue = [77, 9]'),\n",
       " Text(0.7, 0.6428571428571429, 'X[0] <= 0.332\\ngini = 0.475\\nsamples = 680\\nvalue = [416, 264]'),\n",
       " Text(0.68, 0.5952380952380952, 'gini = 0.0\\nsamples = 32\\nvalue = [0, 32]'),\n",
       " Text(0.72, 0.5952380952380952, 'X[1] <= 0.15\\ngini = 0.46\\nsamples = 648\\nvalue = [416, 232]'),\n",
       " Text(0.7, 0.5476190476190477, 'gini = 0.301\\nsamples = 146\\nvalue = [119, 27]'),\n",
       " Text(0.74, 0.5476190476190477, 'X[0] <= 0.412\\ngini = 0.483\\nsamples = 502\\nvalue = [297, 205]'),\n",
       " Text(0.72, 0.5, 'X[0] <= 0.392\\ngini = 0.494\\nsamples = 431\\nvalue = [240, 191]'),\n",
       " Text(0.7, 0.4523809523809524, 'X[0] <= 0.392\\ngini = 0.479\\nsamples = 398\\nvalue = [240, 158]'),\n",
       " Text(0.68, 0.40476190476190477, 'X[0] <= 0.373\\ngini = 0.495\\nsamples = 328\\nvalue = [181, 147]'),\n",
       " Text(0.66, 0.35714285714285715, 'X[0] <= 0.353\\ngini = 0.475\\nsamples = 296\\nvalue = [181, 115]'),\n",
       " Text(0.62, 0.30952380952380953, 'X[0] <= 0.353\\ngini = 0.441\\nsamples = 204\\nvalue = [137, 67]'),\n",
       " Text(0.6, 0.2619047619047619, 'X[0] <= 0.334\\ngini = 0.499\\nsamples = 112\\nvalue = [58, 54]'),\n",
       " Text(0.58, 0.21428571428571427, 'gini = 0.399\\nsamples = 80\\nvalue = [58, 22]'),\n",
       " Text(0.62, 0.21428571428571427, 'gini = 0.0\\nsamples = 32\\nvalue = [0, 32]'),\n",
       " Text(0.64, 0.2619047619047619, 'gini = 0.243\\nsamples = 92\\nvalue = [79, 13]'),\n",
       " Text(0.7, 0.30952380952380953, 'X[0] <= 0.372\\ngini = 0.499\\nsamples = 92\\nvalue = [44, 48]'),\n",
       " Text(0.68, 0.2619047619047619, 'gini = 0.0\\nsamples = 33\\nvalue = [0, 33]'),\n",
       " Text(0.72, 0.2619047619047619, 'gini = 0.379\\nsamples = 59\\nvalue = [44, 15]'),\n",
       " Text(0.7, 0.35714285714285715, 'gini = 0.0\\nsamples = 32\\nvalue = [0, 32]'),\n",
       " Text(0.72, 0.40476190476190477, 'gini = 0.265\\nsamples = 70\\nvalue = [59, 11]'),\n",
       " Text(0.74, 0.4523809523809524, 'gini = 0.0\\nsamples = 33\\nvalue = [0, 33]'),\n",
       " Text(0.76, 0.5, 'gini = 0.317\\nsamples = 71\\nvalue = [57, 14]'),\n",
       " Text(0.7, 0.8333333333333334, 'X[0] <= 0.431\\ngini = 0.498\\nsamples = 1579\\nvalue = [736, 843]'),\n",
       " Text(0.68, 0.7857142857142857, 'gini = 0.0\\nsamples = 48\\nvalue = [0, 48]'),\n",
       " Text(0.72, 0.7857142857142857, 'X[0] <= 0.431\\ngini = 0.499\\nsamples = 1531\\nvalue = [736, 795]'),\n",
       " Text(0.7, 0.7380952380952381, 'gini = 0.312\\nsamples = 88\\nvalue = [71, 17]'),\n",
       " Text(0.74, 0.7380952380952381, 'X[0] <= 0.451\\ngini = 0.497\\nsamples = 1443\\nvalue = [665, 778]'),\n",
       " Text(0.72, 0.6904761904761905, 'gini = 0.0\\nsamples = 55\\nvalue = [0, 55]'),\n",
       " Text(0.76, 0.6904761904761905, 'X[1] <= 0.07\\ngini = 0.499\\nsamples = 1388\\nvalue = [665, 723]'),\n",
       " Text(0.74, 0.6428571428571429, 'gini = 0.402\\nsamples = 115\\nvalue = [83, 32]'),\n",
       " Text(0.78, 0.6428571428571429, 'X[0] <= 0.451\\ngini = 0.496\\nsamples = 1273\\nvalue = [582, 691]'),\n",
       " Text(0.76, 0.5952380952380952, 'gini = 0.362\\nsamples = 59\\nvalue = [45, 14]'),\n",
       " Text(0.8, 0.5952380952380952, 'X[0] <= 0.471\\ngini = 0.493\\nsamples = 1214\\nvalue = [537, 677]'),\n",
       " Text(0.78, 0.5476190476190477, 'gini = 0.0\\nsamples = 43\\nvalue = [0, 43]'),\n",
       " Text(0.82, 0.5476190476190477, 'X[0] <= 0.471\\ngini = 0.497\\nsamples = 1171\\nvalue = [537, 634]'),\n",
       " Text(0.8, 0.5, 'gini = 0.344\\nsamples = 68\\nvalue = [53, 15]'),\n",
       " Text(0.84, 0.5, 'X[0] <= 0.49\\ngini = 0.493\\nsamples = 1103\\nvalue = [484, 619]'),\n",
       " Text(0.82, 0.4523809523809524, 'gini = 0.0\\nsamples = 38\\nvalue = [0, 38]'),\n",
       " Text(0.86, 0.4523809523809524, 'X[0] <= 0.49\\ngini = 0.496\\nsamples = 1065\\nvalue = [484, 581]'),\n",
       " Text(0.84, 0.40476190476190477, 'gini = 0.309\\nsamples = 68\\nvalue = [55, 13]'),\n",
       " Text(0.88, 0.40476190476190477, 'X[0] <= 0.51\\ngini = 0.49\\nsamples = 997\\nvalue = [429, 568]'),\n",
       " Text(0.86, 0.35714285714285715, 'gini = 0.0\\nsamples = 38\\nvalue = [0, 38]'),\n",
       " Text(0.9, 0.35714285714285715, 'X[0] <= 0.51\\ngini = 0.494\\nsamples = 959\\nvalue = [429, 530]'),\n",
       " Text(0.88, 0.30952380952380953, 'gini = 0.298\\nsamples = 55\\nvalue = [45, 10]'),\n",
       " Text(0.92, 0.30952380952380953, 'X[0] <= 0.529\\ngini = 0.489\\nsamples = 904\\nvalue = [384, 520]'),\n",
       " Text(0.9, 0.2619047619047619, 'gini = 0.0\\nsamples = 33\\nvalue = [0, 33]'),\n",
       " Text(0.94, 0.2619047619047619, 'X[0] <= 0.529\\ngini = 0.493\\nsamples = 871\\nvalue = [384, 487]'),\n",
       " Text(0.92, 0.21428571428571427, 'gini = 0.365\\nsamples = 50\\nvalue = [38, 12]'),\n",
       " Text(0.96, 0.21428571428571427, 'X[0] <= 0.549\\ngini = 0.488\\nsamples = 821\\nvalue = [346, 475]'),\n",
       " Text(0.94, 0.16666666666666666, 'gini = 0.0\\nsamples = 27\\nvalue = [0, 27]'),\n",
       " Text(0.98, 0.16666666666666666, 'gini = 0.492\\nsamples = 794\\nvalue = [346, 448]')]"
      ]
     },
     "execution_count": 38,
     "metadata": {},
     "output_type": "execute_result"
    },
    {
     "data": {
      "image/png": "[encoded data removed]",
      "text/plain": [
       "<Figure size 1440x1440 with 1 Axes>"
      ]
     },
     "metadata": {
      "needs_background": "light"
     },
     "output_type": "display_data"
    }
   ],
   "source": [
    "plt.figure(figsize=(20,20))\n",
    "tree.plot_tree(dt_model_ccp,filled=True)"
   ]
  },
  {
   "cell_type": "code",
   "execution_count": 39,
   "id": "18480f9f",
   "metadata": {},
   "outputs": [
    {
     "data": {
      "text/plain": [
       "0.8097214783074451"
      ]
     },
     "execution_count": 39,
     "metadata": {},
     "output_type": "execute_result"
    }
   ],
   "source": [
    "dt_model_ccp.score(x_train,y_train)"
   ]
  },
  {
   "cell_type": "code",
   "execution_count": 40,
   "id": "bfe80542",
   "metadata": {},
   "outputs": [
    {
     "data": {
      "text/plain": [
       "0.8137044967880086"
      ]
     },
     "execution_count": 40,
     "metadata": {},
     "output_type": "execute_result"
    }
   ],
   "source": [
    "dt_model_ccp.score(x_test,y_test)"
   ]
  },
  {
   "cell_type": "code",
   "execution_count": null,
   "id": "8398b4cc",
   "metadata": {},
   "outputs": [],
   "source": []
  },
  {
   "cell_type": "code",
   "execution_count": 41,
   "id": "cb02cc88",
   "metadata": {},
   "outputs": [
    {
     "data": {
      "text/plain": [
       "DecisionTreeClassifier()"
      ]
     },
     "execution_count": 41,
     "metadata": {},
     "output_type": "execute_result"
    }
   ],
   "source": [
    "DecisionTreeClassifier()"
   ]
  },
  {
   "cell_type": "code",
   "execution_count": 53,
   "id": "ca2314c2",
   "metadata": {},
   "outputs": [],
   "source": [
    "grid_pram = {\"criterion\":['gini','entropy'],\n",
    "             \"splitter\":['best','random'],\n",
    "             \"max_depth\" : [5,10,13,17],\n",
    "             \"min_samples_split\":[2,3,4,5],\n",
    "             \"min_samples_leaf\":[1,2,3],\n",
    "             'ccp_alpha':np.random.rand(6)\n",
    "             }"
   ]
  },
  {
   "cell_type": "code",
   "execution_count": 54,
   "id": "5574a1c4",
   "metadata": {},
   "outputs": [
    {
     "name": "stdout",
     "output_type": "stream",
     "text": [
      "Fitting 5 folds for each of 1152 candidates, totalling 5760 fits\n"
     ]
    },
    {
     "data": {
      "text/plain": [
       "GridSearchCV(cv=5,\n",
       "             estimator=DecisionTreeClassifier(ccp_alpha=0.001, random_state=0),\n",
       "             n_jobs=-1,\n",
       "             param_grid={'ccp_alpha': array([0.68327185, 0.52782038, 0.09035766, 0.33034116, 0.46383412,\n",
       "       0.10020942]),\n",
       "                         'criterion': ['gini', 'entropy'],\n",
       "                         'max_depth': [5, 10, 13, 17],\n",
       "                         'min_samples_leaf': [1, 2, 3],\n",
       "                         'min_samples_split': [2, 3, 4, 5],\n",
       "                         'splitter': ['best', 'random']},\n",
       "             verbose=1)"
      ]
     },
     "execution_count": 54,
     "metadata": {},
     "output_type": "execute_result"
    }
   ],
   "source": [
    "grid_ccp = GridSearchCV(estimator=dt_model_ccp,param_grid=grid_pram , cv = 5 , n_jobs=-1,verbose=1)\n",
    "grid_ccp.fit(x_train,y_train)"
   ]
  },
  {
   "cell_type": "code",
   "execution_count": 55,
   "id": "d433ca8b",
   "metadata": {},
   "outputs": [
    {
     "data": {
      "text/plain": [
       "{'ccp_alpha': 0.6832718466859146,\n",
       " 'criterion': 'gini',\n",
       " 'max_depth': 5,\n",
       " 'min_samples_leaf': 1,\n",
       " 'min_samples_split': 2,\n",
       " 'splitter': 'best'}"
      ]
     },
     "execution_count": 55,
     "metadata": {},
     "output_type": "execute_result"
    }
   ],
   "source": [
    "grid_ccp.best_params_"
   ]
  },
  {
   "cell_type": "code",
   "execution_count": 55,
   "id": "87424790",
   "metadata": {},
   "outputs": [
    {
     "data": {
      "text/plain": [
       "DecisionTreeClassifier(ccp_alpha=0.001, max_depth=5)"
      ]
     },
     "execution_count": 55,
     "metadata": {},
     "output_type": "execute_result"
    }
   ],
   "source": [
    "dt_cpp_new = DecisionTreeClassifier(criterion='gini' , max_depth=5 ,min_samples_leaf=1 , min_samples_split=2 , splitter='best',ccp_alpha=0.001)\n",
    "dt_cpp_new.fit(x_train,y_train)"
   ]
  },
  {
   "cell_type": "code",
   "execution_count": 60,
   "id": "a5562f9f",
   "metadata": {},
   "outputs": [
    {
     "data": {
      "text/plain": [
       "0.68626138189609"
      ]
     },
     "execution_count": 60,
     "metadata": {},
     "output_type": "execute_result"
    }
   ],
   "source": [
    "dt_cpp_new.score(x_train,y_train)"
   ]
  },
  {
   "cell_type": "code",
   "execution_count": 61,
   "id": "d282b622",
   "metadata": {},
   "outputs": [
    {
     "data": {
      "text/plain": [
       "0.6761241970021413"
      ]
     },
     "execution_count": 61,
     "metadata": {},
     "output_type": "execute_result"
    }
   ],
   "source": [
    "dt_cpp_new.score(x_test,y_test)"
   ]
  },
  {
   "cell_type": "code",
   "execution_count": null,
   "id": "d17b3fb1",
   "metadata": {},
   "outputs": [],
   "source": []
  },
  {
   "cell_type": "code",
   "execution_count": null,
   "id": "fd9a5a77",
   "metadata": {},
   "outputs": [],
   "source": []
  },
  {
   "cell_type": "code",
   "execution_count": null,
   "id": "ecc49bb3",
   "metadata": {},
   "outputs": [],
   "source": []
  },
  {
   "cell_type": "markdown",
   "id": "1c60c956",
   "metadata": {},
   "source": [
    "# knn"
   ]
  },
  {
   "cell_type": "code",
   "execution_count": 31,
   "id": "5d6f4935",
   "metadata": {},
   "outputs": [],
   "source": [
    "from sklearn.neighbors import KNeighborsClassifier"
   ]
  },
  {
   "cell_type": "code",
   "execution_count": 32,
   "id": "f4f67bf2",
   "metadata": {},
   "outputs": [],
   "source": [
    "knn = KNeighborsClassifier()"
   ]
  },
  {
   "cell_type": "code",
   "execution_count": 33,
   "id": "4f8a7643",
   "metadata": {},
   "outputs": [],
   "source": [
    "pram  = {\n",
    "    'n_neighbors':[3,5,7,9,12,13,15,17,21],\n",
    "    'algorithm' : ['auto', 'ball_tree', 'kd_tree', 'brute'],\n",
    "    'leaf_size' : [10 , 15 , 20 , 25 , 30 , 35 , 45 , 50 ],\n",
    "    'p' : [1,2],\n",
    "    'weights' : ['uniform', 'distance']\n",
    "    \n",
    "    \n",
    "    \n",
    "}"
   ]
  },
  {
   "cell_type": "code",
   "execution_count": 37,
   "id": "590a8412",
   "metadata": {},
   "outputs": [
    {
     "name": "stdout",
     "output_type": "stream",
     "text": [
      "Fitting 5 folds for each of 1152 candidates, totalling 5760 fits\n"
     ]
    },
    {
     "data": {
      "text/plain": [
       "GridSearchCV(cv=5, estimator=KNeighborsClassifier(), n_jobs=-1,\n",
       "             param_grid={'algorithm': ['auto', 'ball_tree', 'kd_tree', 'brute'],\n",
       "                         'leaf_size': [10, 15, 20, 25, 30, 35, 45, 50],\n",
       "                         'n_neighbors': [3, 5, 7, 9, 12, 13, 15, 17, 21],\n",
       "                         'p': [1, 2], 'weights': ['uniform', 'distance']},\n",
       "             verbose=1)"
      ]
     },
     "execution_count": 37,
     "metadata": {},
     "output_type": "execute_result"
    }
   ],
   "source": [
    "grid_serach_knn = GridSearchCV(param_grid= pram, cv = 5 , n_jobs=-1,verbose=1 ,estimator = knn)\n",
    "grid_serach_knn.fit(x_train,y_train)"
   ]
  },
  {
   "cell_type": "code",
   "execution_count": 39,
   "id": "a0fdf711",
   "metadata": {},
   "outputs": [
    {
     "data": {
      "text/plain": [
       "{'algorithm': 'auto',\n",
       " 'leaf_size': 10,\n",
       " 'n_neighbors': 3,\n",
       " 'p': 1,\n",
       " 'weights': 'distance'}"
      ]
     },
     "execution_count": 39,
     "metadata": {},
     "output_type": "execute_result"
    }
   ],
   "source": [
    "grid_serach_knn.best_params_"
   ]
  },
  {
   "cell_type": "code",
   "execution_count": 67,
   "id": "51eea9af",
   "metadata": {},
   "outputs": [
    {
     "data": {
      "text/plain": [
       "KNeighborsClassifier(leaf_size=10, n_neighbors=3, p=1, weights='distance')"
      ]
     },
     "execution_count": 67,
     "metadata": {},
     "output_type": "execute_result"
    }
   ],
   "source": [
    "knn = KNeighborsClassifier(algorithm='auto',leaf_size=10,n_neighbors=3,p=1,weights='distance')\n",
    "knn.fit(x_train,y_train)"
   ]
  },
  {
   "cell_type": "code",
   "execution_count": 68,
   "id": "24154088",
   "metadata": {},
   "outputs": [
    {
     "name": "stdout",
     "output_type": "stream",
     "text": [
      "[[3723    0]\n",
      " [   0 3745]]\n",
      "1.0\n",
      "              precision    recall  f1-score   support\n",
      "\n",
      "           0       1.00      1.00      1.00      3723\n",
      "           1       1.00      1.00      1.00      3745\n",
      "\n",
      "    accuracy                           1.00      7468\n",
      "   macro avg       1.00      1.00      1.00      7468\n",
      "weighted avg       1.00      1.00      1.00      7468\n",
      "\n"
     ]
    }
   ],
   "source": [
    "predictions=knn.predict(x_train)\n",
    "print(confusion_matrix(y_train,predictions))\n",
    "print(accuracy_score(y_train,predictions))\n",
    "print(classification_report(y_train,predictions))"
   ]
  },
  {
   "cell_type": "code",
   "execution_count": 69,
   "id": "9f42f74b",
   "metadata": {},
   "outputs": [
    {
     "name": "stdout",
     "output_type": "stream",
     "text": [
      "[[645 300]\n",
      " [130 793]]\n",
      "0.7698072805139187\n",
      "              precision    recall  f1-score   support\n",
      "\n",
      "           0       0.83      0.68      0.75       945\n",
      "           1       0.73      0.86      0.79       923\n",
      "\n",
      "    accuracy                           0.77      1868\n",
      "   macro avg       0.78      0.77      0.77      1868\n",
      "weighted avg       0.78      0.77      0.77      1868\n",
      "\n"
     ]
    }
   ],
   "source": [
    "prediction=knn.predict(x_test)\n",
    "print(confusion_matrix(y_test,prediction))\n",
    "print(accuracy_score(y_test,prediction))\n",
    "print(classification_report(y_test,prediction))"
   ]
  },
  {
   "cell_type": "code",
   "execution_count": null,
   "id": "8f9c5580",
   "metadata": {},
   "outputs": [],
   "source": []
  },
  {
   "cell_type": "code",
   "execution_count": 43,
   "id": "86882a38",
   "metadata": {},
   "outputs": [],
   "source": [
    "knnn=KNeighborsClassifier()"
   ]
  },
  {
   "cell_type": "code",
   "execution_count": 46,
   "id": "c87f00a4",
   "metadata": {},
   "outputs": [],
   "source": [
    "pram  = {\n",
    "    'n_neighbors':[3,5,7,9,12,13,15],\n",
    "    'metric' :['minkowski','euclidean','manhattan'],\n",
    "    'weights' :['uniform', 'distance']\n",
    "}"
   ]
  },
  {
   "cell_type": "code",
   "execution_count": 47,
   "id": "48d34b5c",
   "metadata": {},
   "outputs": [
    {
     "name": "stdout",
     "output_type": "stream",
     "text": [
      "Fitting 3 folds for each of 42 candidates, totalling 126 fits\n"
     ]
    },
    {
     "data": {
      "text/plain": [
       "GridSearchCV(cv=3,\n",
       "             estimator=KNeighborsClassifier(leaf_size=10, n_neighbors=3, p=1,\n",
       "                                            weights='distance'),\n",
       "             n_jobs=-1,\n",
       "             param_grid={'metric': ['minkowski', 'euclidean', 'manhattan'],\n",
       "                         'n_neighbors': [3, 5, 7, 9, 12, 13, 15],\n",
       "                         'weights': ['uniform', 'distance']},\n",
       "             verbose=1)"
      ]
     },
     "execution_count": 47,
     "metadata": {},
     "output_type": "execute_result"
    }
   ],
   "source": [
    "grid_serach_knn = GridSearchCV(param_grid= pram, cv = 3 , n_jobs=-1,verbose=1 ,estimator = knn)\n",
    "grid_serach_knn.fit(x_train,y_train)"
   ]
  },
  {
   "cell_type": "code",
   "execution_count": 48,
   "id": "369a97bd",
   "metadata": {},
   "outputs": [
    {
     "data": {
      "text/plain": [
       "{'metric': 'euclidean', 'n_neighbors': 3, 'weights': 'distance'}"
      ]
     },
     "execution_count": 48,
     "metadata": {},
     "output_type": "execute_result"
    }
   ],
   "source": [
    "grid_serach_knn.best_params_"
   ]
  },
  {
   "cell_type": "code",
   "execution_count": 55,
   "id": "1cc6d478",
   "metadata": {},
   "outputs": [
    {
     "data": {
      "text/plain": [
       "KNeighborsClassifier(metric='euclidean', n_neighbors=3, weights='distance')"
      ]
     },
     "execution_count": 55,
     "metadata": {},
     "output_type": "execute_result"
    }
   ],
   "source": [
    "knnn=KNeighborsClassifier(metric = 'euclidean', n_neighbors = 3, weights = 'distance',algorithm='auto',p=2)\n",
    "knnn.fit(x_train,y_train)"
   ]
  },
  {
   "cell_type": "code",
   "execution_count": 72,
   "id": "9a931dbd",
   "metadata": {},
   "outputs": [
    {
     "data": {
      "text/plain": [
       "1.0"
      ]
     },
     "execution_count": 72,
     "metadata": {},
     "output_type": "execute_result"
    }
   ],
   "source": [
    "knnn.score(x_train,y_train)"
   ]
  },
  {
   "cell_type": "code",
   "execution_count": 57,
   "id": "5951ddb2",
   "metadata": {},
   "outputs": [
    {
     "data": {
      "text/plain": [
       "0.7682012847965739"
      ]
     },
     "execution_count": 57,
     "metadata": {},
     "output_type": "execute_result"
    }
   ],
   "source": [
    "knnn.score(x_test,y_test)"
   ]
  },
  {
   "cell_type": "code",
   "execution_count": null,
   "id": "22007491",
   "metadata": {},
   "outputs": [],
   "source": []
  },
  {
   "cell_type": "code",
   "execution_count": null,
   "id": "122ee87b",
   "metadata": {},
   "outputs": [],
   "source": []
  },
  {
   "cell_type": "markdown",
   "id": "5ac03b92",
   "metadata": {},
   "source": [
    "# xgboost"
   ]
  },
  {
   "cell_type": "code",
   "execution_count": 50,
   "id": "e94c461c",
   "metadata": {},
   "outputs": [],
   "source": [
    "import xgboost"
   ]
  },
  {
   "cell_type": "code",
   "execution_count": 51,
   "id": "e06c0227",
   "metadata": {},
   "outputs": [],
   "source": [
    "## Hyper Parameter Optimization\n",
    "\n",
    "params={\n",
    " \"learning_rate\"    : [0.05, 0.10, 0.15, 0.20, 0.25, 0.30 ] ,\n",
    " \"max_depth\"        : [ 3, 4, 5, 6, 8, 10, 12, 15],\n",
    " \"min_child_weight\" : [ 1, 3, 5, 7 ],\n",
    " \"gamma\"            : [ 0.0, 0.1, 0.2 , 0.3, 0.4 ],\n",
    " \"colsample_bytree\" : [ 0.3, 0.4, 0.5 , 0.7 ]\n",
    "    \n",
    "}"
   ]
  },
  {
   "cell_type": "code",
   "execution_count": 52,
   "id": "1a36ec1e",
   "metadata": {},
   "outputs": [],
   "source": [
    "def timer(start_time=None):\n",
    "    if not start_time:\n",
    "        start_time = datetime.now()\n",
    "        return start_time\n",
    "    elif start_time:\n",
    "        thour, temp_sec = divmod((datetime.now() - start_time).total_seconds(), 3600)\n",
    "        tmin, tsec = divmod(temp_sec, 60)\n",
    "        print('\\n Time taken: %i hours %i minutes and %s seconds.' % (thour, tmin, round(tsec, 2)))"
   ]
  },
  {
   "cell_type": "code",
   "execution_count": 53,
   "id": "4a1eebf3",
   "metadata": {},
   "outputs": [],
   "source": [
    "classifier=xgboost.XGBClassifier()"
   ]
  },
  {
   "cell_type": "code",
   "execution_count": 54,
   "id": "68780a04",
   "metadata": {},
   "outputs": [],
   "source": [
    "random_search=RandomizedSearchCV(classifier,param_distributions=params,n_iter=5,scoring='roc_auc',n_jobs=-1,cv=5,verbose=3)"
   ]
  },
  {
   "cell_type": "code",
   "execution_count": 55,
   "id": "de75d7b1",
   "metadata": {},
   "outputs": [
    {
     "name": "stdout",
     "output_type": "stream",
     "text": [
      "Fitting 5 folds for each of 5 candidates, totalling 25 fits\n"
     ]
    },
    {
     "name": "stderr",
     "output_type": "stream",
     "text": [
      "C:\\Users\\ASUS-PC\\anaconda3\\lib\\site-packages\\xgboost\\sklearn.py:1224: UserWarning: The use of label encoder in XGBClassifier is deprecated and will be removed in a future release. To remove this warning, do the following: 1) Pass option use_label_encoder=False when constructing XGBClassifier object; and 2) Encode your labels (y) as integers starting with 0, i.e. 0, 1, 2, ..., [num_class - 1].\n",
      "  warnings.warn(label_encoder_deprecation_msg, UserWarning)\n"
     ]
    },
    {
     "name": "stdout",
     "output_type": "stream",
     "text": [
      "[17:50:33] WARNING: C:/Users/Administrator/workspace/xgboost-win64_release_1.5.0/src/learner.cc:1115: Starting in XGBoost 1.3.0, the default evaluation metric used with the objective 'binary:logistic' was changed from 'error' to 'logloss'. Explicitly set eval_metric if you'd like to restore the old behavior.\n",
      "\n",
      " Time taken: 0 hours 0 minutes and 10.52 seconds.\n"
     ]
    }
   ],
   "source": [
    "from datetime import datetime\n",
    "# Here we go\n",
    "start_time = timer(None) # timing starts from this point for \"start_time\" variable\n",
    "random_search.fit(x_train,y_train)\n",
    "timer(start_time) # timing ends here for \"start_time\" variable"
   ]
  },
  {
   "cell_type": "code",
   "execution_count": 56,
   "id": "4b6da9ba",
   "metadata": {},
   "outputs": [
    {
     "data": {
      "text/plain": [
       "XGBClassifier(base_score=0.5, booster='gbtree', colsample_bylevel=1,\n",
       "              colsample_bynode=1, colsample_bytree=0.5,\n",
       "              enable_categorical=False, gamma=0.0, gpu_id=-1,\n",
       "              importance_type=None, interaction_constraints='',\n",
       "              learning_rate=0.3, max_delta_step=0, max_depth=15,\n",
       "              min_child_weight=3, missing=nan, monotone_constraints='()',\n",
       "              n_estimators=100, n_jobs=4, num_parallel_tree=1, predictor='auto',\n",
       "              random_state=0, reg_alpha=0, reg_lambda=1, scale_pos_weight=1,\n",
       "              subsample=1, tree_method='exact', validate_parameters=1,\n",
       "              verbosity=None)"
      ]
     },
     "execution_count": 56,
     "metadata": {},
     "output_type": "execute_result"
    }
   ],
   "source": [
    "random_search.best_estimator_"
   ]
  },
  {
   "cell_type": "code",
   "execution_count": 57,
   "id": "4e1b806d",
   "metadata": {},
   "outputs": [
    {
     "data": {
      "text/plain": [
       "{'min_child_weight': 3,\n",
       " 'max_depth': 15,\n",
       " 'learning_rate': 0.3,\n",
       " 'gamma': 0.0,\n",
       " 'colsample_bytree': 0.5}"
      ]
     },
     "execution_count": 57,
     "metadata": {},
     "output_type": "execute_result"
    }
   ],
   "source": [
    "random_search.best_params_"
   ]
  },
  {
   "cell_type": "code",
   "execution_count": 58,
   "id": "fc8031ec",
   "metadata": {},
   "outputs": [],
   "source": [
    "classifier=xgboost.XGBClassifier(min_child_weight = 3,max_depth = 15,learning_rate = 0.3,gamma = 0.0,colsample_bytree = 0.5)"
   ]
  },
  {
   "cell_type": "code",
   "execution_count": 59,
   "id": "dc400a1b",
   "metadata": {},
   "outputs": [
    {
     "name": "stdout",
     "output_type": "stream",
     "text": [
      "[17:52:10] WARNING: C:/Users/Administrator/workspace/xgboost-win64_release_1.5.0/src/learner.cc:1115: Starting in XGBoost 1.3.0, the default evaluation metric used with the objective 'binary:logistic' was changed from 'error' to 'logloss'. Explicitly set eval_metric if you'd like to restore the old behavior.\n"
     ]
    },
    {
     "data": {
      "text/plain": [
       "XGBClassifier(base_score=0.5, booster='gbtree', colsample_bylevel=1,\n",
       "              colsample_bynode=1, colsample_bytree=0.5,\n",
       "              enable_categorical=False, gamma=0.0, gpu_id=-1,\n",
       "              importance_type=None, interaction_constraints='',\n",
       "              learning_rate=0.3, max_delta_step=0, max_depth=15,\n",
       "              min_child_weight=3, missing=nan, monotone_constraints='()',\n",
       "              n_estimators=100, n_jobs=4, num_parallel_tree=1, predictor='auto',\n",
       "              random_state=0, reg_alpha=0, reg_lambda=1, scale_pos_weight=1,\n",
       "              subsample=1, tree_method='exact', validate_parameters=1,\n",
       "              verbosity=None)"
      ]
     },
     "execution_count": 59,
     "metadata": {},
     "output_type": "execute_result"
    }
   ],
   "source": [
    "classifier.fit(x_train,y_train)"
   ]
  },
  {
   "cell_type": "code",
   "execution_count": 60,
   "id": "69570fb9",
   "metadata": {},
   "outputs": [
    {
     "data": {
      "text/plain": [
       "0.9792447777182646"
      ]
     },
     "execution_count": 60,
     "metadata": {},
     "output_type": "execute_result"
    }
   ],
   "source": [
    "classifier.score(x_train,y_train)"
   ]
  },
  {
   "cell_type": "code",
   "execution_count": 61,
   "id": "a7243e27",
   "metadata": {},
   "outputs": [
    {
     "data": {
      "text/plain": [
       "0.8372591006423983"
      ]
     },
     "execution_count": 61,
     "metadata": {},
     "output_type": "execute_result"
    }
   ],
   "source": [
    "classifier.score(x_test,y_test)"
   ]
  },
  {
   "cell_type": "code",
   "execution_count": 62,
   "id": "cccfa506",
   "metadata": {},
   "outputs": [
    {
     "name": "stdout",
     "output_type": "stream",
     "text": [
      "[[3697   26]\n",
      " [ 129 3616]]\n",
      "0.9792447777182646\n",
      "              precision    recall  f1-score   support\n",
      "\n",
      "           0       0.97      0.99      0.98      3723\n",
      "           1       0.99      0.97      0.98      3745\n",
      "\n",
      "    accuracy                           0.98      7468\n",
      "   macro avg       0.98      0.98      0.98      7468\n",
      "weighted avg       0.98      0.98      0.98      7468\n",
      "\n"
     ]
    }
   ],
   "source": [
    "predictions=classifier.predict(x_train)\n",
    "print(confusion_matrix(y_train,predictions))\n",
    "print(accuracy_score(y_train,predictions))\n",
    "print(classification_report(y_train,predictions))"
   ]
  },
  {
   "cell_type": "code",
   "execution_count": 63,
   "id": "4c527442",
   "metadata": {},
   "outputs": [
    {
     "name": "stdout",
     "output_type": "stream",
     "text": [
      "[[822 123]\n",
      " [181 742]]\n",
      "0.8372591006423983\n",
      "              precision    recall  f1-score   support\n",
      "\n",
      "           0       0.82      0.87      0.84       945\n",
      "           1       0.86      0.80      0.83       923\n",
      "\n",
      "    accuracy                           0.84      1868\n",
      "   macro avg       0.84      0.84      0.84      1868\n",
      "weighted avg       0.84      0.84      0.84      1868\n",
      "\n"
     ]
    }
   ],
   "source": [
    "prediction=classifier.predict(x_test)\n",
    "print(confusion_matrix(y_test,prediction))\n",
    "print(accuracy_score(y_test,prediction))\n",
    "print(classification_report(y_test,prediction))"
   ]
  },
  {
   "cell_type": "markdown",
   "id": "07d50727",
   "metadata": {},
   "source": [
    "# naive Bayes"
   ]
  },
  {
   "cell_type": "code",
   "execution_count": 65,
   "id": "a44e060e",
   "metadata": {},
   "outputs": [],
   "source": [
    "from sklearn.naive_bayes import GaussianNB\n",
    "from sklearn.model_selection import train_test_split,GridSearchCV,StratifiedKFold"
   ]
  },
  {
   "cell_type": "code",
   "execution_count": 66,
   "id": "bc0fbc94",
   "metadata": {},
   "outputs": [],
   "source": [
    "nb_classifier = GaussianNB()"
   ]
  },
  {
   "cell_type": "code",
   "execution_count": 66,
   "id": "a9407134",
   "metadata": {},
   "outputs": [],
   "source": [
    "cv_method = StratifiedKFold(n_splits=5)\n",
    "params_NB = {'var_smoothing': np.logspace(0,-9, num=100)}"
   ]
  },
  {
   "cell_type": "code",
   "execution_count": 67,
   "id": "b1002ebd",
   "metadata": {},
   "outputs": [
    {
     "name": "stdout",
     "output_type": "stream",
     "text": [
      "Fitting 5 folds for each of 100 candidates, totalling 500 fits\n"
     ]
    },
    {
     "data": {
      "text/plain": [
       "GridSearchCV(cv=StratifiedKFold(n_splits=5, random_state=None, shuffle=False),\n",
       "             estimator=GaussianNB(),\n",
       "             param_grid={'var_smoothing': array([1.00000000e+00, 8.11130831e-01, 6.57933225e-01, 5.33669923e-01,\n",
       "       4.32876128e-01, 3.51119173e-01, 2.84803587e-01, 2.31012970e-01,\n",
       "       1.87381742e-01, 1.51991108e-01, 1.23284674e-01, 1.00000000e-01,\n",
       "       8.11130831e-02, 6.57933225e-02, 5.3366...\n",
       "       1.23284674e-07, 1.00000000e-07, 8.11130831e-08, 6.57933225e-08,\n",
       "       5.33669923e-08, 4.32876128e-08, 3.51119173e-08, 2.84803587e-08,\n",
       "       2.31012970e-08, 1.87381742e-08, 1.51991108e-08, 1.23284674e-08,\n",
       "       1.00000000e-08, 8.11130831e-09, 6.57933225e-09, 5.33669923e-09,\n",
       "       4.32876128e-09, 3.51119173e-09, 2.84803587e-09, 2.31012970e-09,\n",
       "       1.87381742e-09, 1.51991108e-09, 1.23284674e-09, 1.00000000e-09])},\n",
       "             scoring='f1', verbose=1)"
      ]
     },
     "execution_count": 67,
     "metadata": {},
     "output_type": "execute_result"
    }
   ],
   "source": [
    "grid_search = GridSearchCV(estimator=nb_classifier, \n",
    "                 param_grid=params_NB, \n",
    "                 cv=cv_method,   # use any cross validation technique \n",
    "                 verbose=1, \n",
    "                 scoring='f1') \n",
    "grid_search.fit(x_train, y_train)"
   ]
  },
  {
   "cell_type": "code",
   "execution_count": 68,
   "id": "c8aba88a",
   "metadata": {},
   "outputs": [
    {
     "data": {
      "text/plain": [
       "{'var_smoothing': 0.0005336699231206307}"
      ]
     },
     "execution_count": 68,
     "metadata": {},
     "output_type": "execute_result"
    }
   ],
   "source": [
    "grid_search.best_params_"
   ]
  },
  {
   "cell_type": "code",
   "execution_count": 73,
   "id": "2812bdbb",
   "metadata": {},
   "outputs": [],
   "source": [
    "nb_classifier = GaussianNB(var_smoothing = 1e-09)"
   ]
  },
  {
   "cell_type": "code",
   "execution_count": 79,
   "id": "68445be9",
   "metadata": {},
   "outputs": [
    {
     "data": {
      "text/plain": [
       "GaussianNB()"
      ]
     },
     "execution_count": 79,
     "metadata": {},
     "output_type": "execute_result"
    }
   ],
   "source": [
    "nb_classifier.fit(x_train, y_train)"
   ]
  },
  {
   "cell_type": "code",
   "execution_count": 58,
   "id": "45019512",
   "metadata": {},
   "outputs": [
    {
     "name": "stdout",
     "output_type": "stream",
     "text": [
      "[[2083  986]\n",
      " [1539 1472]]\n",
      "0.584703947368421\n",
      "              precision    recall  f1-score   support\n",
      "\n",
      "           0       0.58      0.68      0.62      3069\n",
      "           1       0.60      0.49      0.54      3011\n",
      "\n",
      "    accuracy                           0.58      6080\n",
      "   macro avg       0.59      0.58      0.58      6080\n",
      "weighted avg       0.59      0.58      0.58      6080\n",
      "\n"
     ]
    }
   ],
   "source": [
    "nb_predictions=nb_classifier.predict(x_train)\n",
    "print(confusion_matrix(y_train,nb_predictions))\n",
    "print(accuracy_score(y_train,nb_predictions))\n",
    "print(classification_report(y_train,nb_predictions))"
   ]
  },
  {
   "cell_type": "code",
   "execution_count": 59,
   "id": "e15791f4",
   "metadata": {},
   "outputs": [
    {
     "name": "stdout",
     "output_type": "stream",
     "text": [
      "[[487 244]\n",
      " [409 380]]\n",
      "0.5703947368421053\n",
      "              precision    recall  f1-score   support\n",
      "\n",
      "           0       0.54      0.67      0.60       731\n",
      "           1       0.61      0.48      0.54       789\n",
      "\n",
      "    accuracy                           0.57      1520\n",
      "   macro avg       0.58      0.57      0.57      1520\n",
      "weighted avg       0.58      0.57      0.57      1520\n",
      "\n"
     ]
    }
   ],
   "source": [
    "nb_prediction=nb_classifier.predict(x_test)\n",
    "print(confusion_matrix(y_test,nb_prediction))\n",
    "print(accuracy_score(y_test,nb_prediction))\n",
    "print(classification_report(y_test,nb_prediction))"
   ]
  },
  {
   "cell_type": "markdown",
   "id": "400541fb",
   "metadata": {},
   "source": [
    "# prediction for new customer"
   ]
  },
  {
   "cell_type": "code",
   "execution_count": 83,
   "id": "96efb4db",
   "metadata": {},
   "outputs": [],
   "source": [
    "new_customer_=pd.read_csv(r'C:\\Users\\ASUS-PC\\Downloads\\test_lTY72QC.csv')"
   ]
  },
  {
   "cell_type": "code",
   "execution_count": 84,
   "id": "11abf8a1",
   "metadata": {},
   "outputs": [],
   "source": [
    "new_customer_.drop(['ID'],axis=1,inplace=True)"
   ]
  },
  {
   "cell_type": "code",
   "execution_count": 85,
   "id": "8a135a43",
   "metadata": {},
   "outputs": [
    {
     "data": {
      "text/html": [
       "<div>\n",
       "<style scoped>\n",
       "    .dataframe tbody tr th:only-of-type {\n",
       "        vertical-align: middle;\n",
       "    }\n",
       "\n",
       "    .dataframe tbody tr th {\n",
       "        vertical-align: top;\n",
       "    }\n",
       "\n",
       "    .dataframe thead th {\n",
       "        text-align: right;\n",
       "    }\n",
       "</style>\n",
       "<table border=\"1\" class=\"dataframe\">\n",
       "  <thead>\n",
       "    <tr style=\"text-align: right;\">\n",
       "      <th></th>\n",
       "      <th>Age</th>\n",
       "      <th>Balance</th>\n",
       "      <th>Vintage</th>\n",
       "      <th>Transaction_Status</th>\n",
       "      <th>Credit_Card</th>\n",
       "      <th>Gender_Female</th>\n",
       "      <th>Gender_Male</th>\n",
       "      <th>Income_10L - 15L</th>\n",
       "      <th>Income_5L - 10L</th>\n",
       "      <th>Income_Less than 5L</th>\n",
       "      <th>Income_More than 15L</th>\n",
       "      <th>Product_Holdings_1</th>\n",
       "      <th>Product_Holdings_2</th>\n",
       "      <th>Product_Holdings_3+</th>\n",
       "      <th>Credit_Category_Average</th>\n",
       "      <th>Credit_Category_Good</th>\n",
       "      <th>Credit_Category_Poor</th>\n",
       "    </tr>\n",
       "  </thead>\n",
       "  <tbody>\n",
       "    <tr>\n",
       "      <th>0</th>\n",
       "      <td>50</td>\n",
       "      <td>1008636.39</td>\n",
       "      <td>2</td>\n",
       "      <td>1</td>\n",
       "      <td>1</td>\n",
       "      <td>1</td>\n",
       "      <td>0</td>\n",
       "      <td>0</td>\n",
       "      <td>0</td>\n",
       "      <td>0</td>\n",
       "      <td>1</td>\n",
       "      <td>0</td>\n",
       "      <td>1</td>\n",
       "      <td>0</td>\n",
       "      <td>1</td>\n",
       "      <td>0</td>\n",
       "      <td>0</td>\n",
       "    </tr>\n",
       "    <tr>\n",
       "      <th>1</th>\n",
       "      <td>36</td>\n",
       "      <td>341460.72</td>\n",
       "      <td>2</td>\n",
       "      <td>0</td>\n",
       "      <td>1</td>\n",
       "      <td>0</td>\n",
       "      <td>1</td>\n",
       "      <td>0</td>\n",
       "      <td>1</td>\n",
       "      <td>0</td>\n",
       "      <td>0</td>\n",
       "      <td>0</td>\n",
       "      <td>1</td>\n",
       "      <td>0</td>\n",
       "      <td>1</td>\n",
       "      <td>0</td>\n",
       "      <td>0</td>\n",
       "    </tr>\n",
       "    <tr>\n",
       "      <th>2</th>\n",
       "      <td>25</td>\n",
       "      <td>439460.10</td>\n",
       "      <td>0</td>\n",
       "      <td>0</td>\n",
       "      <td>1</td>\n",
       "      <td>1</td>\n",
       "      <td>0</td>\n",
       "      <td>1</td>\n",
       "      <td>0</td>\n",
       "      <td>0</td>\n",
       "      <td>0</td>\n",
       "      <td>0</td>\n",
       "      <td>1</td>\n",
       "      <td>0</td>\n",
       "      <td>0</td>\n",
       "      <td>1</td>\n",
       "      <td>0</td>\n",
       "    </tr>\n",
       "    <tr>\n",
       "      <th>3</th>\n",
       "      <td>41</td>\n",
       "      <td>28581.93</td>\n",
       "      <td>0</td>\n",
       "      <td>1</td>\n",
       "      <td>1</td>\n",
       "      <td>0</td>\n",
       "      <td>1</td>\n",
       "      <td>0</td>\n",
       "      <td>0</td>\n",
       "      <td>1</td>\n",
       "      <td>0</td>\n",
       "      <td>0</td>\n",
       "      <td>1</td>\n",
       "      <td>0</td>\n",
       "      <td>0</td>\n",
       "      <td>0</td>\n",
       "      <td>1</td>\n",
       "    </tr>\n",
       "    <tr>\n",
       "      <th>4</th>\n",
       "      <td>48</td>\n",
       "      <td>1104540.03</td>\n",
       "      <td>2</td>\n",
       "      <td>1</td>\n",
       "      <td>0</td>\n",
       "      <td>0</td>\n",
       "      <td>1</td>\n",
       "      <td>0</td>\n",
       "      <td>0</td>\n",
       "      <td>0</td>\n",
       "      <td>1</td>\n",
       "      <td>0</td>\n",
       "      <td>0</td>\n",
       "      <td>1</td>\n",
       "      <td>0</td>\n",
       "      <td>1</td>\n",
       "      <td>0</td>\n",
       "    </tr>\n",
       "  </tbody>\n",
       "</table>\n",
       "</div>"
      ],
      "text/plain": [
       "   Age     Balance  Vintage  Transaction_Status  Credit_Card  Gender_Female  \\\n",
       "0   50  1008636.39        2                   1            1              1   \n",
       "1   36   341460.72        2                   0            1              0   \n",
       "2   25   439460.10        0                   0            1              1   \n",
       "3   41    28581.93        0                   1            1              0   \n",
       "4   48  1104540.03        2                   1            0              0   \n",
       "\n",
       "   Gender_Male  Income_10L - 15L  Income_5L - 10L  Income_Less than 5L  \\\n",
       "0            0                 0                0                    0   \n",
       "1            1                 0                1                    0   \n",
       "2            0                 1                0                    0   \n",
       "3            1                 0                0                    1   \n",
       "4            1                 0                0                    0   \n",
       "\n",
       "   Income_More than 15L  Product_Holdings_1  Product_Holdings_2  \\\n",
       "0                     1                   0                   1   \n",
       "1                     0                   0                   1   \n",
       "2                     0                   0                   1   \n",
       "3                     0                   0                   1   \n",
       "4                     1                   0                   0   \n",
       "\n",
       "   Product_Holdings_3+  Credit_Category_Average  Credit_Category_Good  \\\n",
       "0                    0                        1                     0   \n",
       "1                    0                        1                     0   \n",
       "2                    0                        0                     1   \n",
       "3                    0                        0                     0   \n",
       "4                    1                        0                     1   \n",
       "\n",
       "   Credit_Category_Poor  \n",
       "0                     0  \n",
       "1                     0  \n",
       "2                     0  \n",
       "3                     1  \n",
       "4                     0  "
      ]
     },
     "execution_count": 85,
     "metadata": {},
     "output_type": "execute_result"
    }
   ],
   "source": [
    "new_customer=pd.get_dummies(new_customer_)\n",
    "new_customer.head()"
   ]
  },
  {
   "cell_type": "code",
   "execution_count": 86,
   "id": "9de40330",
   "metadata": {},
   "outputs": [
    {
     "data": {
      "text/html": [
       "<div>\n",
       "<style scoped>\n",
       "    .dataframe tbody tr th:only-of-type {\n",
       "        vertical-align: middle;\n",
       "    }\n",
       "\n",
       "    .dataframe tbody tr th {\n",
       "        vertical-align: top;\n",
       "    }\n",
       "\n",
       "    .dataframe thead th {\n",
       "        text-align: right;\n",
       "    }\n",
       "</style>\n",
       "<table border=\"1\" class=\"dataframe\">\n",
       "  <thead>\n",
       "    <tr style=\"text-align: right;\">\n",
       "      <th></th>\n",
       "      <th>Age</th>\n",
       "      <th>Balance</th>\n",
       "      <th>Vintage</th>\n",
       "      <th>Transaction_Status</th>\n",
       "      <th>Credit_Card</th>\n",
       "      <th>Gender_Female</th>\n",
       "      <th>Gender_Male</th>\n",
       "      <th>Income_10L - 15L</th>\n",
       "      <th>Income_5L - 10L</th>\n",
       "      <th>Income_Less than 5L</th>\n",
       "      <th>Income_More than 15L</th>\n",
       "      <th>Product_Holdings_1</th>\n",
       "      <th>Product_Holdings_2</th>\n",
       "      <th>Product_Holdings_3+</th>\n",
       "      <th>Credit_Category_Average</th>\n",
       "      <th>Credit_Category_Good</th>\n",
       "      <th>Credit_Category_Poor</th>\n",
       "    </tr>\n",
       "  </thead>\n",
       "  <tbody>\n",
       "    <tr>\n",
       "      <th>0</th>\n",
       "      <td>0.568627</td>\n",
       "      <td>0.413891</td>\n",
       "      <td>2</td>\n",
       "      <td>1</td>\n",
       "      <td>1</td>\n",
       "      <td>1</td>\n",
       "      <td>0</td>\n",
       "      <td>0</td>\n",
       "      <td>0</td>\n",
       "      <td>0</td>\n",
       "      <td>1</td>\n",
       "      <td>0</td>\n",
       "      <td>1</td>\n",
       "      <td>0</td>\n",
       "      <td>1</td>\n",
       "      <td>0</td>\n",
       "      <td>0</td>\n",
       "    </tr>\n",
       "    <tr>\n",
       "      <th>1</th>\n",
       "      <td>0.294118</td>\n",
       "      <td>0.139709</td>\n",
       "      <td>2</td>\n",
       "      <td>0</td>\n",
       "      <td>1</td>\n",
       "      <td>0</td>\n",
       "      <td>1</td>\n",
       "      <td>0</td>\n",
       "      <td>1</td>\n",
       "      <td>0</td>\n",
       "      <td>0</td>\n",
       "      <td>0</td>\n",
       "      <td>1</td>\n",
       "      <td>0</td>\n",
       "      <td>1</td>\n",
       "      <td>0</td>\n",
       "      <td>0</td>\n",
       "    </tr>\n",
       "    <tr>\n",
       "      <th>2</th>\n",
       "      <td>0.078431</td>\n",
       "      <td>0.179983</td>\n",
       "      <td>0</td>\n",
       "      <td>0</td>\n",
       "      <td>1</td>\n",
       "      <td>1</td>\n",
       "      <td>0</td>\n",
       "      <td>1</td>\n",
       "      <td>0</td>\n",
       "      <td>0</td>\n",
       "      <td>0</td>\n",
       "      <td>0</td>\n",
       "      <td>1</td>\n",
       "      <td>0</td>\n",
       "      <td>0</td>\n",
       "      <td>1</td>\n",
       "      <td>0</td>\n",
       "    </tr>\n",
       "    <tr>\n",
       "      <th>3</th>\n",
       "      <td>0.392157</td>\n",
       "      <td>0.011128</td>\n",
       "      <td>0</td>\n",
       "      <td>1</td>\n",
       "      <td>1</td>\n",
       "      <td>0</td>\n",
       "      <td>1</td>\n",
       "      <td>0</td>\n",
       "      <td>0</td>\n",
       "      <td>1</td>\n",
       "      <td>0</td>\n",
       "      <td>0</td>\n",
       "      <td>1</td>\n",
       "      <td>0</td>\n",
       "      <td>0</td>\n",
       "      <td>0</td>\n",
       "      <td>1</td>\n",
       "    </tr>\n",
       "    <tr>\n",
       "      <th>4</th>\n",
       "      <td>0.529412</td>\n",
       "      <td>0.453303</td>\n",
       "      <td>2</td>\n",
       "      <td>1</td>\n",
       "      <td>0</td>\n",
       "      <td>0</td>\n",
       "      <td>1</td>\n",
       "      <td>0</td>\n",
       "      <td>0</td>\n",
       "      <td>0</td>\n",
       "      <td>1</td>\n",
       "      <td>0</td>\n",
       "      <td>0</td>\n",
       "      <td>1</td>\n",
       "      <td>0</td>\n",
       "      <td>1</td>\n",
       "      <td>0</td>\n",
       "    </tr>\n",
       "  </tbody>\n",
       "</table>\n",
       "</div>"
      ],
      "text/plain": [
       "        Age   Balance  Vintage  Transaction_Status  Credit_Card  \\\n",
       "0  0.568627  0.413891        2                   1            1   \n",
       "1  0.294118  0.139709        2                   0            1   \n",
       "2  0.078431  0.179983        0                   0            1   \n",
       "3  0.392157  0.011128        0                   1            1   \n",
       "4  0.529412  0.453303        2                   1            0   \n",
       "\n",
       "   Gender_Female  Gender_Male  Income_10L - 15L  Income_5L - 10L  \\\n",
       "0              1            0                 0                0   \n",
       "1              0            1                 0                1   \n",
       "2              1            0                 1                0   \n",
       "3              0            1                 0                0   \n",
       "4              0            1                 0                0   \n",
       "\n",
       "   Income_Less than 5L  Income_More than 15L  Product_Holdings_1  \\\n",
       "0                    0                     1                   0   \n",
       "1                    0                     0                   0   \n",
       "2                    0                     0                   0   \n",
       "3                    1                     0                   0   \n",
       "4                    0                     1                   0   \n",
       "\n",
       "   Product_Holdings_2  Product_Holdings_3+  Credit_Category_Average  \\\n",
       "0                   1                    0                        1   \n",
       "1                   1                    0                        1   \n",
       "2                   1                    0                        0   \n",
       "3                   1                    0                        0   \n",
       "4                   0                    1                        0   \n",
       "\n",
       "   Credit_Category_Good  Credit_Category_Poor  \n",
       "0                     0                     0  \n",
       "1                     0                     0  \n",
       "2                     1                     0  \n",
       "3                     0                     1  \n",
       "4                     1                     0  "
      ]
     },
     "execution_count": 86,
     "metadata": {},
     "output_type": "execute_result"
    }
   ],
   "source": [
    "col_names = ['Age','Balance']\n",
    "features = new_customer[col_names]\n",
    "scaler =  MinMaxScaler().fit(features.values)\n",
    "features = scaler.transform(features.values)\n",
    "new_customer[col_names] = features\n",
    "new_customer.head()"
   ]
  },
  {
   "cell_type": "code",
   "execution_count": 87,
   "id": "e57c968e",
   "metadata": {},
   "outputs": [],
   "source": [
    "new_customer['Is_churn']=rf_new.predict(new_customer)"
   ]
  },
  {
   "cell_type": "code",
   "execution_count": 88,
   "id": "e3dfb40b",
   "metadata": {},
   "outputs": [
    {
     "data": {
      "text/html": [
       "<div>\n",
       "<style scoped>\n",
       "    .dataframe tbody tr th:only-of-type {\n",
       "        vertical-align: middle;\n",
       "    }\n",
       "\n",
       "    .dataframe tbody tr th {\n",
       "        vertical-align: top;\n",
       "    }\n",
       "\n",
       "    .dataframe thead th {\n",
       "        text-align: right;\n",
       "    }\n",
       "</style>\n",
       "<table border=\"1\" class=\"dataframe\">\n",
       "  <thead>\n",
       "    <tr style=\"text-align: right;\">\n",
       "      <th></th>\n",
       "      <th>Age</th>\n",
       "      <th>Balance</th>\n",
       "      <th>Vintage</th>\n",
       "      <th>Transaction_Status</th>\n",
       "      <th>Credit_Card</th>\n",
       "      <th>Gender_Female</th>\n",
       "      <th>Gender_Male</th>\n",
       "      <th>Income_10L - 15L</th>\n",
       "      <th>Income_5L - 10L</th>\n",
       "      <th>Income_Less than 5L</th>\n",
       "      <th>Income_More than 15L</th>\n",
       "      <th>Product_Holdings_1</th>\n",
       "      <th>Product_Holdings_2</th>\n",
       "      <th>Product_Holdings_3+</th>\n",
       "      <th>Credit_Category_Average</th>\n",
       "      <th>Credit_Category_Good</th>\n",
       "      <th>Credit_Category_Poor</th>\n",
       "      <th>Is_churn</th>\n",
       "    </tr>\n",
       "  </thead>\n",
       "  <tbody>\n",
       "    <tr>\n",
       "      <th>0</th>\n",
       "      <td>0.568627</td>\n",
       "      <td>0.413891</td>\n",
       "      <td>2</td>\n",
       "      <td>1</td>\n",
       "      <td>1</td>\n",
       "      <td>1</td>\n",
       "      <td>0</td>\n",
       "      <td>0</td>\n",
       "      <td>0</td>\n",
       "      <td>0</td>\n",
       "      <td>1</td>\n",
       "      <td>0</td>\n",
       "      <td>1</td>\n",
       "      <td>0</td>\n",
       "      <td>1</td>\n",
       "      <td>0</td>\n",
       "      <td>0</td>\n",
       "      <td>1</td>\n",
       "    </tr>\n",
       "    <tr>\n",
       "      <th>1</th>\n",
       "      <td>0.294118</td>\n",
       "      <td>0.139709</td>\n",
       "      <td>2</td>\n",
       "      <td>0</td>\n",
       "      <td>1</td>\n",
       "      <td>0</td>\n",
       "      <td>1</td>\n",
       "      <td>0</td>\n",
       "      <td>1</td>\n",
       "      <td>0</td>\n",
       "      <td>0</td>\n",
       "      <td>0</td>\n",
       "      <td>1</td>\n",
       "      <td>0</td>\n",
       "      <td>1</td>\n",
       "      <td>0</td>\n",
       "      <td>0</td>\n",
       "      <td>1</td>\n",
       "    </tr>\n",
       "    <tr>\n",
       "      <th>2</th>\n",
       "      <td>0.078431</td>\n",
       "      <td>0.179983</td>\n",
       "      <td>0</td>\n",
       "      <td>0</td>\n",
       "      <td>1</td>\n",
       "      <td>1</td>\n",
       "      <td>0</td>\n",
       "      <td>1</td>\n",
       "      <td>0</td>\n",
       "      <td>0</td>\n",
       "      <td>0</td>\n",
       "      <td>0</td>\n",
       "      <td>1</td>\n",
       "      <td>0</td>\n",
       "      <td>0</td>\n",
       "      <td>1</td>\n",
       "      <td>0</td>\n",
       "      <td>0</td>\n",
       "    </tr>\n",
       "    <tr>\n",
       "      <th>3</th>\n",
       "      <td>0.392157</td>\n",
       "      <td>0.011128</td>\n",
       "      <td>0</td>\n",
       "      <td>1</td>\n",
       "      <td>1</td>\n",
       "      <td>0</td>\n",
       "      <td>1</td>\n",
       "      <td>0</td>\n",
       "      <td>0</td>\n",
       "      <td>1</td>\n",
       "      <td>0</td>\n",
       "      <td>0</td>\n",
       "      <td>1</td>\n",
       "      <td>0</td>\n",
       "      <td>0</td>\n",
       "      <td>0</td>\n",
       "      <td>1</td>\n",
       "      <td>0</td>\n",
       "    </tr>\n",
       "    <tr>\n",
       "      <th>4</th>\n",
       "      <td>0.529412</td>\n",
       "      <td>0.453303</td>\n",
       "      <td>2</td>\n",
       "      <td>1</td>\n",
       "      <td>0</td>\n",
       "      <td>0</td>\n",
       "      <td>1</td>\n",
       "      <td>0</td>\n",
       "      <td>0</td>\n",
       "      <td>0</td>\n",
       "      <td>1</td>\n",
       "      <td>0</td>\n",
       "      <td>0</td>\n",
       "      <td>1</td>\n",
       "      <td>0</td>\n",
       "      <td>1</td>\n",
       "      <td>0</td>\n",
       "      <td>0</td>\n",
       "    </tr>\n",
       "  </tbody>\n",
       "</table>\n",
       "</div>"
      ],
      "text/plain": [
       "        Age   Balance  Vintage  Transaction_Status  Credit_Card  \\\n",
       "0  0.568627  0.413891        2                   1            1   \n",
       "1  0.294118  0.139709        2                   0            1   \n",
       "2  0.078431  0.179983        0                   0            1   \n",
       "3  0.392157  0.011128        0                   1            1   \n",
       "4  0.529412  0.453303        2                   1            0   \n",
       "\n",
       "   Gender_Female  Gender_Male  Income_10L - 15L  Income_5L - 10L  \\\n",
       "0              1            0                 0                0   \n",
       "1              0            1                 0                1   \n",
       "2              1            0                 1                0   \n",
       "3              0            1                 0                0   \n",
       "4              0            1                 0                0   \n",
       "\n",
       "   Income_Less than 5L  Income_More than 15L  Product_Holdings_1  \\\n",
       "0                    0                     1                   0   \n",
       "1                    0                     0                   0   \n",
       "2                    0                     0                   0   \n",
       "3                    1                     0                   0   \n",
       "4                    0                     1                   0   \n",
       "\n",
       "   Product_Holdings_2  Product_Holdings_3+  Credit_Category_Average  \\\n",
       "0                   1                    0                        1   \n",
       "1                   1                    0                        1   \n",
       "2                   1                    0                        0   \n",
       "3                   1                    0                        0   \n",
       "4                   0                    1                        0   \n",
       "\n",
       "   Credit_Category_Good  Credit_Category_Poor  Is_churn  \n",
       "0                     0                     0         1  \n",
       "1                     0                     0         1  \n",
       "2                     1                     0         0  \n",
       "3                     0                     1         0  \n",
       "4                     1                     0         0  "
      ]
     },
     "execution_count": 88,
     "metadata": {},
     "output_type": "execute_result"
    }
   ],
   "source": [
    "new_customer.head()"
   ]
  },
  {
   "cell_type": "code",
   "execution_count": 89,
   "id": "699dbb1e",
   "metadata": {},
   "outputs": [
    {
     "data": {
      "text/plain": [
       "0    1747\n",
       "1    1104\n",
       "Name: Is_churn, dtype: int64"
      ]
     },
     "execution_count": 89,
     "metadata": {},
     "output_type": "execute_result"
    }
   ],
   "source": [
    "new_customer.Is_churn.value_counts()"
   ]
  }
 ],
 "metadata": {
  "kernelspec": {
   "display_name": "Python 3",
   "language": "python",
   "name": "python3"
  },
  "language_info": {
   "codemirror_mode": {
    "name": "ipython",
    "version": 3
   },
   "file_extension": ".py",
   "mimetype": "text/x-python",
   "name": "python",
   "nbconvert_exporter": "python",
   "pygments_lexer": "ipython3",
   "version": "3.8.8"
  }
 },
 "nbformat": 4,
 "nbformat_minor": 5
}
